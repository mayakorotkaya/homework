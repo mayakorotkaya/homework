{
  "nbformat": 4,
  "nbformat_minor": 0,
  "metadata": {
    "colab": {
      "name": "NLP_hw3.ipynb",
      "provenance": []
    },
    "kernelspec": {
      "name": "python3",
      "display_name": "Python 3"
    }
  },
  "cells": [
    {
      "cell_type": "markdown",
      "metadata": {
        "id": "4JpyYpGSUb6-",
        "colab_type": "text"
      },
      "source": [
        "# Домашнее задание 3. Разрешение семантической многозначности.\n",
        "\n",
        "При выполнении домашнего задания можно пользоваться тетрадками с семинаров.\n",
        "\n",
        "### Описание задания:\n",
        "\n",
        "Выберите одну из предложенных лексем: свет, острый, лук, замок.\n",
        "\n",
        "1. Выберите 2-3 значения лексемы по словарю (рекомендую использовать [МАС](http://feb-web.ru/feb/mas/mas-abc/), обязательно напишите, каким словарем пользовались).\n",
        "Для каждого значения придумайте несколько \"диагностических\" слов (которые сигнализируют о реализации одного из значений в контексте): \n",
        "например, _ключ_ — _вода_ / _дверь_. Подберите по НКРЯ контексты для выбранной лексемы, содержащие диагностические слова.\n",
        "Таким образом, получается размеченный тестсет.\n",
        "\n",
        "2. Для каждого контекста определите значение автоматически — с помощью AdaGram / ELMo на выбор.\n",
        "В случае с AdaGram вы сразу получаете какой-то номер значения, с ELMo — нужно кластеризовать.\n",
        "\n",
        "3. Возьмите словарные толкования для каждого значения и припишите ему значение автоматически\n",
        "тем же способом, что и в п.2.\n",
        "\n",
        "4. Придумайте и реализуйте способ соотнести толкования с значениями с помощью тезауруса (Wiki_ru_wordnet / РуТез). \n",
        "\n",
        "5. Оцените accuracy — в какой доле контекстов автоматически определенное значение для контекста совпадает \n",
        "с автоматически определенным значением толкования.\n",
        "\n",
        "### Критерии оценки:\n",
        "\n",
        "по 2 балла на каждый пункт\n",
        "\n",
        "### Формат сдачи задания:\n",
        "\n",
        "Jupyter-notebook на гитхабе.\n",
        "\n",
        "### Дедлайн: \n",
        "\n",
        "9 декабря 2019 10:00мск"
      ]
    },
    {
      "cell_type": "markdown",
      "metadata": {
        "id": "U8ZZNBl6UfUX",
        "colab_type": "text"
      },
      "source": [
        "Использую МАС"
      ]
    },
    {
      "cell_type": "markdown",
      "metadata": {
        "id": "rG0wcFu0UpT_",
        "colab_type": "text"
      },
      "source": [
        "ЛУК1, -а (-у), м.\n",
        "1. Огородное растение сем. лилейных, овощ.\n",
        "2. собир. Съедобные трубчатые листья или луковицы этого растения. Зеленый лук. Репчатый лук.\n",
        "\n",
        "#### Диагностические слова лук1:\n",
        "зеленый\n",
        "репчатый\n",
        "порезать\n",
        "жареный"
      ]
    },
    {
      "cell_type": "code",
      "metadata": {
        "id": "WOqDtY0rUxYa",
        "colab_type": "code",
        "colab": {}
      },
      "source": [
        "luk1 = ['А из зелени ничего нет, кроме лука зеленого и редиски, что мы и едим', 'Это хулиганская мачеха насадила огород на крыше, видишь, торчит морковь, петрушка и лук зеленый', 'После уборки редиса высаживают лук репчатый (выборок или репку), почти вплотную друг к другу', 'Значит, перчику красного ломтиками, луку репчатого, крупным кружком', ' И, действительно, на каждой стоянке, Бухарцы приготовляли плов, рис, морковь, баранину с салом, кишмиш, лук жареный, ― офицерам подавались даже курицы', 'Дым коромыслом, чад, суета, шипит что-то, луком жареным пахнет', ' Далее посыпать мясо слоем лука, порезанного колечками, и полить ложкой разведенного сока', 'Очищенные коренья и лук порезать, обжарить в масле до золотистого цвета']"
      ],
      "execution_count": 0,
      "outputs": []
    },
    {
      "cell_type": "code",
      "metadata": {
        "id": "v-okbJ1VU1U1",
        "colab_type": "code",
        "colab": {
          "base_uri": "https://localhost:8080/",
          "height": 34
        },
        "outputId": "ed0b8526-6514-4ece-a8db-d7424ea43d2c"
      },
      "source": [
        "len(luk1)"
      ],
      "execution_count": 10,
      "outputs": [
        {
          "output_type": "execute_result",
          "data": {
            "text/plain": [
              "8"
            ]
          },
          "metadata": {
            "tags": []
          },
          "execution_count": 10
        }
      ]
    },
    {
      "cell_type": "markdown",
      "metadata": {
        "id": "FHvu-kN6UvsS",
        "colab_type": "text"
      },
      "source": [
        "ЛУК2, -а, м. Ручное оружие для метания стрел в виде дуги, стянутой тетивой. Стрелять из лука. Всадник с натянутым луком мчался за семьей оленей. А. Кожевников, Живая вода.\n",
        "\n",
        "#### Диагностические слова лук2:\n",
        "стрелы колчан тетива натянуть"
      ]
    },
    {
      "cell_type": "code",
      "metadata": {
        "id": "-lc4GcR6U8jQ",
        "colab_type": "code",
        "colab": {}
      },
      "source": [
        "luk2 = ['У меня есть лук, несколько стрел, ручные нарты, маленький нож и топор', 'Взамен конфискованного ножа Коля решил сделать лук со стрелами', 'Два лука и колчан он поместил на моей спине, взвалил меня на плечи и побежал в лес', 'Убитый действительно держал в руке лук, хотя колчана у него на боку не было', 'На валах лучники гнули луки, насаживая тетиву', 'в одной из пещер сииртя был найден лук с тетивою, сплетенной из трав', ' вложи стрелу в лук твой и натяни его', ' Ероха вскинул лук, единым движением натянул и сронил с пальца тетиву']"
      ],
      "execution_count": 0,
      "outputs": []
    },
    {
      "cell_type": "code",
      "metadata": {
        "id": "6rRtzer7VAzJ",
        "colab_type": "code",
        "colab": {
          "base_uri": "https://localhost:8080/",
          "height": 34
        },
        "outputId": "c33ef480-a9c9-48b4-c102-3fc2b1865d46"
      },
      "source": [
        "len(luk2)"
      ],
      "execution_count": 12,
      "outputs": [
        {
          "output_type": "execute_result",
          "data": {
            "text/plain": [
              "8"
            ]
          },
          "metadata": {
            "tags": []
          },
          "execution_count": 12
        }
      ]
    },
    {
      "cell_type": "code",
      "metadata": {
        "id": "Dv-eJZDWTT6w",
        "colab_type": "code",
        "colab": {
          "base_uri": "https://localhost:8080/",
          "height": 275
        },
        "outputId": "2a427a9c-0448-4c8e-c079-5c38dc30b462"
      },
      "source": [
        "!pip3 install git+https://github.com/lopuhin/python-adagram.git"
      ],
      "execution_count": 6,
      "outputs": [
        {
          "output_type": "stream",
          "text": [
            "Collecting git+https://github.com/lopuhin/python-adagram.git\n",
            "  Cloning https://github.com/lopuhin/python-adagram.git to /tmp/pip-req-build-30tox6gv\n",
            "  Running command git clone -q https://github.com/lopuhin/python-adagram.git /tmp/pip-req-build-30tox6gv\n",
            "Requirement already satisfied: cython in /usr/local/lib/python3.6/dist-packages (from adagram==0.0.1) (0.29.14)\n",
            "Requirement already satisfied: joblib in /usr/local/lib/python3.6/dist-packages (from adagram==0.0.1) (0.14.0)\n",
            "Requirement already satisfied: numpy>=1.9 in /usr/local/lib/python3.6/dist-packages (from adagram==0.0.1) (1.17.4)\n",
            "Requirement already satisfied: six in /usr/local/lib/python3.6/dist-packages (from adagram==0.0.1) (1.12.0)\n",
            "Building wheels for collected packages: adagram\n",
            "  Building wheel for adagram (setup.py) ... \u001b[?25l\u001b[?25hdone\n",
            "  Created wheel for adagram: filename=adagram-0.0.1-cp36-cp36m-linux_x86_64.whl size=464580 sha256=bb75c443bd4233d1a9da7b3d94efdd95d6bfb9a09a8da71f1aaa6b312156c1c2\n",
            "  Stored in directory: /tmp/pip-ephem-wheel-cache-hadhxin6/wheels/11/0f/46/f5df96670df8f7973b4c2311ffc9b02e435a7bd3207f992c4d\n",
            "Successfully built adagram\n",
            "Installing collected packages: adagram\n",
            "Successfully installed adagram-0.0.1\n"
          ],
          "name": "stdout"
        }
      ]
    },
    {
      "cell_type": "code",
      "metadata": {
        "id": "DHUtLdhzTv1Y",
        "colab_type": "code",
        "colab": {}
      },
      "source": [
        "import adagram"
      ],
      "execution_count": 0,
      "outputs": []
    },
    {
      "cell_type": "code",
      "metadata": {
        "id": "Qhc-XbPHUBNB",
        "colab_type": "code",
        "colab": {}
      },
      "source": [
        "vm = adagram.VectorModel.load('all.a010.p10.d300.w5.m100.nonorm.slim.joblib')"
      ],
      "execution_count": 0,
      "outputs": []
    },
    {
      "cell_type": "code",
      "metadata": {
        "id": "ywPSkujnUGbn",
        "colab_type": "code",
        "colab": {
          "base_uri": "https://localhost:8080/",
          "height": 102
        },
        "outputId": "3e8b3413-2e73-4c3d-a8ad-e2f3f07bc7da"
      },
      "source": [
        "vm.word_sense_probs('лук')"
      ],
      "execution_count": 18,
      "outputs": [
        {
          "output_type": "execute_result",
          "data": {
            "text/plain": [
              "[(0, 0.27467387333364635),\n",
              " (1, 0.17510064513645113),\n",
              " (2, 0.25182447428150506),\n",
              " (3, 0.0852764349918363),\n",
              " (4, 0.2131232975158767)]"
            ]
          },
          "metadata": {
            "tags": []
          },
          "execution_count": 18
        }
      ]
    },
    {
      "cell_type": "code",
      "metadata": {
        "id": "geJHN7ljVbAA",
        "colab_type": "code",
        "colab": {
          "base_uri": "https://localhost:8080/",
          "height": 221
        },
        "outputId": "9a3bfb82-727e-41be-b953-401880593d57"
      },
      "source": [
        "vm.sense_neighbors('лук', 0)"
      ],
      "execution_count": 19,
      "outputs": [
        {
          "output_type": "stream",
          "text": [
            "/usr/local/lib/python3.6/dist-packages/adagram/model.py:124: RuntimeWarning: invalid value encountered in true_divide\n",
            "  sim_matrix = np.dot(self.In, s_v) / self.InNorms\n"
          ],
          "name": "stderr"
        },
        {
          "output_type": "execute_result",
          "data": {
            "text/plain": [
              "[('морковь', 0, 0.8814602),\n",
              " ('помидор', 0, 0.879848),\n",
              " ('лук-порей', 0, 0.8786377),\n",
              " ('зелень', 0, 0.872901),\n",
              " ('нарезать', 0, 0.8665899),\n",
              " ('нашинковывать', 0, 0.86500126),\n",
              " ('сельдерей', 0, 0.86482704),\n",
              " ('петрушка', 0, 0.8591249),\n",
              " ('мелко', 0, 0.8526903),\n",
              " ('нарубать', 0, 0.85126823)]"
            ]
          },
          "metadata": {
            "tags": []
          },
          "execution_count": 19
        }
      ]
    },
    {
      "cell_type": "code",
      "metadata": {
        "id": "6mU4RinKkJSD",
        "colab_type": "code",
        "colab": {
          "base_uri": "https://localhost:8080/",
          "height": 187
        },
        "outputId": "cd540a4e-560a-451f-8f93-91db55ed9bf9"
      },
      "source": [
        "vm.sense_neighbors('лук', 4)"
      ],
      "execution_count": 54,
      "outputs": [
        {
          "output_type": "execute_result",
          "data": {
            "text/plain": [
              "[('лука', 0, 0.805669),\n",
              " ('арбалет', 1, 0.78230816),\n",
              " ('колчан', 0, 0.7731788),\n",
              " ('тетива', 0, 0.72229147),\n",
              " ('стрела', 0, 0.6901984),\n",
              " ('копье', 0, 0.68338805),\n",
              " ('самострел', 0, 0.67639554),\n",
              " ('копье', 1, 0.6679108),\n",
              " ('секира', 0, 0.6648324),\n",
              " ('палица', 0, 0.6603637)]"
            ]
          },
          "metadata": {
            "tags": []
          },
          "execution_count": 54
        }
      ]
    },
    {
      "cell_type": "code",
      "metadata": {
        "id": "UPqwjEIJVqyn",
        "colab_type": "code",
        "colab": {
          "base_uri": "https://localhost:8080/",
          "height": 187
        },
        "outputId": "7170d815-b9c8-4875-999d-6d57dba96964"
      },
      "source": [
        "vm.sense_neighbors('лук', 3)"
      ],
      "execution_count": 71,
      "outputs": [
        {
          "output_type": "execute_result",
          "data": {
            "text/plain": [
              "[('лука', 1, 0.6011757),\n",
              " ('евангелист', 0, 0.54460436),\n",
              " ('иаков', 0, 0.5291651),\n",
              " ('лука', 2, 0.5226612),\n",
              " ('матфей', 1, 0.52241987),\n",
              " ('матфей', 0, 0.5201959),\n",
              " ('деяние', 1, 0.50425464),\n",
              " ('иоанн', 2, 0.50399673),\n",
              " ('апостол', 1, 0.49078336),\n",
              " ('ириней', 1, 0.49005806)]"
            ]
          },
          "metadata": {
            "tags": []
          },
          "execution_count": 71
        }
      ]
    },
    {
      "cell_type": "markdown",
      "metadata": {
        "id": "5jCpj8qSpZt_",
        "colab_type": "text"
      },
      "source": [
        "Значения 0 и 2 соответствуют значению ЛУК1 (овощ), так как соседние по смыслу слова (помидор, сельдерей) входят в множество овощей; значения 1 и 4 соответствуют значению ЛУК2 (оружие), так как арбалет, копье и проч в тезаурусе ниже оружия и в значении ЛУК2 главное слово - оружие."
      ]
    },
    {
      "cell_type": "markdown",
      "metadata": {
        "id": "Y5yxYiBqxevR",
        "colab_type": "text"
      },
      "source": [
        "(это надо было сделать в пункте 4? Ниже еще один вариант)"
      ]
    },
    {
      "cell_type": "code",
      "metadata": {
        "id": "E_m_0_ZqVvyt",
        "colab_type": "code",
        "colab": {
          "base_uri": "https://localhost:8080/",
          "height": 51
        },
        "outputId": "fea9dd0e-e4b2-40cf-f01c-080fc4d2b662"
      },
      "source": [
        "import re\n",
        "import nltk\n",
        "from nltk.tokenize import RegexpTokenizer\n",
        "tokenizer = RegexpTokenizer(r'\\w+')\n",
        "nltk.download(\"stopwords\")\n",
        "from nltk.corpus import stopwords\n",
        "russian_stopwords = stopwords.words(\"russian\")\n",
        "import pymorphy2\n",
        "morph = pymorphy2.MorphAnalyzer()\n",
        "import warnings\n",
        "warnings.filterwarnings('ignore')\n",
        "import numpy as np\n",
        "\n",
        "def normalize_pm(text):\n",
        "    words = [morph.parse(word)[0].normal_form for word in tokenize(text) if word]\n",
        "    return words\n",
        "\n",
        "def tokenize(text):\n",
        "    return token.tokenize(text)"
      ],
      "execution_count": 37,
      "outputs": [
        {
          "output_type": "stream",
          "text": [
            "[nltk_data] Downloading package stopwords to /root/nltk_data...\n",
            "[nltk_data]   Package stopwords is already up-to-date!\n"
          ],
          "name": "stdout"
        }
      ]
    },
    {
      "cell_type": "code",
      "metadata": {
        "id": "jlOA9q_0cFMX",
        "colab_type": "code",
        "colab": {}
      },
      "source": [
        "meanings1 = []\n",
        "for i in range(len(luk1)):\n",
        "  means = vm.disambiguate('лук', normalize_pm(luk1[i]))\n",
        "  meanings1.append(np.argmax(means))\n",
        "  meanings1.append(vm.sense_neighbors('лук', np.argmax(means)))"
      ],
      "execution_count": 0,
      "outputs": []
    },
    {
      "cell_type": "code",
      "metadata": {
        "id": "z2k-EXDYkxb8",
        "colab_type": "code",
        "colab": {
          "base_uri": "https://localhost:8080/",
          "height": 1000
        },
        "outputId": "b21f9aed-41e9-4b03-eb1c-30bfdc9ea36c"
      },
      "source": [
        "meanings1"
      ],
      "execution_count": 60,
      "outputs": [
        {
          "output_type": "execute_result",
          "data": {
            "text/plain": [
              "[2,\n",
              " [('чеснок', 1, 0.85911405),\n",
              "  ('морковь', 1, 0.81938416),\n",
              "  ('картошка', 0, 0.8175392),\n",
              "  ('гриб', 0, 0.8077784),\n",
              "  ('лучок', 0, 0.802615),\n",
              "  ('рубленый', 0, 0.7972997),\n",
              "  ('морковка', 0, 0.79638934),\n",
              "  ('помидор', 2, 0.792623),\n",
              "  ('томат', 0, 0.7870822),\n",
              "  ('перец', 1, 0.78552675)],\n",
              " 2,\n",
              " [('чеснок', 1, 0.85911405),\n",
              "  ('морковь', 1, 0.81938416),\n",
              "  ('картошка', 0, 0.8175392),\n",
              "  ('гриб', 0, 0.8077784),\n",
              "  ('лучок', 0, 0.802615),\n",
              "  ('рубленый', 0, 0.7972997),\n",
              "  ('морковка', 0, 0.79638934),\n",
              "  ('помидор', 2, 0.792623),\n",
              "  ('томат', 0, 0.7870822),\n",
              "  ('перец', 1, 0.78552675)],\n",
              " 2,\n",
              " [('чеснок', 1, 0.85911405),\n",
              "  ('морковь', 1, 0.81938416),\n",
              "  ('картошка', 0, 0.8175392),\n",
              "  ('гриб', 0, 0.8077784),\n",
              "  ('лучок', 0, 0.802615),\n",
              "  ('рубленый', 0, 0.7972997),\n",
              "  ('морковка', 0, 0.79638934),\n",
              "  ('помидор', 2, 0.792623),\n",
              "  ('томат', 0, 0.7870822),\n",
              "  ('перец', 1, 0.78552675)],\n",
              " 0,\n",
              " [('морковь', 0, 0.8814602),\n",
              "  ('помидор', 0, 0.879848),\n",
              "  ('лук-порей', 0, 0.8786377),\n",
              "  ('зелень', 0, 0.872901),\n",
              "  ('нарезать', 0, 0.8665899),\n",
              "  ('нашинковывать', 0, 0.86500126),\n",
              "  ('сельдерей', 0, 0.86482704),\n",
              "  ('петрушка', 0, 0.8591249),\n",
              "  ('мелко', 0, 0.8526903),\n",
              "  ('нарубать', 0, 0.85126823)],\n",
              " 2,\n",
              " [('чеснок', 1, 0.85911405),\n",
              "  ('морковь', 1, 0.81938416),\n",
              "  ('картошка', 0, 0.8175392),\n",
              "  ('гриб', 0, 0.8077784),\n",
              "  ('лучок', 0, 0.802615),\n",
              "  ('рубленый', 0, 0.7972997),\n",
              "  ('морковка', 0, 0.79638934),\n",
              "  ('помидор', 2, 0.792623),\n",
              "  ('томат', 0, 0.7870822),\n",
              "  ('перец', 1, 0.78552675)],\n",
              " 2,\n",
              " [('чеснок', 1, 0.85911405),\n",
              "  ('морковь', 1, 0.81938416),\n",
              "  ('картошка', 0, 0.8175392),\n",
              "  ('гриб', 0, 0.8077784),\n",
              "  ('лучок', 0, 0.802615),\n",
              "  ('рубленый', 0, 0.7972997),\n",
              "  ('морковка', 0, 0.79638934),\n",
              "  ('помидор', 2, 0.792623),\n",
              "  ('томат', 0, 0.7870822),\n",
              "  ('перец', 1, 0.78552675)],\n",
              " 0,\n",
              " [('морковь', 0, 0.8814602),\n",
              "  ('помидор', 0, 0.879848),\n",
              "  ('лук-порей', 0, 0.8786377),\n",
              "  ('зелень', 0, 0.872901),\n",
              "  ('нарезать', 0, 0.8665899),\n",
              "  ('нашинковывать', 0, 0.86500126),\n",
              "  ('сельдерей', 0, 0.86482704),\n",
              "  ('петрушка', 0, 0.8591249),\n",
              "  ('мелко', 0, 0.8526903),\n",
              "  ('нарубать', 0, 0.85126823)],\n",
              " 0,\n",
              " [('морковь', 0, 0.8814602),\n",
              "  ('помидор', 0, 0.879848),\n",
              "  ('лук-порей', 0, 0.8786377),\n",
              "  ('зелень', 0, 0.872901),\n",
              "  ('нарезать', 0, 0.8665899),\n",
              "  ('нашинковывать', 0, 0.86500126),\n",
              "  ('сельдерей', 0, 0.86482704),\n",
              "  ('петрушка', 0, 0.8591249),\n",
              "  ('мелко', 0, 0.8526903),\n",
              "  ('нарубать', 0, 0.85126823)]]"
            ]
          },
          "metadata": {
            "tags": []
          },
          "execution_count": 60
        }
      ]
    },
    {
      "cell_type": "code",
      "metadata": {
        "id": "eRZBGgoMlcuA",
        "colab_type": "code",
        "colab": {}
      },
      "source": [
        "meanings2 = []\n",
        "for z in range(len(luk2)):\n",
        "  means2 = vm.disambiguate('лук', normalize_pm(luk2[z]))\n",
        "  meanings2.append(np.argmax(means2))\n",
        "  meanings2.append(vm.sense_neighbors('лук', np.argmax(means2)))"
      ],
      "execution_count": 0,
      "outputs": []
    },
    {
      "cell_type": "code",
      "metadata": {
        "id": "QRIFixC-lmcY",
        "colab_type": "code",
        "colab": {
          "base_uri": "https://localhost:8080/",
          "height": 1000
        },
        "outputId": "c9fe7e8b-f00c-4b2e-c57e-b1175140f7a2"
      },
      "source": [
        "meanings2"
      ],
      "execution_count": 62,
      "outputs": [
        {
          "output_type": "execute_result",
          "data": {
            "text/plain": [
              "[4,\n",
              " [('лука', 0, 0.805669),\n",
              "  ('арбалет', 1, 0.78230816),\n",
              "  ('колчан', 0, 0.7731788),\n",
              "  ('тетива', 0, 0.72229147),\n",
              "  ('стрела', 0, 0.6901984),\n",
              "  ('копье', 0, 0.68338805),\n",
              "  ('самострел', 0, 0.67639554),\n",
              "  ('копье', 1, 0.6679108),\n",
              "  ('секира', 0, 0.6648324),\n",
              "  ('палица', 0, 0.6603637)],\n",
              " 4,\n",
              " [('лука', 0, 0.805669),\n",
              "  ('арбалет', 1, 0.78230816),\n",
              "  ('колчан', 0, 0.7731788),\n",
              "  ('тетива', 0, 0.72229147),\n",
              "  ('стрела', 0, 0.6901984),\n",
              "  ('копье', 0, 0.68338805),\n",
              "  ('самострел', 0, 0.67639554),\n",
              "  ('копье', 1, 0.6679108),\n",
              "  ('секира', 0, 0.6648324),\n",
              "  ('палица', 0, 0.6603637)],\n",
              " 4,\n",
              " [('лука', 0, 0.805669),\n",
              "  ('арбалет', 1, 0.78230816),\n",
              "  ('колчан', 0, 0.7731788),\n",
              "  ('тетива', 0, 0.72229147),\n",
              "  ('стрела', 0, 0.6901984),\n",
              "  ('копье', 0, 0.68338805),\n",
              "  ('самострел', 0, 0.67639554),\n",
              "  ('копье', 1, 0.6679108),\n",
              "  ('секира', 0, 0.6648324),\n",
              "  ('палица', 0, 0.6603637)],\n",
              " 4,\n",
              " [('лука', 0, 0.805669),\n",
              "  ('арбалет', 1, 0.78230816),\n",
              "  ('колчан', 0, 0.7731788),\n",
              "  ('тетива', 0, 0.72229147),\n",
              "  ('стрела', 0, 0.6901984),\n",
              "  ('копье', 0, 0.68338805),\n",
              "  ('самострел', 0, 0.67639554),\n",
              "  ('копье', 1, 0.6679108),\n",
              "  ('секира', 0, 0.6648324),\n",
              "  ('палица', 0, 0.6603637)],\n",
              " 4,\n",
              " [('лука', 0, 0.805669),\n",
              "  ('арбалет', 1, 0.78230816),\n",
              "  ('колчан', 0, 0.7731788),\n",
              "  ('тетива', 0, 0.72229147),\n",
              "  ('стрела', 0, 0.6901984),\n",
              "  ('копье', 0, 0.68338805),\n",
              "  ('самострел', 0, 0.67639554),\n",
              "  ('копье', 1, 0.6679108),\n",
              "  ('секира', 0, 0.6648324),\n",
              "  ('палица', 0, 0.6603637)],\n",
              " 4,\n",
              " [('лука', 0, 0.805669),\n",
              "  ('арбалет', 1, 0.78230816),\n",
              "  ('колчан', 0, 0.7731788),\n",
              "  ('тетива', 0, 0.72229147),\n",
              "  ('стрела', 0, 0.6901984),\n",
              "  ('копье', 0, 0.68338805),\n",
              "  ('самострел', 0, 0.67639554),\n",
              "  ('копье', 1, 0.6679108),\n",
              "  ('секира', 0, 0.6648324),\n",
              "  ('палица', 0, 0.6603637)],\n",
              " 4,\n",
              " [('лука', 0, 0.805669),\n",
              "  ('арбалет', 1, 0.78230816),\n",
              "  ('колчан', 0, 0.7731788),\n",
              "  ('тетива', 0, 0.72229147),\n",
              "  ('стрела', 0, 0.6901984),\n",
              "  ('копье', 0, 0.68338805),\n",
              "  ('самострел', 0, 0.67639554),\n",
              "  ('копье', 1, 0.6679108),\n",
              "  ('секира', 0, 0.6648324),\n",
              "  ('палица', 0, 0.6603637)],\n",
              " 4,\n",
              " [('лука', 0, 0.805669),\n",
              "  ('арбалет', 1, 0.78230816),\n",
              "  ('колчан', 0, 0.7731788),\n",
              "  ('тетива', 0, 0.72229147),\n",
              "  ('стрела', 0, 0.6901984),\n",
              "  ('копье', 0, 0.68338805),\n",
              "  ('самострел', 0, 0.67639554),\n",
              "  ('копье', 1, 0.6679108),\n",
              "  ('секира', 0, 0.6648324),\n",
              "  ('палица', 0, 0.6603637)]]"
            ]
          },
          "metadata": {
            "tags": []
          },
          "execution_count": 62
        }
      ]
    },
    {
      "cell_type": "code",
      "metadata": {
        "id": "gcnCI33Aiyzu",
        "colab_type": "code",
        "colab": {
          "base_uri": "https://localhost:8080/",
          "height": 187
        },
        "outputId": "d5a0d283-b353-4e11-a4fc-da72e2584602"
      },
      "source": [
        "meanss = vm.disambiguate('лук', normalize_pm('Съедобные трубчатые листья или луковицы этого растения. Зеленый лук. Репчатый лук.'))\n",
        "vm.sense_neighbors('лук', np.argmax(meanss))"
      ],
      "execution_count": 96,
      "outputs": [
        {
          "output_type": "execute_result",
          "data": {
            "text/plain": [
              "[('морковь', 0, 0.8814602),\n",
              " ('помидор', 0, 0.879848),\n",
              " ('лук-порей', 0, 0.8786377),\n",
              " ('зелень', 0, 0.872901),\n",
              " ('нарезать', 0, 0.8665899),\n",
              " ('нашинковывать', 0, 0.86500126),\n",
              " ('сельдерей', 0, 0.86482704),\n",
              " ('петрушка', 0, 0.8591249),\n",
              " ('мелко', 0, 0.8526903),\n",
              " ('нарубать', 0, 0.85126823)]"
            ]
          },
          "metadata": {
            "tags": []
          },
          "execution_count": 96
        }
      ]
    },
    {
      "cell_type": "code",
      "metadata": {
        "id": "X9WrRxw6opAl",
        "colab_type": "code",
        "colab": {
          "base_uri": "https://localhost:8080/",
          "height": 34
        },
        "outputId": "109171f0-b29a-498c-c17c-1088ef80c468"
      },
      "source": [
        "print('Толкование ЛУК1 имеет значение ', np.argmax(meanss))"
      ],
      "execution_count": 97,
      "outputs": [
        {
          "output_type": "stream",
          "text": [
            "Толкование ЛУК1 имеет значение  0\n"
          ],
          "name": "stdout"
        }
      ]
    },
    {
      "cell_type": "code",
      "metadata": {
        "id": "KRliGWSHouEz",
        "colab_type": "code",
        "colab": {
          "base_uri": "https://localhost:8080/",
          "height": 187
        },
        "outputId": "a820fc97-a959-47c5-9b51-9aaaa4b7494f"
      },
      "source": [
        "meansss = vm.disambiguate('лук', normalize_pm('Ручное оружие для метания стрел в виде дуги, стянутой тетивой. Стрелять из лука. Всадник с натянутым луком мчался за семьей оленей.'))\n",
        "vm.sense_neighbors('лук', np.argmax(meansss))"
      ],
      "execution_count": 99,
      "outputs": [
        {
          "output_type": "execute_result",
          "data": {
            "text/plain": [
              "[('арбалет', 0, 0.7783164),\n",
              " ('дротик', 0, 0.6703703),\n",
              " ('пращ', 0, 0.6575549),\n",
              " ('самострел', 0, 0.64090955),\n",
              " ('мушкет', 0, 0.60409844),\n",
              " ('аркебуза', 0, 0.5913013),\n",
              " ('стрелять', 0, 0.5830755),\n",
              " ('дробовик', 0, 0.5742717),\n",
              " ('пневматический', 1, 0.5695134),\n",
              " ('аркебуз', 0, 0.56936765)]"
            ]
          },
          "metadata": {
            "tags": []
          },
          "execution_count": 99
        }
      ]
    },
    {
      "cell_type": "code",
      "metadata": {
        "id": "wYJn2rswo-z1",
        "colab_type": "code",
        "colab": {
          "base_uri": "https://localhost:8080/",
          "height": 34
        },
        "outputId": "b9b8a5ac-7853-4544-a677-3bed5c2d5e82"
      },
      "source": [
        "print('Толкование ЛУК1 имеет значение ', np.argmax(meansss)) "
      ],
      "execution_count": 100,
      "outputs": [
        {
          "output_type": "stream",
          "text": [
            "Толкование ЛУК1 имеет значение  1\n"
          ],
          "name": "stdout"
        }
      ]
    },
    {
      "cell_type": "markdown",
      "metadata": {
        "id": "D8Hgc2B_trhH",
        "colab_type": "text"
      },
      "source": [
        "4 пункт:"
      ]
    },
    {
      "cell_type": "code",
      "metadata": {
        "id": "e5GcJ2QcpD1f",
        "colab_type": "code",
        "colab": {
          "base_uri": "https://localhost:8080/",
          "height": 173
        },
        "outputId": "737e0965-98fc-41d1-c00b-b5c6605bc4b0"
      },
      "source": [
        "for context in luk1:\n",
        "  n = 0\n",
        "  p = 0\n",
        "  for word in normalize_pm(context):\n",
        "    if word in normalize_pm('Съедобные трубчатые листья или луковицы этого растения. Зеленый лук. Репчатый лук.'):\n",
        "      n+=1\n",
        "    elif word in normalize_pm('Ручное оружие для метания стрел в виде дуги, стянутой тетивой. Стрелять из лука. Всадник с натянутым луком мчался за семьей оленей.'):\n",
        "      p+=1\n",
        "  if n>p:\n",
        "    print(context, '- 1 толкование')\n",
        "  elif n<p:\n",
        "    print(context, '- 2 толкование')\n",
        "  else:\n",
        "    print(context, n, p)"
      ],
      "execution_count": 101,
      "outputs": [
        {
          "output_type": "stream",
          "text": [
            "А из зелени ничего нет, кроме лука зеленого и редиски, что мы и едим - 1 толкование\n",
            "Это хулиганская мачеха насадила огород на крыше, видишь, торчит морковь, петрушка и лук зеленый - 1 толкование\n",
            "После уборки редиса высаживают лук репчатый (выборок или репку), почти вплотную друг к другу - 1 толкование\n",
            "Значит, перчику красного ломтиками, луку репчатого, крупным кружком - 1 толкование\n",
            " И, действительно, на каждой стоянке, Бухарцы приготовляли плов, рис, морковь, баранину с салом, кишмиш, лук жареный, ― офицерам подавались даже курицы 1 1\n",
            "Дым коромыслом, чад, суета, шипит что-то, луком жареным пахнет - 2 толкование\n",
            " Далее посыпать мясо слоем лука, порезанного колечками, и полить ложкой разведенного сока - 1 толкование\n",
            "Очищенные коренья и лук порезать, обжарить в масле до золотистого цвета 1 1\n"
          ],
          "name": "stdout"
        }
      ]
    },
    {
      "cell_type": "code",
      "metadata": {
        "id": "9zz5g3HfsdEt",
        "colab_type": "code",
        "colab": {
          "base_uri": "https://localhost:8080/",
          "height": 153
        },
        "outputId": "fde88e5c-3638-4971-877f-5160b5c41b8b"
      },
      "source": [
        "for context in luk2:\n",
        "  n = 0\n",
        "  p = 0\n",
        "  for word in normalize_pm(context):\n",
        "    if word in normalize_pm('Съедобные трубчатые листья или луковицы этого растения. Зеленый лук. Репчатый лук.'):\n",
        "      n+=1\n",
        "    elif word in normalize_pm('Ручное оружие для метания стрел в виде дуги, стянутой тетивой. Стрелять из лука. Всадник с натянутым луком мчался за семьей оленей.'):\n",
        "      p+=1\n",
        "  if n>p:\n",
        "    print(context, '- 1 толкование')\n",
        "  elif n<p:\n",
        "    print(context, '- 2 толкование')\n",
        "  else:\n",
        "    print(context, n, p)"
      ],
      "execution_count": 102,
      "outputs": [
        {
          "output_type": "stream",
          "text": [
            "У меня есть лук, несколько стрел, ручные нарты, маленький нож и топор - 2 толкование\n",
            "Взамен конфискованного ножа Коля решил сделать лук со стрелами - 2 толкование\n",
            "Два лука и колчан он поместил на моей спине, взвалил меня на плечи и побежал в лес 1 1\n",
            "Убитый действительно держал в руке лук, хотя колчана у него на боку не было 1 1\n",
            "На валах лучники гнули луки, насаживая тетиву 1 1\n",
            "в одной из пещер сииртя был найден лук с тетивою, сплетенной из трав - 2 толкование\n",
            " вложи стрелу в лук твой и натяни его - 2 толкование\n",
            " Ероха вскинул лук, единым движением натянул и сронил с пальца тетиву - 2 толкование\n"
          ],
          "name": "stdout"
        }
      ]
    },
    {
      "cell_type": "markdown",
      "metadata": {
        "id": "hTt6sivfyTIk",
        "colab_type": "text"
      },
      "source": [
        "Accuracy (если мы считаем, что у лука 5 разных значений, а не объединяем 0 с 2 и 1 с 4):"
      ]
    },
    {
      "cell_type": "code",
      "metadata": {
        "id": "Ey3O8NkvuoVb",
        "colab_type": "code",
        "colab": {
          "base_uri": "https://localhost:8080/",
          "height": 34
        },
        "outputId": "66c1026a-704e-4810-c0a8-26dce01625ca"
      },
      "source": [
        "h = 0\n",
        "g = 0\n",
        "numb_success = 0\n",
        "for el in meanings1:\n",
        "  h += 1\n",
        "  if h%2 == 1:\n",
        "    if el == 0:\n",
        "      numb_success += 1\n",
        "for elem in meanings2:\n",
        "  g += 1\n",
        "  if g%2 == 1:\n",
        "    if elem == 1:\n",
        "      numb_success += 1\n",
        "print('Accuracy: ', numb_success/16)"
      ],
      "execution_count": 92,
      "outputs": [
        {
          "output_type": "stream",
          "text": [
            "Accuracy:  0.1875\n"
          ],
          "name": "stdout"
        }
      ]
    },
    {
      "cell_type": "markdown",
      "metadata": {
        "id": "0ODRO8Tozscj",
        "colab_type": "text"
      },
      "source": [
        "Accuracy (если мы считаем, что у лука 3 разных значения, объединяем 0 с 2 и 1 с 4):"
      ]
    },
    {
      "cell_type": "code",
      "metadata": {
        "id": "rdfVl3a8y6KU",
        "colab_type": "code",
        "colab": {
          "base_uri": "https://localhost:8080/",
          "height": 34
        },
        "outputId": "f87d24c2-8aa7-4d89-eab1-e2f3e784aa29"
      },
      "source": [
        "h = 0\n",
        "g = 0\n",
        "numb_success = 0\n",
        "for el in meanings1:\n",
        "  h += 1\n",
        "  if h%2 == 1:\n",
        "    if el == 0 or el == 2:\n",
        "      numb_success += 1\n",
        "for elem in meanings2:\n",
        "  g += 1\n",
        "  if g%2 == 1:\n",
        "    if elem == 1 or elem == 4:\n",
        "      numb_success += 1\n",
        "print('Accuracy: ', numb_success/16)"
      ],
      "execution_count": 93,
      "outputs": [
        {
          "output_type": "stream",
          "text": [
            "Accuracy:  1.0\n"
          ],
          "name": "stdout"
        }
      ]
    },
    {
      "cell_type": "code",
      "metadata": {
        "id": "3fRZmkf90OPM",
        "colab_type": "code",
        "colab": {}
      },
      "source": [
        ""
      ],
      "execution_count": 0,
      "outputs": []
    }
  ]
}