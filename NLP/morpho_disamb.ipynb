{
  "nbformat": 4,
  "nbformat_minor": 0,
  "metadata": {
    "colab": {
      "name": "morpho_disamb.ipynb",
      "version": "0.3.2",
      "provenance": [],
      "collapsed_sections": [],
      "include_colab_link": true
    },
    "kernelspec": {
      "name": "python3",
      "display_name": "Python 3"
    },
    "accelerator": "GPU"
  },
  "cells": [
    {
      "cell_type": "markdown",
      "metadata": {
        "id": "view-in-github",
        "colab_type": "text"
      },
      "source": [
        "<a href=\"https://colab.research.google.com/github/mayakorotkaya/homework/blob/master/NLP/morpho_disamb.ipynb\" target=\"_parent\"><img src=\"https://colab.research.google.com/assets/colab-badge.svg\" alt=\"Open In Colab\"/></a>"
      ]
    },
    {
      "cell_type": "markdown",
      "metadata": {
        "id": "t6g4DGAj9BMp",
        "colab_type": "text"
      },
      "source": [
        "Скачиваем нужные файлы по инструкции."
      ]
    },
    {
      "cell_type": "code",
      "metadata": {
        "id": "QJSOrmGM80vJ",
        "colab_type": "code",
        "outputId": "8bea3d23-2a1d-48fb-cc4c-09f564c238e5",
        "colab": {
          "base_uri": "https://localhost:8080/",
          "height": 321
        }
      },
      "source": [
        "!wget http://www.cis.uni-muenchen.de/~schmid/tools/TreeTagger/data/tree-tagger-linux-3.2.2.tar.gz"
      ],
      "execution_count": 1,
      "outputs": [
        {
          "output_type": "stream",
          "text": [
            "--2019-06-14 21:04:44--  http://www.cis.uni-muenchen.de/~schmid/tools/TreeTagger/data/tree-tagger-linux-3.2.2.tar.gz\n",
            "Resolving www.cis.uni-muenchen.de (www.cis.uni-muenchen.de)... 129.187.148.72, 2001:4ca0:4f01::5\n",
            "Connecting to www.cis.uni-muenchen.de (www.cis.uni-muenchen.de)|129.187.148.72|:80... connected.\n",
            "HTTP request sent, awaiting response... 302 Found\n",
            "Location: https://www.cis.uni-muenchen.de/~schmid/tools/TreeTagger/data/tree-tagger-linux-3.2.2.tar.gz [following]\n",
            "--2019-06-14 21:04:44--  https://www.cis.uni-muenchen.de/~schmid/tools/TreeTagger/data/tree-tagger-linux-3.2.2.tar.gz\n",
            "Connecting to www.cis.uni-muenchen.de (www.cis.uni-muenchen.de)|129.187.148.72|:443... connected.\n",
            "HTTP request sent, awaiting response... 200 OK\n",
            "Length: 1821366 (1.7M) [application/x-gzip]\n",
            "Saving to: ‘tree-tagger-linux-3.2.2.tar.gz’\n",
            "\n",
            "tree-tagger-linux-3 100%[===================>]   1.74M  2.51MB/s    in 0.7s    \n",
            "\n",
            "2019-06-14 21:04:45 (2.51 MB/s) - ‘tree-tagger-linux-3.2.2.tar.gz’ saved [1821366/1821366]\n",
            "\n"
          ],
          "name": "stdout"
        }
      ]
    },
    {
      "cell_type": "code",
      "metadata": {
        "id": "uAH8K4T_5z8o",
        "colab_type": "code",
        "outputId": "04c38191-afb3-440c-a104-0133001309a6",
        "colab": {
          "base_uri": "https://localhost:8080/",
          "height": 321
        }
      },
      "source": [
        "!wget http://www.cis.uni-muenchen.de/~schmid/tools/TreeTagger/data/tagger-scripts.tar.gz"
      ],
      "execution_count": 2,
      "outputs": [
        {
          "output_type": "stream",
          "text": [
            "--2019-06-14 21:04:55--  http://www.cis.uni-muenchen.de/~schmid/tools/TreeTagger/data/tagger-scripts.tar.gz\n",
            "Resolving www.cis.uni-muenchen.de (www.cis.uni-muenchen.de)... 129.187.148.72, 2001:4ca0:4f01::5\n",
            "Connecting to www.cis.uni-muenchen.de (www.cis.uni-muenchen.de)|129.187.148.72|:80... connected.\n",
            "HTTP request sent, awaiting response... 302 Found\n",
            "Location: https://www.cis.uni-muenchen.de/~schmid/tools/TreeTagger/data/tagger-scripts.tar.gz [following]\n",
            "--2019-06-14 21:04:55--  https://www.cis.uni-muenchen.de/~schmid/tools/TreeTagger/data/tagger-scripts.tar.gz\n",
            "Connecting to www.cis.uni-muenchen.de (www.cis.uni-muenchen.de)|129.187.148.72|:443... connected.\n",
            "HTTP request sent, awaiting response... 200 OK\n",
            "Length: 101810 (99K) [application/x-gzip]\n",
            "Saving to: ‘tagger-scripts.tar.gz’\n",
            "\n",
            "tagger-scripts.tar. 100%[===================>]  99.42K   425KB/s    in 0.2s    \n",
            "\n",
            "2019-06-14 21:04:56 (425 KB/s) - ‘tagger-scripts.tar.gz’ saved [101810/101810]\n",
            "\n"
          ],
          "name": "stdout"
        }
      ]
    },
    {
      "cell_type": "code",
      "metadata": {
        "id": "8SJ8rbYf5z-e",
        "colab_type": "code",
        "outputId": "65f754b8-7c70-4c5a-d063-c4b8f512e1ea",
        "colab": {
          "base_uri": "https://localhost:8080/",
          "height": 321
        }
      },
      "source": [
        "!wget http://www.cis.uni-muenchen.de/~schmid/tools/TreeTagger/data/install-tagger.sh"
      ],
      "execution_count": 3,
      "outputs": [
        {
          "output_type": "stream",
          "text": [
            "--2019-06-14 21:05:06--  http://www.cis.uni-muenchen.de/~schmid/tools/TreeTagger/data/install-tagger.sh\n",
            "Resolving www.cis.uni-muenchen.de (www.cis.uni-muenchen.de)... 129.187.148.72, 2001:4ca0:4f01::5\n",
            "Connecting to www.cis.uni-muenchen.de (www.cis.uni-muenchen.de)|129.187.148.72|:80... connected.\n",
            "HTTP request sent, awaiting response... 302 Found\n",
            "Location: https://www.cis.uni-muenchen.de/~schmid/tools/TreeTagger/data/install-tagger.sh [following]\n",
            "--2019-06-14 21:05:06--  https://www.cis.uni-muenchen.de/~schmid/tools/TreeTagger/data/install-tagger.sh\n",
            "Connecting to www.cis.uni-muenchen.de (www.cis.uni-muenchen.de)|129.187.148.72|:443... connected.\n",
            "HTTP request sent, awaiting response... 200 OK\n",
            "Length: 12417 (12K) [application/x-shellscript]\n",
            "Saving to: ‘install-tagger.sh’\n",
            "\n",
            "install-tagger.sh   100%[===================>]  12.13K  --.-KB/s    in 0s      \n",
            "\n",
            "2019-06-14 21:05:07 (170 MB/s) - ‘install-tagger.sh’ saved [12417/12417]\n",
            "\n"
          ],
          "name": "stdout"
        }
      ]
    },
    {
      "cell_type": "code",
      "metadata": {
        "id": "n__NxBzk50DC",
        "colab_type": "code",
        "outputId": "78ed76f8-9d57-49cc-8817-5b17f0414a54",
        "colab": {
          "base_uri": "https://localhost:8080/",
          "height": 321
        }
      },
      "source": [
        "!wget http://www.cis.uni-muenchen.de/~schmid/tools/TreeTagger/data/russian.par.gz"
      ],
      "execution_count": 4,
      "outputs": [
        {
          "output_type": "stream",
          "text": [
            "--2019-06-14 21:05:17--  http://www.cis.uni-muenchen.de/~schmid/tools/TreeTagger/data/russian.par.gz\n",
            "Resolving www.cis.uni-muenchen.de (www.cis.uni-muenchen.de)... 129.187.148.72, 2001:4ca0:4f01::5\n",
            "Connecting to www.cis.uni-muenchen.de (www.cis.uni-muenchen.de)|129.187.148.72|:80... connected.\n",
            "HTTP request sent, awaiting response... 302 Found\n",
            "Location: https://www.cis.uni-muenchen.de/~schmid/tools/TreeTagger/data/russian.par.gz [following]\n",
            "--2019-06-14 21:05:17--  https://www.cis.uni-muenchen.de/~schmid/tools/TreeTagger/data/russian.par.gz\n",
            "Connecting to www.cis.uni-muenchen.de (www.cis.uni-muenchen.de)|129.187.148.72|:443... connected.\n",
            "HTTP request sent, awaiting response... 200 OK\n",
            "Length: 115748255 (110M) [application/x-gzip]\n",
            "Saving to: ‘russian.par.gz’\n",
            "\n",
            "russian.par.gz      100%[===================>] 110.39M  25.6MB/s    in 5.0s    \n",
            "\n",
            "2019-06-14 21:05:22 (22.1 MB/s) - ‘russian.par.gz’ saved [115748255/115748255]\n",
            "\n"
          ],
          "name": "stdout"
        }
      ]
    },
    {
      "cell_type": "markdown",
      "metadata": {
        "id": "zUTvm68R9Qz8",
        "colab_type": "text"
      },
      "source": [
        "Устанавливаем."
      ]
    },
    {
      "cell_type": "code",
      "metadata": {
        "id": "Y_Zl4nv050G0",
        "colab_type": "code",
        "outputId": "a8f12ef6-c4e3-4146-ad16-eccf1262dd1a",
        "colab": {
          "base_uri": "https://localhost:8080/",
          "height": 282
        }
      },
      "source": [
        "!sh install-tagger.sh"
      ],
      "execution_count": 5,
      "outputs": [
        {
          "output_type": "stream",
          "text": [
            "\n",
            "TreeTagger version for PC-Linux installed.\n",
            "Tagging scripts installed.\n",
            "Russian parameter file installed.\n",
            "Path variables modified in tagging scripts.\n",
            "\n",
            "You might want to add /content/cmd and /content/bin to the PATH variable so that you do not need to specify the full path to run the tagging scripts.\n",
            "\n"
          ],
          "name": "stdout"
        }
      ]
    },
    {
      "cell_type": "markdown",
      "metadata": {
        "id": "Va0btbvi9Y55",
        "colab_type": "text"
      },
      "source": [
        "Но тэги тут странноватые. Чтобы оценить это все на нашем корпусе, нужно будет обучить модель заново."
      ]
    },
    {
      "cell_type": "code",
      "metadata": {
        "id": "M0V-1lxg50NF",
        "colab_type": "code",
        "outputId": "bd7aed04-f143-41cc-e3b9-63f523d6cfe7",
        "colab": {
          "base_uri": "https://localhost:8080/",
          "height": 224
        }
      },
      "source": [
        "!wget http://opencorpora.org/files/export/annot/annot.opcorpora.no_ambig_strict.xml.zip"
      ],
      "execution_count": 6,
      "outputs": [
        {
          "output_type": "stream",
          "text": [
            "--2019-06-14 21:05:40--  http://opencorpora.org/files/export/annot/annot.opcorpora.no_ambig_strict.xml.zip\n",
            "Resolving opencorpora.org (opencorpora.org)... 148.251.2.141\n",
            "Connecting to opencorpora.org (opencorpora.org)|148.251.2.141|:80... connected.\n",
            "HTTP request sent, awaiting response... 200 OK\n",
            "Length: 2194522 (2.1M) [application/zip]\n",
            "Saving to: ‘annot.opcorpora.no_ambig_strict.xml.zip’\n",
            "\n",
            "annot.opcorpora.no_ 100%[===================>]   2.09M  2.36MB/s    in 0.9s    \n",
            "\n",
            "2019-06-14 21:05:41 (2.36 MB/s) - ‘annot.opcorpora.no_ambig_strict.xml.zip’ saved [2194522/2194522]\n",
            "\n"
          ],
          "name": "stdout"
        }
      ]
    },
    {
      "cell_type": "code",
      "metadata": {
        "id": "JHLr7nmv-F3c",
        "colab_type": "code",
        "outputId": "3912f25a-369e-468d-e4fc-f6be5717ca02",
        "colab": {
          "base_uri": "https://localhost:8080/",
          "height": 80
        }
      },
      "source": [
        "!unzip annot.opcorpora.no_ambig_strict.xml.zip"
      ],
      "execution_count": 7,
      "outputs": [
        {
          "output_type": "stream",
          "text": [
            "Archive:  annot.opcorpora.no_ambig_strict.xml.zip\n",
            "  inflating: annot.opcorpora.no_ambig_strict.xml  \n"
          ],
          "name": "stdout"
        }
      ]
    },
    {
      "cell_type": "code",
      "metadata": {
        "id": "dh8OpwE5-F6h",
        "colab_type": "code",
        "colab": {}
      },
      "source": [
        "from lxml import etree\n",
        "from collections import defaultdict"
      ],
      "execution_count": 0,
      "outputs": []
    },
    {
      "cell_type": "code",
      "metadata": {
        "id": "GCuVu_w9-bC2",
        "colab_type": "code",
        "colab": {}
      },
      "source": [
        "open_corpora = etree.fromstring(open('annot.opcorpora.no_ambig_strict.xml', 'rb').read())"
      ],
      "execution_count": 0,
      "outputs": []
    },
    {
      "cell_type": "code",
      "metadata": {
        "id": "WaW0ap9PNH8r",
        "colab_type": "code",
        "outputId": "080d9a24-2074-4f23-aa74-7c9f24657f39",
        "colab": {
          "base_uri": "https://localhost:8080/",
          "height": 34
        }
      },
      "source": [
        "len(open_corpora.xpath('//tokens'))"
      ],
      "execution_count": 11,
      "outputs": [
        {
          "output_type": "execute_result",
          "data": {
            "text/plain": [
              "10599"
            ]
          },
          "metadata": {
            "tags": []
          },
          "execution_count": 11
        }
      ]
    },
    {
      "cell_type": "markdown",
      "metadata": {
        "id": "EuV9pzriz_MY",
        "colab_type": "text"
      },
      "source": [
        "Создадим единые vocab и tags"
      ]
    },
    {
      "cell_type": "code",
      "metadata": {
        "id": "TagPnY0yeu9C",
        "colab_type": "code",
        "colab": {}
      },
      "source": [
        "corpus = open('corpus_train.txt', 'w')\n",
        "vocab = defaultdict(set)\n",
        "tags = set()\n",
        "\n",
        "for sentence in open_corpora.xpath('//tokens'):\n",
        "    length = len(sentence.xpath('token'))\n",
        "    ended = False\n",
        "    for i,token in enumerate(sentence.xpath('token')):\n",
        "        word = token.xpath('@text')\n",
        "        gram_info = token.xpath('tfr/v/l/g/@v')\n",
        "        \n",
        "        if (i+1)==length and gram_info[0] == 'PNCT':\n",
        "            gram_info = ['SENT']\n",
        "            ended = True\n",
        "        \n",
        "            \n",
        "        corpus.write(word[0] + '\\t' + ','.join(gram_info) + '\\n')\n",
        "        lemma = token.xpath('tfr/v/l/@t')[0]\n",
        "        vocab[word[0].lower()].add((','.join(gram_info), lemma.lower()))\n",
        "        tags.add(','.join(gram_info))\n",
        "    \n",
        "    if not ended:\n",
        "        corpus.write('.\\tSENT\\n')"
      ],
      "execution_count": 0,
      "outputs": []
    },
    {
      "cell_type": "markdown",
      "metadata": {
        "id": "WByj2MOSRR73",
        "colab_type": "text"
      },
      "source": [
        "Разделим корпус на 3 части для кросс-валидации"
      ]
    },
    {
      "cell_type": "code",
      "metadata": {
        "id": "xb3HD9o7OjJo",
        "colab_type": "code",
        "colab": {}
      },
      "source": [
        "def cross_valid(open_corp, corp, tag, voc):\n",
        "  for sentence in open_corp:\n",
        "    length = len(sentence.xpath('token'))\n",
        "    ended = False\n",
        "    for i,token in enumerate(sentence.xpath('token')):\n",
        "        word = token.xpath('@text')\n",
        "        gram_info = token.xpath('tfr/v/l/g/@v')\n",
        "        \n",
        "        if (i+1)==length and gram_info[0] == 'PNCT':\n",
        "            gram_info = ['SENT']\n",
        "            ended = True\n",
        "        \n",
        "            \n",
        "        corp.write(word[0] + '\\t' + ','.join(gram_info) + '\\n')\n",
        "        lemma = token.xpath('tfr/v/l/@t')[0]\n",
        "        voc[word[0].lower()].add((','.join(gram_info), lemma.lower()))\n",
        "        tag.add(','.join(gram_info))\n",
        "    \n",
        "    if not ended:\n",
        "        corp.write('.\\tSENT\\n')\n",
        "  "
      ],
      "execution_count": 0,
      "outputs": []
    },
    {
      "cell_type": "code",
      "metadata": {
        "id": "PWp7bYeD-bEg",
        "colab_type": "code",
        "outputId": "da1ffb0a-9348-4a9e-b783-744c488df50c",
        "colab": {
          "base_uri": "https://localhost:8080/",
          "height": 51
        }
      },
      "source": [
        "corpus0 = open('corpus_train0.txt', 'w')\n",
        "corpus1 = open('corpus_train1.txt', 'w')\n",
        "corpus2 = open('corpus_train2.txt', 'w')\n",
        "\n",
        "vocab0 = defaultdict(set)\n",
        "vocab1 = defaultdict(set)\n",
        "vocab2 = defaultdict(set)\n",
        "\n",
        "tags0 = set()\n",
        "tags1 = set()\n",
        "tags2 = set()\n",
        "\n",
        "open_corpora0 = open_corpora.xpath('//tokens')[:3533]\n",
        "open_corpora1 = open_corpora.xpath('//tokens')[3533:7066]\n",
        "open_corpora2 = open_corpora.xpath('//tokens')[7066:]\n",
        "\n",
        "\n",
        "\n",
        "cross_valid(open_corpora0, corpus0, tags0, vocab0)\n",
        "cross_valid(open_corpora1, corpus1, tags1, vocab1)\n",
        "cross_valid(open_corpora2, corpus2, tags2, vocab2)\n",
        "\n",
        "\n",
        "\n",
        "print(len(tags0), len(tags1), len(tags2))\n",
        "print(len(vocab0), len(vocab1), len(vocab2))"
      ],
      "execution_count": 14,
      "outputs": [
        {
          "output_type": "stream",
          "text": [
            "777 724 604\n",
            "10049 8853 7408\n"
          ],
          "name": "stdout"
        }
      ]
    },
    {
      "cell_type": "code",
      "metadata": {
        "id": "glsfhOKPBhJV",
        "colab_type": "code",
        "colab": {}
      },
      "source": [
        "def lex(voc, f):\n",
        "  for word in voc:\n",
        "    f.write(word + '\\t')\n",
        "    f.write('\\t'.join([' '.join(pair) for pair in voc[word]]))\n",
        "    f.write('\\n')\n",
        "# f.write('SENT\\tSENT .')\n",
        "  f.close()\n",
        "  "
      ],
      "execution_count": 0,
      "outputs": []
    },
    {
      "cell_type": "code",
      "metadata": {
        "id": "AdOSucbPkPCx",
        "colab_type": "code",
        "colab": {}
      },
      "source": [
        "f3 = open('lexicon.txt', 'w')\n",
        "lex(vocab, f3)"
      ],
      "execution_count": 0,
      "outputs": []
    },
    {
      "cell_type": "code",
      "metadata": {
        "id": "clq3nPLze-1a",
        "colab_type": "code",
        "colab": {}
      },
      "source": [
        "class_all = open('open_class.txt', 'w')"
      ],
      "execution_count": 0,
      "outputs": []
    },
    {
      "cell_type": "code",
      "metadata": {
        "id": "JbSTjjMHa4Fb",
        "colab_type": "code",
        "colab": {}
      },
      "source": [
        "def make_tags(classs, tags):\n",
        "  classs.write('\\n'.join([tag for tag in tags if 'NOUN' in tag or 'VERB' in tag or 'ADJF' in tag]))\n",
        "  classs.close()"
      ],
      "execution_count": 0,
      "outputs": []
    },
    {
      "cell_type": "code",
      "metadata": {
        "id": "TY9W8dELfFYs",
        "colab_type": "code",
        "colab": {}
      },
      "source": [
        "make_tags(class_all, tags)"
      ],
      "execution_count": 0,
      "outputs": []
    },
    {
      "cell_type": "code",
      "metadata": {
        "id": "-mpRucC4CTtY",
        "colab_type": "code",
        "colab": {}
      },
      "source": [
        "def train_files(file1, file2, concat):\n",
        "  f1 = open(file1, 'r')\n",
        "  f1 = f1.read()\n",
        "  f2 = open(file2, 'r')\n",
        "  f2 = f2.read()\n",
        "  #con = open(concat, 'w')\n",
        "  concat.write(f1)\n",
        "  concat.write(f2)\n",
        "  concat.close()"
      ],
      "execution_count": 0,
      "outputs": []
    },
    {
      "cell_type": "code",
      "metadata": {
        "id": "D1CDKQgbcQtE",
        "colab_type": "code",
        "colab": {}
      },
      "source": [
        "corpus_train01 = open('corpus_train01.txt', 'w')\n",
        "corpus_train12 = open('corpus_train12.txt', 'w')\n",
        "corpus_train02 = open('corpus_train02.txt', 'w')\n",
        "\n",
        "\n",
        "train_files('corpus_train0.txt', 'corpus_train1.txt', corpus_train01)\n",
        "train_files('corpus_train1.txt', 'corpus_train2.txt', corpus_train12)\n",
        "train_files('corpus_train0.txt', 'corpus_train2.txt', corpus_train02)\n"
      ],
      "execution_count": 0,
      "outputs": []
    },
    {
      "cell_type": "markdown",
      "metadata": {
        "id": "C-QgRvn9908G",
        "colab_type": "text"
      },
      "source": [
        "Обучаем на всем и проверяем адекватность разметки на простом примере"
      ]
    },
    {
      "cell_type": "code",
      "metadata": {
        "id": "W3J535DI-bMy",
        "colab_type": "code",
        "outputId": "6a9f4120-02f6-45b8-ad57-d8b314dce40f",
        "colab": {
          "base_uri": "https://localhost:8080/",
          "height": 454
        }
      },
      "source": [
        "!./bin/train-tree-tagger lexicon.txt open_class.txt corpus_train.txt model_oc "
      ],
      "execution_count": 125,
      "outputs": [
        {
          "output_type": "stream",
          "text": [
            "\n",
            "train-tree-tagger -cl 2 -dtg 0.50 -sw 1.00 -ecw 0.15 -atg 1.20 lexicon.txt open_class.txt corpus_train.txt model_oc\n",
            "\n",
            "\treading the lexicon ...\n",
            "\t\treading the tagset ...\n",
            "\t\treading the lemmas ...\n",
            "\t\treading the entries ...\n",
            "\t\tsorting the lexicon ...\n",
            "\t\treading the open class tags ...\n",
            "\tcalculating tag frequencies ...\n",
            "\r1000\r2000\r3000\r4000\r5000\r6000\r7000\r8000\r9000\r10000\r11000\r12000\r13000\r14000\r15000\r16000\r17000\r18000\r19000\r20000\r21000\r22000\r23000\r24000\r25000\r26000\r27000\r28000\r29000\r30000\r31000\r32000\r33000\r34000\r35000\r36000\r37000\r38000\r39000\r40000\r41000\r42000\r43000\r44000\r45000\r46000\r47000\r48000\r49000\r50000\r51000\r52000\r53000\r54000\r55000\r56000\r57000\tmaking affix tree ...\n",
            "prefix lexicon: 807 nodes\n",
            "suffix lexicon: 1790 nodes\n",
            "\treading classes ...\n",
            "\tmaking ngram table ...\n",
            "\r1000\t943\r2000\t1734\r3000\t2524\r4000\t3306\r5000\t3893\r6000\t4601\r7000\t5248\r8000\t5815\r9000\t6497\r10000\t7176\r11000\t7832\r12000\t8481\r13000\t9117\r14000\t9726\r15000\t10326\r16000\t10838\r17000\t11403\r18000\t12028\r19000\t12516\r20000\t13106\r21000\t13706\r22000\t14293\r23000\t14802\r24000\t15353\r25000\t15898\r26000\t16444\r27000\t17023\r28000\t17567\r29000\t18099\r30000\t18631\r31000\t19119\r32000\t19623\r33000\t20143\r34000\t20530\r35000\t21043\r36000\t21568\r37000\t22020\r38000\t22417\r39000\t22840\r40000\t23175\r41000\t23611\r42000\t23938\r43000\t24411\r44000\t24714\r45000\t24911\r46000\t25250\r47000\t25579\r48000\t25982\r49000\t26353\r50000\t26782\r51000\t27149\r52000\t27532\r53000\t27930\r54000\t28249\r55000\t28519\r56000\t28795\r57000\t29197\r58000\t29569\r59000\t29942\r60000\t30258\r61000\t30548\r62000\t30894\r63000\t31301\r64000\t31680\r65000\t32127\r66000\t32494\r67000\t32847\r68000\t33100\r69000\t33428\r70000\t33726\r71000\t33986\r71345\t34027\n",
            "finished.\n",
            "\tmaking decision tree ...\n",
            "92\tsaving parameters ...\n",
            "\n",
            "Number of nodes: 93\n",
            "Max. path length: 16\n",
            "\n",
            "done.\n"
          ],
          "name": "stdout"
        }
      ]
    },
    {
      "cell_type": "code",
      "metadata": {
        "id": "oNj8Xi6hFbAC",
        "colab_type": "code",
        "colab": {}
      },
      "source": [
        "test = open('test_corpus.txt', 'w')\n",
        "\n",
        "test.write('\\n'.join('Я хочу съесть яблоко .'.split()))\n",
        "\n",
        "test.close()"
      ],
      "execution_count": 0,
      "outputs": []
    },
    {
      "cell_type": "code",
      "metadata": {
        "id": "syQWeP7KFd8N",
        "colab_type": "code",
        "colab": {
          "base_uri": "https://localhost:8080/",
          "height": 97
        },
        "outputId": "b4712448-e565-4f06-cfca-21c9b2f6c0ce"
      },
      "source": [
        "!./bin/tree-tagger model_oc test_corpus.txt output.txt"
      ],
      "execution_count": 127,
      "outputs": [
        {
          "output_type": "stream",
          "text": [
            "\treading parameters ...\n",
            "\ttagging ...\n",
            "\t finished.\n"
          ],
          "name": "stdout"
        }
      ]
    },
    {
      "cell_type": "code",
      "metadata": {
        "id": "UZwBXsvMFkp7",
        "colab_type": "code",
        "colab": {
          "base_uri": "https://localhost:8080/",
          "height": 131
        },
        "outputId": "f0ee0a79-be05-41b6-98f6-80cf5e113f6e"
      },
      "source": [
        "!head output.txt"
      ],
      "execution_count": 128,
      "outputs": [
        {
          "output_type": "stream",
          "text": [
            "NOUN,inan,masc,sing,nomn\n",
            "VERB,impf,tran,sing,1per,pres,indc\n",
            "VERB,perf,tran,masc,sing,past,indc\n",
            "NOUN,anim,masc,Name,sing,nomn\n",
            "SENT\n"
          ],
          "name": "stdout"
        }
      ]
    },
    {
      "cell_type": "markdown",
      "metadata": {
        "id": "K7_Jn-ZEGVld",
        "colab_type": "text"
      },
      "source": [
        "Обучаем на части 0 и 1"
      ]
    },
    {
      "cell_type": "code",
      "metadata": {
        "id": "Xzda0S0sGXO-",
        "colab_type": "code",
        "colab": {
          "base_uri": "https://localhost:8080/",
          "height": 454
        },
        "outputId": "94551a2f-b054-452f-85e7-fa4b1033ac7d"
      },
      "source": [
        "!./bin/train-tree-tagger lexicon.txt open_class.txt corpus_train01.txt model_oc "
      ],
      "execution_count": 129,
      "outputs": [
        {
          "output_type": "stream",
          "text": [
            "\n",
            "train-tree-tagger -cl 2 -dtg 0.50 -sw 1.00 -ecw 0.15 -atg 1.20 lexicon.txt open_class.txt corpus_train01.txt model_oc\n",
            "\n",
            "\treading the lexicon ...\n",
            "\t\treading the tagset ...\n",
            "\t\treading the lemmas ...\n",
            "\t\treading the entries ...\n",
            "\t\tsorting the lexicon ...\n",
            "\t\treading the open class tags ...\n",
            "\tcalculating tag frequencies ...\n",
            "\r1000\r2000\r3000\r4000\r5000\r6000\r7000\r8000\r9000\r10000\r11000\r12000\r13000\r14000\r15000\r16000\r17000\r18000\r19000\r20000\r21000\r22000\r23000\r24000\r25000\r26000\r27000\r28000\r29000\r30000\r31000\r32000\r33000\r34000\r35000\r36000\r37000\r38000\r39000\r40000\r41000\r42000\tmaking affix tree ...\n",
            "prefix lexicon: 806 nodes\n",
            "suffix lexicon: 1802 nodes\n",
            "\treading classes ...\n",
            "\tmaking ngram table ...\n",
            "\r1000\t943\r2000\t1734\r3000\t2524\r4000\t3306\r5000\t3893\r6000\t4601\r7000\t5248\r8000\t5815\r9000\t6497\r10000\t7176\r11000\t7832\r12000\t8481\r13000\t9117\r14000\t9726\r15000\t10326\r16000\t10838\r17000\t11403\r18000\t12028\r19000\t12516\r20000\t13106\r21000\t13706\r22000\t14293\r23000\t14802\r24000\t15353\r25000\t15898\r26000\t16444\r27000\t17023\r28000\t17558\r29000\t18091\r30000\t18624\r31000\t19114\r32000\t19627\r33000\t20128\r34000\t20518\r35000\t21023\r36000\t21553\r37000\t22003\r38000\t22385\r39000\t22760\r40000\t23162\r41000\t23553\r42000\t23931\r43000\t24371\r44000\t24622\r45000\t24841\r46000\t25210\r47000\t25560\r48000\t25965\r49000\t26352\r50000\t26737\r51000\t27140\r51557\t27338\n",
            "finished.\n",
            "\tmaking decision tree ...\n",
            "82\tsaving parameters ...\n",
            "\n",
            "Number of nodes: 83\n",
            "Max. path length: 14\n",
            "\n",
            "done.\n"
          ],
          "name": "stdout"
        }
      ]
    },
    {
      "cell_type": "markdown",
      "metadata": {
        "id": "9G_X1NAd93Cy",
        "colab_type": "text"
      },
      "source": [
        "Предиктим на части 2"
      ]
    },
    {
      "cell_type": "code",
      "metadata": {
        "id": "LysG8tECWsYr",
        "colab_type": "code",
        "colab": {}
      },
      "source": [
        "new = open('corp_test2.txt', 'w')\n",
        "with open('corpus_train2.txt', 'r') as t:\n",
        "  t = t.readlines()\n",
        "  for el in t:\n",
        "    new.write('\\n' + el.split()[0])"
      ],
      "execution_count": 0,
      "outputs": []
    },
    {
      "cell_type": "code",
      "metadata": {
        "id": "9tsgrLND-bOu",
        "colab_type": "code",
        "outputId": "0f13ea39-26ac-4069-d9b2-d6a087570a98",
        "colab": {
          "base_uri": "https://localhost:8080/",
          "height": 97
        }
      },
      "source": [
        "!./bin/tree-tagger model_oc corp_test2.txt output.txt"
      ],
      "execution_count": 24,
      "outputs": [
        {
          "output_type": "stream",
          "text": [
            "\treading parameters ...\n",
            "\ttagging ...\n",
            "\r1000\r2000\r3000\r4000\r5000\r6000\r7000\r8000\r9000\r10000\r11000\r12000\r13000\r14000\r15000\r16000\r17000\r18000\r19000\t finished.\n"
          ],
          "name": "stdout"
        }
      ]
    },
    {
      "cell_type": "code",
      "metadata": {
        "id": "SqQK1I2jhk2v",
        "colab_type": "code",
        "outputId": "6c9918b5-9c85-40ec-bb08-8f972a10af69",
        "colab": {
          "base_uri": "https://localhost:8080/",
          "height": 216
        }
      },
      "source": [
        "!head output.txt"
      ],
      "execution_count": 25,
      "outputs": [
        {
          "output_type": "stream",
          "text": [
            "NOUN,inan,masc,sing,nomn\n",
            "NOUN,inan,neut,sing,datv\n",
            "NOUN,inan,femn,plur,gent\n",
            "PREP\n",
            "NOUN,inan,masc,Sgtm,Fixd,Geox,sing,loct\n",
            "NOUN,inan,neut,sing,loct\n",
            "VERB,impf,intr,sing,3per,pres,indc\n",
            "ADJF,Anum,femn,sing,nomn\n",
            "ADJF,femn,sing,nomn\n",
            "NOUN,inan,femn,sing,nomn\n"
          ],
          "name": "stdout"
        }
      ]
    },
    {
      "cell_type": "code",
      "metadata": {
        "id": "bbhcGA9pwnQ5",
        "colab_type": "code",
        "colab": {}
      },
      "source": [
        "real_mass = []\n",
        "real = open('corpus_train2.txt', 'r')\n",
        "real = real.readlines()\n",
        "#real = real.split(' ')\n",
        "for line in real:\n",
        "  line = line.split('\\t')\n",
        "  #print(line)\n",
        "      #print(i)\n",
        "  real_mass.append([line[0], line[1].split(',')])"
      ],
      "execution_count": 0,
      "outputs": []
    },
    {
      "cell_type": "code",
      "metadata": {
        "id": "lVNH2IlAxk4u",
        "colab_type": "code",
        "colab": {
          "base_uri": "https://localhost:8080/",
          "height": 34
        },
        "outputId": "92f00c89-9e93-47b8-a99e-a7cf3cd57267"
      },
      "source": [
        "real_mass[1][1]"
      ],
      "execution_count": 33,
      "outputs": [
        {
          "output_type": "execute_result",
          "data": {
            "text/plain": [
              "['NOUN', 'inan', 'neut', 'sing', 'datv\\n']"
            ]
          },
          "metadata": {
            "tags": []
          },
          "execution_count": 33
        }
      ]
    },
    {
      "cell_type": "code",
      "metadata": {
        "id": "MJimbBtZygpp",
        "colab_type": "code",
        "colab": {}
      },
      "source": [
        "output_mass = []\n",
        "output = open('output.txt', 'r')\n",
        "output = output.readlines()\n",
        "for line in output:\n",
        "  output_mass.append(line.split(','))\n",
        "output_mass"
      ],
      "execution_count": 0,
      "outputs": []
    },
    {
      "cell_type": "code",
      "metadata": {
        "id": "gcLIlYusu2qy",
        "colab_type": "code",
        "colab": {}
      },
      "source": [
        "import collections \n",
        "from collections import Counter"
      ],
      "execution_count": 0,
      "outputs": []
    },
    {
      "cell_type": "code",
      "metadata": {
        "id": "IpLpyqDPsY7N",
        "colab_type": "code",
        "outputId": "289d3358-8439-4c9d-dd83-01c0a0d388e0",
        "colab": {
          "base_uri": "https://localhost:8080/",
          "height": 51
        }
      },
      "source": [
        "\n",
        "preds = []\n",
        "mistakes = Counter()\n",
        "print(len(output_mass))\n",
        "print(len(real_mass))\n",
        "\n",
        "for i in range(len(output_mass)):\n",
        "  p = len(set(output_mass[i])&set(real_mass[i][1]))/len(set(output_mass[i])|set(real_mass[i][1]))\n",
        "  preds.append(p)\n",
        "  if p < 0.5:\n",
        "    mistakes.update([(real_mass[i][0], tuple(real_mass[i][1]), tuple(output_mass[i]))])\n",
        "  \n"
      ],
      "execution_count": 54,
      "outputs": [
        {
          "output_type": "stream",
          "text": [
            "19162\n",
            "19479\n"
          ],
          "name": "stdout"
        }
      ]
    },
    {
      "cell_type": "code",
      "metadata": {
        "id": "iPjxMy3myL5G",
        "colab_type": "code",
        "colab": {}
      },
      "source": [
        "import numpy as np"
      ],
      "execution_count": 0,
      "outputs": []
    },
    {
      "cell_type": "code",
      "metadata": {
        "id": "vGSkJXnJyC_D",
        "colab_type": "code",
        "outputId": "56e12131-c07c-4bee-8953-550319403ed3",
        "colab": {
          "base_uri": "https://localhost:8080/",
          "height": 34
        }
      },
      "source": [
        "np.mean(preds)"
      ],
      "execution_count": 55,
      "outputs": [
        {
          "output_type": "execute_result",
          "data": {
            "text/plain": [
              "0.8436217482259126"
            ]
          },
          "metadata": {
            "tags": []
          },
          "execution_count": 55
        }
      ]
    },
    {
      "cell_type": "code",
      "metadata": {
        "id": "R-epQ4XkBeuR",
        "colab_type": "code",
        "colab": {
          "base_uri": "https://localhost:8080/",
          "height": 34
        },
        "outputId": "303bd4fb-b506-498c-873f-c0d00262c4c5"
      },
      "source": [
        "np.std(preds)"
      ],
      "execution_count": 110,
      "outputs": [
        {
          "output_type": "execute_result",
          "data": {
            "text/plain": [
              "0.30964162918187177"
            ]
          },
          "metadata": {
            "tags": []
          },
          "execution_count": 110
        }
      ]
    },
    {
      "cell_type": "code",
      "metadata": {
        "id": "QI122_J0yUNT",
        "colab_type": "code",
        "outputId": "cdfa39b7-5399-4ca5-bb7c-9a0fb4af8fa5",
        "colab": {
          "base_uri": "https://localhost:8080/",
          "height": 340
        }
      },
      "source": [
        "mistakes.most_common(10)"
      ],
      "execution_count": 57,
      "outputs": [
        {
          "output_type": "execute_result",
          "data": {
            "text/plain": [
              "[(('В', ('PREP\\n',), ('NOUN', 'inan', 'masc', 'sing', 'nomn\\n')), 128),\n",
              " (('.', ('PNCT\\n',), ('SENT\\n',)), 118),\n",
              " ((',', ('SENT\\n',), ('PNCT\\n',)), 69),\n",
              " (('Я',\n",
              "   ('NPRO', '1per', 'sing', 'nomn\\n'),\n",
              "   ('NOUN', 'inan', 'masc', 'sing', 'nomn\\n')),\n",
              "  64),\n",
              " (('Не', ('PRCL\\n',), ('NOUN', 'inan', 'masc', 'sing', 'nomn\\n')), 47),\n",
              " ((':', ('PNCT\\n',), ('SENT\\n',)), 36),\n",
              " (('Он',\n",
              "   ('NPRO', 'masc', '3per', 'Anph', 'sing', 'nomn\\n'),\n",
              "   ('NOUN', 'inan', 'masc', 'sing', 'nomn\\n')),\n",
              "  32),\n",
              " (('»', ('SENT\\n',), ('PNCT\\n',)), 27),\n",
              " (('.', ('SENT\\n',), ('PNCT\\n',)), 27),\n",
              " (('Ссылки',\n",
              "   ('NOUN', 'inan', 'femn', 'plur', 'nomn\\n'),\n",
              "   ('NOUN', 'inan', 'masc', 'sing', 'nomn\\n')),\n",
              "  25)]"
            ]
          },
          "metadata": {
            "tags": []
          },
          "execution_count": 57
        }
      ]
    },
    {
      "cell_type": "markdown",
      "metadata": {
        "id": "8SazwJK-EDxp",
        "colab_type": "text"
      },
      "source": [
        "Ошибается на предлогах, частицах (короткие слова) + пунктуация + \"ссылки\" "
      ]
    },
    {
      "cell_type": "markdown",
      "metadata": {
        "id": "WSJxxz-i60gv",
        "colab_type": "text"
      },
      "source": [
        "Тренируемся на частях 1 и 2"
      ]
    },
    {
      "cell_type": "code",
      "metadata": {
        "id": "g1N9hE9qS2u2",
        "colab_type": "code",
        "outputId": "29f5eabb-3e61-468d-b48a-5a00a1554007",
        "colab": {
          "base_uri": "https://localhost:8080/",
          "height": 445
        }
      },
      "source": [
        "!./bin/train-tree-tagger lexicon.txt open_class.txt corpus_train12.txt model_oc "
      ],
      "execution_count": 58,
      "outputs": [
        {
          "output_type": "stream",
          "text": [
            "\n",
            "train-tree-tagger -cl 2 -dtg 0.50 -sw 1.00 -ecw 0.15 -atg 1.20 lexicon.txt open_class.txt corpus_train12.txt model_oc\n",
            "\n",
            "\treading the lexicon ...\n",
            "\t\treading the tagset ...\n",
            "\t\treading the lemmas ...\n",
            "\t\treading the entries ...\n",
            "\t\tsorting the lexicon ...\n",
            "\t\treading the open class tags ...\n",
            "\tcalculating tag frequencies ...\n",
            "\r1000\r2000\r3000\r4000\r5000\r6000\r7000\r8000\r9000\r10000\r11000\r12000\r13000\r14000\r15000\r16000\r17000\r18000\r19000\r20000\r21000\r22000\r23000\r24000\r25000\r26000\r27000\r28000\r29000\r30000\r31000\r32000\r33000\r34000\r35000\tmaking affix tree ...\n",
            "prefix lexicon: 807 nodes\n",
            "suffix lexicon: 1800 nodes\n",
            "\treading classes ...\n",
            "\tmaking ngram table ...\n",
            "\r1000\t904\r2000\t1777\r3000\t2558\r4000\t3320\r5000\t4072\r6000\t4812\r7000\t5371\r8000\t6087\r9000\t6798\r10000\t7441\r11000\t7955\r12000\t8462\r13000\t9030\r14000\t9512\r15000\t10083\r16000\t10618\r17000\t10910\r18000\t11263\r19000\t11670\r20000\t12122\r21000\t12603\r22000\t13072\r23000\t13496\r24000\t14026\r25000\t14526\r26000\t14984\r27000\t15375\r28000\t15664\r29000\t16083\r30000\t16534\r31000\t16997\r32000\t17390\r33000\t17748\r34000\t18113\r35000\t18582\r36000\t19091\r37000\t19560\r38000\t19981\r39000\t20428\r40000\t20812\r41000\t21139\r42000\t21507\r43000\t21883\r43801\t22031\n",
            "finished.\n",
            "\tmaking decision tree ...\n",
            "94\tsaving parameters ...\n",
            "\n",
            "Number of nodes: 95\n",
            "Max. path length: 16\n",
            "\n",
            "done.\n"
          ],
          "name": "stdout"
        }
      ]
    },
    {
      "cell_type": "markdown",
      "metadata": {
        "id": "hp_T07SI69kL",
        "colab_type": "text"
      },
      "source": [
        "Предиктим на части 0"
      ]
    },
    {
      "cell_type": "code",
      "metadata": {
        "id": "eNbkG8GgEb1Z",
        "colab_type": "code",
        "colab": {}
      },
      "source": [
        "neww = open('corp_test0.txt', 'w')\n",
        "with open('corpus_train0.txt', 'r') as t:\n",
        "  t = t.readlines()\n",
        "  for el in t:\n",
        "    neww.write('\\n' + el.split()[0])"
      ],
      "execution_count": 0,
      "outputs": []
    },
    {
      "cell_type": "code",
      "metadata": {
        "id": "3uS9AWzhS8qJ",
        "colab_type": "code",
        "outputId": "862e2e80-9fc1-493d-d67d-3f51c65ce174",
        "colab": {
          "base_uri": "https://localhost:8080/",
          "height": 97
        }
      },
      "source": [
        "!./bin/tree-tagger model_oc corp_test0.txt output.txt"
      ],
      "execution_count": 84,
      "outputs": [
        {
          "output_type": "stream",
          "text": [
            "\treading parameters ...\n",
            "\ttagging ...\n",
            "\r1000\r2000\r3000\r4000\r5000\r6000\r7000\r8000\r9000\r10000\r11000\r12000\r13000\r14000\r15000\r16000\r17000\r18000\r19000\r20000\r21000\r22000\r23000\r24000\r25000\r26000\t finished.\n"
          ],
          "name": "stdout"
        }
      ]
    },
    {
      "cell_type": "code",
      "metadata": {
        "id": "rRcdO-lWEqOc",
        "colab_type": "code",
        "colab": {}
      },
      "source": [
        "real_mass = []\n",
        "real = open('corpus_train0.txt', 'r')\n",
        "real = real.readlines()\n",
        "#real = real.split(' ')\n",
        "for line in real:\n",
        "  line = line.split('\\t')\n",
        "  #print(line)\n",
        "      #print(i)\n",
        "  real_mass.append([line[0], line[1].split(',')])\n"
      ],
      "execution_count": 0,
      "outputs": []
    },
    {
      "cell_type": "code",
      "metadata": {
        "id": "zXNnLCeXE8Ta",
        "colab_type": "code",
        "colab": {}
      },
      "source": [
        "output_mass = []\n",
        "output = open('output.txt', 'r')\n",
        "output = output.readlines()\n",
        "for line in output:\n",
        "  output_mass.append(line.split(','))\n",
        "#output_mass"
      ],
      "execution_count": 0,
      "outputs": []
    },
    {
      "cell_type": "code",
      "metadata": {
        "id": "ZYs2iZJTFEcM",
        "colab_type": "code",
        "colab": {}
      },
      "source": [
        "predss = []\n",
        "mistakess = Counter()\n",
        "#print(len(output_mass))\n",
        "#print(len(real_mass))\n",
        "\n",
        "for i in range(len(output_mass)):\n",
        "  p = len(set(output_mass[i])&set(real_mass[i][1]))/len(set(output_mass[i])|set(real_mass[i][1]))\n",
        "  predss.append(p)\n",
        "  if p < 0.5:\n",
        "    mistakess.update([(real_mass[i][0], tuple(real_mass[i][1]), tuple(output_mass[i]))])\n",
        " "
      ],
      "execution_count": 0,
      "outputs": []
    },
    {
      "cell_type": "code",
      "metadata": {
        "id": "xawHWrxgFROF",
        "colab_type": "code",
        "colab": {
          "base_uri": "https://localhost:8080/",
          "height": 34
        },
        "outputId": "408a6378-5a75-40ff-c8a1-504ae6665781"
      },
      "source": [
        "np.mean(predss)"
      ],
      "execution_count": 108,
      "outputs": [
        {
          "output_type": "execute_result",
          "data": {
            "text/plain": [
              "0.8637051094346335"
            ]
          },
          "metadata": {
            "tags": []
          },
          "execution_count": 108
        }
      ]
    },
    {
      "cell_type": "code",
      "metadata": {
        "id": "7UTfFblKBb9B",
        "colab_type": "code",
        "colab": {
          "base_uri": "https://localhost:8080/",
          "height": 34
        },
        "outputId": "cffd45cb-71d3-42ae-c01a-5af13054380a"
      },
      "source": [
        "np.std(predss)"
      ],
      "execution_count": 109,
      "outputs": [
        {
          "output_type": "execute_result",
          "data": {
            "text/plain": [
              "0.3021410718721969"
            ]
          },
          "metadata": {
            "tags": []
          },
          "execution_count": 109
        }
      ]
    },
    {
      "cell_type": "code",
      "metadata": {
        "id": "kOdpTFNsFS_k",
        "colab_type": "code",
        "colab": {
          "base_uri": "https://localhost:8080/",
          "height": 340
        },
        "outputId": "7c896b2b-52a2-48e4-a7ac-865e12823fdf"
      },
      "source": [
        "mistakess.most_common(10)"
      ],
      "execution_count": 89,
      "outputs": [
        {
          "output_type": "execute_result",
          "data": {
            "text/plain": [
              "[(('В', ('PREP\\n',), ('NOUN', 'inan', 'masc', 'sing', 'nomn\\n')), 172),\n",
              " (('.', ('PNCT\\n',), ('SENT\\n',)), 123),\n",
              " (('Я',\n",
              "   ('NPRO', '1per', 'sing', 'nomn\\n'),\n",
              "   ('NOUN', 'inan', 'masc', 'sing', 'nomn\\n')),\n",
              "  54),\n",
              " (('»', ('SENT\\n',), ('PNCT\\n',)), 50),\n",
              " ((':', ('PNCT\\n',), ('SENT\\n',)), 43),\n",
              " (('На', ('PREP\\n',), ('NOUN', 'inan', 'masc', 'sing', 'nomn\\n')), 42),\n",
              " (('Не', ('PRCL\\n',), ('NOUN', 'inan', 'masc', 'sing', 'nomn\\n')), 41),\n",
              " (('И', ('CONJ\\n',), ('NOUN', 'inan', 'masc', 'sing', 'nomn\\n')), 40),\n",
              " (('Мы',\n",
              "   ('NPRO', '1per', 'plur', 'nomn\\n'),\n",
              "   ('NOUN', 'inan', 'masc', 'sing', 'nomn\\n')),\n",
              "  40),\n",
              " (('Он',\n",
              "   ('NPRO', 'masc', '3per', 'Anph', 'sing', 'nomn\\n'),\n",
              "   ('NOUN', 'inan', 'masc', 'sing', 'nomn\\n')),\n",
              "  38)]"
            ]
          },
          "metadata": {
            "tags": []
          },
          "execution_count": 89
        }
      ]
    },
    {
      "cell_type": "markdown",
      "metadata": {
        "id": "MggTHFawEceg",
        "colab_type": "text"
      },
      "source": [
        "Ошибается на предлогах, частицах (короткие слова) + пунктуация "
      ]
    },
    {
      "cell_type": "markdown",
      "metadata": {
        "id": "qAIGoF288qgo",
        "colab_type": "text"
      },
      "source": [
        "Тренируемся на частях 2 и 0"
      ]
    },
    {
      "cell_type": "code",
      "metadata": {
        "id": "ltx5zUMW8Rlc",
        "colab_type": "code",
        "colab": {
          "base_uri": "https://localhost:8080/",
          "height": 472
        },
        "outputId": "3e377864-e7a3-4651-a6ac-5f143d3d0ec3"
      },
      "source": [
        "!./bin/train-tree-tagger lexicon.txt open_class.txt corpus_train02.txt model_oc "
      ],
      "execution_count": 79,
      "outputs": [
        {
          "output_type": "stream",
          "text": [
            "\n",
            "train-tree-tagger -cl 2 -dtg 0.50 -sw 1.00 -ecw 0.15 -atg 1.20 lexicon.txt open_class.txt corpus_train02.txt model_oc\n",
            "\n",
            "\treading the lexicon ...\n",
            "\t\treading the tagset ...\n",
            "\t\treading the lemmas ...\n",
            "\t\treading the entries ...\n",
            "\t\tsorting the lexicon ...\n",
            "\t\treading the open class tags ...\n",
            "\tcalculating tag frequencies ...\n",
            "\r1000\r2000\r3000\r4000\r5000\r6000\r7000\r8000\r9000\r10000\r11000\r12000\r13000\r14000\r15000\r16000\r17000\r18000\r19000\r20000\r21000\r22000\r23000\r24000\r25000\r26000\r27000\r28000\r29000\r30000\r31000\r32000\r33000\r34000\r35000\r36000\r37000\tmaking affix tree ...\n",
            "prefix lexicon: 807 nodes\n",
            "suffix lexicon: 1793 nodes\n",
            "\treading classes ...\n",
            "\tmaking ngram table ...\n",
            "\r1000\t943\r2000\t1734\r3000\t2524\r4000\t3306\r5000\t3893\r6000\t4601\r7000\t5248\r8000\t5815\r9000\t6497\r10000\t7176\r11000\t7832\r12000\t8481\r13000\t9117\r14000\t9726\r15000\t10326\r16000\t10838\r17000\t11403\r18000\t12028\r19000\t12516\r20000\t13106\r21000\t13706\r22000\t14293\r23000\t14802\r24000\t15353\r25000\t15898\r26000\t16444\r27000\t17023\r28000\t17525\r29000\t17948\r30000\t18348\r31000\t18631\r32000\t19045\r33000\t19466\r34000\t19924\r35000\t20310\r36000\t20649\r37000\t21000\r38000\t21465\r39000\t21937\r40000\t22420\r41000\t22846\r42000\t23254\r43000\t23637\r44000\t23952\r45000\t24310\r46000\t24641\r46714\t24784\n",
            "finished.\n",
            "\tmaking decision tree ...\n",
            "78\tsaving parameters ...\n",
            "\n",
            "Number of nodes: 79\n",
            "Max. path length: 17\n",
            "\n",
            "done.\n"
          ],
          "name": "stdout"
        }
      ]
    },
    {
      "cell_type": "markdown",
      "metadata": {
        "id": "dH7b9j2D9J0R",
        "colab_type": "text"
      },
      "source": [
        "Предиктим на части 1"
      ]
    },
    {
      "cell_type": "code",
      "metadata": {
        "id": "gU4sWecM82uC",
        "colab_type": "code",
        "colab": {}
      },
      "source": [
        "newww = open('corp_test1.txt', 'w')\n",
        "with open('corpus_train1.txt', 'r') as t:\n",
        "  t = t.readlines()\n",
        "  for el in t:\n",
        "    newww.write('\\n' + el.split()[0])"
      ],
      "execution_count": 0,
      "outputs": []
    },
    {
      "cell_type": "code",
      "metadata": {
        "id": "-GVL-_xc9U3l",
        "colab_type": "code",
        "colab": {
          "base_uri": "https://localhost:8080/",
          "height": 97
        },
        "outputId": "db76773f-686c-4bd0-da80-d0c845dc33df"
      },
      "source": [
        "!./bin/tree-tagger model_oc corp_test1.txt output.txt"
      ],
      "execution_count": 98,
      "outputs": [
        {
          "output_type": "stream",
          "text": [
            "\treading parameters ...\n",
            "\ttagging ...\n",
            "\r1000\r2000\r3000\r4000\r5000\r6000\r7000\r8000\r9000\r10000\r11000\r12000\r13000\r14000\r15000\r16000\r17000\r18000\r19000\r20000\r21000\r22000\r23000\r24000\t finished.\n"
          ],
          "name": "stdout"
        }
      ]
    },
    {
      "cell_type": "code",
      "metadata": {
        "id": "oAB7ywb4_AiX",
        "colab_type": "code",
        "colab": {}
      },
      "source": [
        "real_mass = []\n",
        "real = open('corpus_train1.txt', 'r')\n",
        "real = real.readlines()\n",
        "#real = real.split(' ')\n",
        "for line in real:\n",
        "  line = line.split('\\t')\n",
        "  #print(line)\n",
        "      #print(i)\n",
        "  real_mass.append([line[0], line[1].split(',')])"
      ],
      "execution_count": 0,
      "outputs": []
    },
    {
      "cell_type": "code",
      "metadata": {
        "id": "WI3k7v0l_JMF",
        "colab_type": "code",
        "colab": {}
      },
      "source": [
        "output_mass = []\n",
        "output = open('output.txt', 'r')\n",
        "output = output.readlines()\n",
        "for line in output:\n",
        "  output_mass.append(line.split(','))\n",
        "#output_mass"
      ],
      "execution_count": 0,
      "outputs": []
    },
    {
      "cell_type": "code",
      "metadata": {
        "id": "G9vsxHGJ_Nie",
        "colab_type": "code",
        "colab": {}
      },
      "source": [
        "predsss = []\n",
        "mistakesss = Counter()\n",
        "#print(len(output_mass))\n",
        "#print(len(real_mass))\n",
        "\n",
        "for i in range(len(output_mass)):\n",
        "  p = len(set(output_mass[i])&set(real_mass[i][1]))/len(set(output_mass[i])|set(real_mass[i][1]))\n",
        "  predsss.append(p)\n",
        "  if p < 0.5:\n",
        "    mistakesss.update([(real_mass[i][0], tuple(real_mass[i][1]), tuple(output_mass[i]))])\n",
        " "
      ],
      "execution_count": 0,
      "outputs": []
    },
    {
      "cell_type": "code",
      "metadata": {
        "id": "qqsKcLQ9_j-d",
        "colab_type": "code",
        "colab": {
          "base_uri": "https://localhost:8080/",
          "height": 34
        },
        "outputId": "16b80bb9-1871-4dfe-baec-a1aeac111d27"
      },
      "source": [
        "np.mean(predsss)"
      ],
      "execution_count": 102,
      "outputs": [
        {
          "output_type": "execute_result",
          "data": {
            "text/plain": [
              "0.8548612410075284"
            ]
          },
          "metadata": {
            "tags": []
          },
          "execution_count": 102
        }
      ]
    },
    {
      "cell_type": "code",
      "metadata": {
        "id": "8V2wsn1wBkZL",
        "colab_type": "code",
        "colab": {
          "base_uri": "https://localhost:8080/",
          "height": 34
        },
        "outputId": "7166d0da-f3ae-4c0e-d19e-cfcfc3a18dbb"
      },
      "source": [
        "np.std(predsss)"
      ],
      "execution_count": 111,
      "outputs": [
        {
          "output_type": "execute_result",
          "data": {
            "text/plain": [
              "0.3065476727213608"
            ]
          },
          "metadata": {
            "tags": []
          },
          "execution_count": 111
        }
      ]
    },
    {
      "cell_type": "code",
      "metadata": {
        "id": "CsHq7x1F_3co",
        "colab_type": "code",
        "colab": {
          "base_uri": "https://localhost:8080/",
          "height": 238
        },
        "outputId": "4683763b-8f39-4fe7-f68b-1de54f1e7178"
      },
      "source": [
        "mistakesss.most_common(10)"
      ],
      "execution_count": 120,
      "outputs": [
        {
          "output_type": "execute_result",
          "data": {
            "text/plain": [
              "[(('.', ('PNCT\\n',), ('SENT\\n',)), 151),\n",
              " (('В', ('PREP\\n',), ('NOUN', 'inan', 'masc', 'sing', 'nomn\\n')), 143),\n",
              " (('Я',\n",
              "   ('NPRO', '1per', 'sing', 'nomn\\n'),\n",
              "   ('NOUN', 'inan', 'masc', 'sing', 'nomn\\n')),\n",
              "  70),\n",
              " ((',', ('SENT\\n',), ('PNCT\\n',)), 69),\n",
              " (('Не', ('PRCL\\n',), ('NOUN', 'inan', 'masc', 'sing', 'nomn\\n')), 35),\n",
              " (('На', ('PREP\\n',), ('NOUN', 'inan', 'masc', 'sing', 'nomn\\n')), 31),\n",
              " (('С', ('PREP\\n',), ('NOUN', 'inan', 'masc', 'sing', 'nomn\\n')), 28),\n",
              " (('.', ('SENT\\n',), ('PNCT\\n',)), 28),\n",
              " (('»', ('SENT\\n',), ('PNCT\\n',)), 27),\n",
              " ((')', ('SENT\\n',), ('PNCT\\n',)), 26)]"
            ]
          },
          "metadata": {
            "tags": []
          },
          "execution_count": 120
        }
      ]
    },
    {
      "cell_type": "markdown",
      "metadata": {
        "id": "vqK26avCEk7z",
        "colab_type": "text"
      },
      "source": [
        "Ошибается на предлогах, частицах (короткие слова) + пунктуация "
      ]
    },
    {
      "cell_type": "markdown",
      "metadata": {
        "id": "M8OQhyu3Etcz",
        "colab_type": "text"
      },
      "source": [
        "В целом ошибки по фолдам примерно одинаковые. Кажется, если тритэггер не знает, что ставить у короткого слова он просто ставит какое-то дефолтное значение 'NOUN', 'inan', 'masc', 'sing', 'nomn'"
      ]
    },
    {
      "cell_type": "markdown",
      "metadata": {
        "id": "xlQHAgpLCW7S",
        "colab_type": "text"
      },
      "source": [
        "Усредненная метрика, а также её стандартное отклонение"
      ]
    },
    {
      "cell_type": "code",
      "metadata": {
        "id": "DcUGoQiq_9r8",
        "colab_type": "code",
        "colab": {}
      },
      "source": [
        "mean_pr = []\n",
        "for i in preds:\n",
        "  mean_pr.append(i)\n",
        "for i in predss:\n",
        "  mean_pr.append(i)\n",
        "for i in predsss:\n",
        "  mean_pr.append(i)"
      ],
      "execution_count": 0,
      "outputs": []
    },
    {
      "cell_type": "code",
      "metadata": {
        "id": "uCgZHBNIA5Zw",
        "colab_type": "code",
        "colab": {
          "base_uri": "https://localhost:8080/",
          "height": 34
        },
        "outputId": "e7603291-26aa-4996-c919-f6ff233e852e"
      },
      "source": [
        "np.mean(mean_pr)"
      ],
      "execution_count": 114,
      "outputs": [
        {
          "output_type": "execute_result",
          "data": {
            "text/plain": [
              "0.856313186623521"
            ]
          },
          "metadata": {
            "tags": []
          },
          "execution_count": 114
        }
      ]
    },
    {
      "cell_type": "code",
      "metadata": {
        "id": "SGXJHm8rA6M7",
        "colab_type": "code",
        "colab": {
          "base_uri": "https://localhost:8080/",
          "height": 34
        },
        "outputId": "17b3fae9-c80d-483a-a61a-bd5ceedf8c60"
      },
      "source": [
        "np.std(mean_pr)"
      ],
      "execution_count": 115,
      "outputs": [
        {
          "output_type": "execute_result",
          "data": {
            "text/plain": [
              "0.3070505831853704"
            ]
          },
          "metadata": {
            "tags": []
          },
          "execution_count": 115
        }
      ]
    },
    {
      "cell_type": "markdown",
      "metadata": {
        "id": "5N1rfvMuDJvd",
        "colab_type": "text"
      },
      "source": [
        "Сравним с пайморфи"
      ]
    },
    {
      "cell_type": "markdown",
      "metadata": {
        "id": "088JQ_ryDYJ2",
        "colab_type": "text"
      },
      "source": [
        "Как мы выяснили на семинаре мера жаккара для пайморфи - 0.9338109124901879, то есть выше, чем у третэгера."
      ]
    },
    {
      "cell_type": "markdown",
      "metadata": {
        "id": "iIrChjf8DpQ8",
        "colab_type": "text"
      },
      "source": [
        "Ошибки пайморфи:\n",
        "\n",
        "[(('также', ('PRCL',), ('CONJ',)), 89),\n",
        "\n",
        " (('тоже', ('PRCL',), ('ADVB',)), 37),\n",
        " \n",
        " (('человек',\n",
        "   ('NOUN', 'plur', 'masc', 'anim', 'gent'),\n",
        "   ('masc', 'anim', 'nomn', 'NOUN', 'sing')),\n",
        "  31),\n",
        " \n",
        " (('этом',\n",
        "   ('Anph', 'masc', 'Apro', 'Subx', 'ADJF', 'loct', 'sing'),\n",
        "   ('loct', 'NPRO', 'neut', 'sing')),\n",
        "  27),\n",
        " \n",
        " (('Ссылки',\n",
        "   ('plur', 'inan', 'femn', 'nomn', 'NOUN'),\n",
        "   ('gent', 'femn', 'inan', 'NOUN', 'sing')),\n",
        "  26),\n",
        " \n",
        " (('Также', ('PRCL',), ('CONJ',)), 24),\n",
        " \n",
        " (('Примечания',\n",
        "   ('plur', 'inan', 'neut', 'nomn', 'NOUN'),\n",
        "   ('NOUN', 'neut', 'inan', 'gent', 'sing')),\n",
        "  23),\n",
        "\n",
        "(('=', ('SYMB',), ('UNKN',)), 20),\n",
        "\n",
        "(('№', ('SYMB',), ('UNKN',)), 19),\n",
        "\n",
        "(('>', ('SYMB',), ('UNKN',)), 19)]\n"
      ]
    },
    {
      "cell_type": "markdown",
      "metadata": {
        "id": "i8RxB01YGvgq",
        "colab_type": "text"
      },
      "source": [
        "Ошибки пайморфи отличаются от тритэггера (кроме злополучных \"ссылок\"). Видимо, у тритэггера как-то лучше с неоднозначностью, хотя есть свои проблемы с короткими словами и пунктуацией."
      ]
    },
    {
      "cell_type": "code",
      "metadata": {
        "id": "7A7DwBc7Drzn",
        "colab_type": "code",
        "colab": {}
      },
      "source": [
        ""
      ],
      "execution_count": 0,
      "outputs": []
    }
  ]
}