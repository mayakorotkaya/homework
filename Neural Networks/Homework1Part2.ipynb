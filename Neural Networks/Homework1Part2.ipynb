{
  "nbformat": 4,
  "nbformat_minor": 0,
  "metadata": {
    "colab": {
      "name": "Homework1Part2.ipynb",
      "provenance": []
    },
    "kernelspec": {
      "name": "python3",
      "display_name": "Python 3"
    },
    "accelerator": "GPU"
  },
  "cells": [
    {
      "cell_type": "code",
      "metadata": {
        "id": "M4KC-HAPumzH",
        "colab_type": "code",
        "colab": {}
      },
      "source": [
        "import matplotlib.pyplot as plt\n",
        "from matplotlib.pyplot import hist\n",
        "from collections import Counter\n",
        "import re"
      ],
      "execution_count": 0,
      "outputs": []
    },
    {
      "cell_type": "code",
      "metadata": {
        "id": "TosyIB8ZQzH3",
        "colab_type": "code",
        "colab": {}
      },
      "source": [
        "!pip install -U -q PyDrive\n",
        "from pydrive.auth import GoogleAuth\n",
        "from pydrive.drive import GoogleDrive\n",
        "from google.colab import auth\n",
        "from oauth2client.client import GoogleCredentials\n",
        "auth.authenticate_user()\n",
        "gauth = GoogleAuth()\n",
        "gauth.credentials = GoogleCredentials.get_application_default()\n",
        "drive = GoogleDrive(gauth)"
      ],
      "execution_count": 0,
      "outputs": []
    },
    {
      "cell_type": "markdown",
      "metadata": {
        "id": "2kT_NYOoy3Z0",
        "colab_type": "text"
      },
      "source": [
        "Загрузим файл на виртуальную среду "
      ]
    },
    {
      "cell_type": "code",
      "metadata": {
        "id": "tNAUuVd7Q5JI",
        "colab_type": "code",
        "colab": {}
      },
      "source": [
        "idd = '1dAaDSuWAdQaSNEN5Xp67SBg0ALtKJowr'\n",
        "downloaded_ = drive.CreateFile({'id':idd}) \n",
        "downloaded_.GetContentFile('train.csv')\n",
        "\n",
        "import pandas as pd \n",
        "train = pd.read_csv('train.csv', sep=';')"
      ],
      "execution_count": 0,
      "outputs": []
    },
    {
      "cell_type": "markdown",
      "metadata": {
        "id": "s6hBH8GwzPjZ",
        "colab_type": "text"
      },
      "source": [
        "Так как задачей является классификация продуктов, поэтому информацией заложенной в названии категорий мы можем пренебречь. \n",
        "<br>Замапим категории, чтобы в дальнейшем номер категори можно было использовать как индекс единицы в one hot encoding (расчет Лосс функции), или в терминах вероятности, модель училась генерировать близкое к верному вероятностное распределние, например [1,0,0...0] (распределение для нулевой категори)"
      ]
    },
    {
      "cell_type": "code",
      "metadata": {
        "id": "2ugT7Ekudovp",
        "colab_type": "code",
        "outputId": "2b635df7-719d-40f0-95e0-ec60d33ecf0d",
        "colab": {
          "base_uri": "https://localhost:8080/",
          "height": 204
        }
      },
      "source": [
        "transform = {i: str(indx) for indx, i in enumerate(train.category.unique())}\n",
        "def transorm_(x):\n",
        "  return transform[x]\n",
        "train['labels'] = train['category'].apply(transorm_)\n",
        "train.head()"
      ],
      "execution_count": 4,
      "outputs": [
        {
          "output_type": "execute_result",
          "data": {
            "text/html": [
              "<div>\n",
              "<style scoped>\n",
              "    .dataframe tbody tr th:only-of-type {\n",
              "        vertical-align: middle;\n",
              "    }\n",
              "\n",
              "    .dataframe tbody tr th {\n",
              "        vertical-align: top;\n",
              "    }\n",
              "\n",
              "    .dataframe thead th {\n",
              "        text-align: right;\n",
              "    }\n",
              "</style>\n",
              "<table border=\"1\" class=\"dataframe\">\n",
              "  <thead>\n",
              "    <tr style=\"text-align: right;\">\n",
              "      <th></th>\n",
              "      <th>descr</th>\n",
              "      <th>category</th>\n",
              "      <th>labels</th>\n",
              "    </tr>\n",
              "  </thead>\n",
              "  <tbody>\n",
              "    <tr>\n",
              "      <th>0</th>\n",
              "      <td>ЯСНЫЕ ЗОРИ Филе ЦБ п/ф зам.подл.1кг</td>\n",
              "      <td>Замороженное мясо птицы</td>\n",
              "      <td>0</td>\n",
              "    </tr>\n",
              "    <tr>\n",
              "      <th>1</th>\n",
              "      <td>Вино ALESAN BORD.11.5%кр. 0.75л</td>\n",
              "      <td>Вино тихое</td>\n",
              "      <td>1</td>\n",
              "    </tr>\n",
              "    <tr>\n",
              "      <th>2</th>\n",
              "      <td>Карбонат ГУРМАН ЮБИЛЕЙНЫЙ 1кг</td>\n",
              "      <td>Деликатесы</td>\n",
              "      <td>2</td>\n",
              "    </tr>\n",
              "    <tr>\n",
              "      <th>3</th>\n",
              "      <td>Фисташки ЛЕДНИКОВЫЙ ПЕРИОД жар.сол.250г</td>\n",
              "      <td>Орехи</td>\n",
              "      <td>3</td>\n",
              "    </tr>\n",
              "    <tr>\n",
              "      <th>4</th>\n",
              "      <td>Грудинка ЮЖНАЯ в/к в/с      1кг</td>\n",
              "      <td>Деликатесы</td>\n",
              "      <td>2</td>\n",
              "    </tr>\n",
              "  </tbody>\n",
              "</table>\n",
              "</div>"
            ],
            "text/plain": [
              "                                     descr                 category labels\n",
              "0      ЯСНЫЕ ЗОРИ Филе ЦБ п/ф зам.подл.1кг  Замороженное мясо птицы      0\n",
              "1          Вино ALESAN BORD.11.5%кр. 0.75л               Вино тихое      1\n",
              "2            Карбонат ГУРМАН ЮБИЛЕЙНЫЙ 1кг               Деликатесы      2\n",
              "3  Фисташки ЛЕДНИКОВЫЙ ПЕРИОД жар.сол.250г                    Орехи      3\n",
              "4          Грудинка ЮЖНАЯ в/к в/с      1кг               Деликатесы      2"
            ]
          },
          "metadata": {
            "tags": []
          },
          "execution_count": 4
        }
      ]
    },
    {
      "cell_type": "markdown",
      "metadata": {
        "id": "BqBCFfMfQvvj",
        "colab_type": "text"
      },
      "source": [
        "# EDA"
      ]
    },
    {
      "cell_type": "markdown",
      "metadata": {
        "id": "txw62S0a0bRd",
        "colab_type": "text"
      },
      "source": [
        "Построим гистограмму распределения классов на тренировочной выборке.  "
      ]
    },
    {
      "cell_type": "code",
      "metadata": {
        "id": "oXnzSZJ4vD6m",
        "colab_type": "code",
        "outputId": "4d0e8611-9b94-4a3c-cfe4-47f3440f83c8",
        "colab": {
          "base_uri": "https://localhost:8080/",
          "height": 1000
        }
      },
      "source": [
        "plt.figure(figsize=(20, 13))\n",
        "to_bCh = Counter(train.category.tolist()).items()\n",
        "h = [j for i,j in to_bCh]\n",
        "lbls = [i for i,j in to_bCh]\n",
        "plt.bar(range(len(transform)),h ,tick_label = lbls)\n",
        "print(max(h), lbls[h.index(max(h))])\n",
        "plt.xticks(rotation=90, ha='right')\n",
        "plt.show()"
      ],
      "execution_count": 5,
      "outputs": [
        {
          "output_type": "stream",
          "text": [
            "31836 Колбасные изделия\n"
          ],
          "name": "stdout"
        },
        {
          "output_type": "display_data",
          "data": {
            "image/png": "[encoded data removed]",
            "text/plain": [
              "<Figure size 1440x936 with 1 Axes>"
            ]
          },
          "metadata": {
            "tags": []
          }
        }
      ]
    },
    {
      "cell_type": "code",
      "metadata": {
        "id": "tyV82huOyr3k",
        "colab_type": "code",
        "outputId": "0def8e5d-6c36-412e-e69f-92299c457996",
        "colab": {
          "base_uri": "https://localhost:8080/",
          "height": 190
        }
      },
      "source": [
        "to_bCh = sorted(to_bCh, key=lambda x: x[1], reverse = True)\n",
        "print('Категории, содержащие наименьшим количество товаров в тренировочной выборке:')\n",
        "for name, value in list((to_bCh))[:129:-1]:\n",
        "  print( name, ':', value) "
      ],
      "execution_count": 6,
      "outputs": [
        {
          "output_type": "stream",
          "text": [
            "Категории, содержащие наименьшим количество товаров в тренировочной выборке:\n",
            "Вино безалкогольное : 2\n",
            "Сухие компоненты и смеси (Fresh) : 6\n",
            "Копчености из других видов мяса : 9\n",
            "Вина плодовые и прочие : 11\n",
            "Копчености из говядины : 11\n",
            "Горчица, хрен : 17\n",
            "Безалкогольное вино : 18\n",
            "Витамины, добавки для животных : 34\n"
          ],
          "name": "stdout"
        }
      ]
    },
    {
      "cell_type": "code",
      "metadata": {
        "id": "G74caOvG1c2z",
        "colab_type": "code",
        "outputId": "d149dde8-cdf6-4a9f-8b7e-7f7843406da8",
        "colab": {
          "base_uri": "https://localhost:8080/",
          "height": 54
        }
      },
      "source": [
        "sum_values = 0\n",
        "for name, value in list((to_bCh))[:129:-1]:\n",
        "  sum_values+=value\n",
        "print('Процентное соотношение товаров редких категории относительно тренировочной выборки - {0:0.2f}'.format(sum_values/train.shape[0]*100))"
      ],
      "execution_count": 8,
      "outputs": [
        {
          "output_type": "stream",
          "text": [
            "Процентное соотношение товаров редких категории относительно тренировочной выборки - 0.03\n"
          ],
          "name": "stdout"
        }
      ]
    },
    {
      "cell_type": "markdown",
      "metadata": {
        "id": "kMBH-KEKzm16",
        "colab_type": "text"
      },
      "source": [
        "В целом, этими классами можно перенебречь, так как в них содержится менее 0.03% от общего количества товаров.  Кроме того, в дальнейшем, для оценки результатов будут использваться взвешенные метрики, что позволит невелировать ошибки(если таковые будут), касающиеся этих категорий."
      ]
    },
    {
      "cell_type": "markdown",
      "metadata": {
        "id": "JtkShc4P3Ab8",
        "colab_type": "text"
      },
      "source": [
        "Проведем предобработку названий"
      ]
    },
    {
      "cell_type": "code",
      "metadata": {
        "id": "1Ot6n8d-lNpK",
        "colab_type": "code",
        "outputId": "3517e639-fbef-4bce-92e6-82f24188b793",
        "colab": {
          "base_uri": "https://localhost:8080/",
          "height": 1000
        }
      },
      "source": [
        "def clear(x):\n",
        "  #x = ' '.join([i for i in re.findall('[^a-zA-Z]+', str(x).lower())])\n",
        "  #x = re.sub('[\\.%]',' ', x)\n",
        "  x = re.sub('[0-9]+','', str(x).lower()) # Числовые значения хоть и косвенно несут информацию о категории продукта, однако они не стандартизированы и в при таких объемах могут создавать шум\n",
        "  x = re.sub('[\\.\\-\\+,\"/%№]',' ', x) # заменим занки препинания и спец символы на пробелы\n",
        "  x = re.sub('\\s+',' ', x) # \n",
        "  \n",
        "  return x\n",
        "\n",
        "train['cl_descr'] = train.descr.apply(clear)\n",
        "train.tail(40)"
      ],
      "execution_count": 9,
      "outputs": [
        {
          "output_type": "execute_result",
          "data": {
            "text/html": [
              "<div>\n",
              "<style scoped>\n",
              "    .dataframe tbody tr th:only-of-type {\n",
              "        vertical-align: middle;\n",
              "    }\n",
              "\n",
              "    .dataframe tbody tr th {\n",
              "        vertical-align: top;\n",
              "    }\n",
              "\n",
              "    .dataframe thead th {\n",
              "        text-align: right;\n",
              "    }\n",
              "</style>\n",
              "<table border=\"1\" class=\"dataframe\">\n",
              "  <thead>\n",
              "    <tr style=\"text-align: right;\">\n",
              "      <th></th>\n",
              "      <th>descr</th>\n",
              "      <th>category</th>\n",
              "      <th>labels</th>\n",
              "      <th>cl_descr</th>\n",
              "    </tr>\n",
              "  </thead>\n",
              "  <tbody>\n",
              "    <tr>\n",
              "      <th>368907</th>\n",
              "      <td>MILKA Конф.KLEINES DANKES.из мол.шок110г</td>\n",
              "      <td>Конфеты</td>\n",
              "      <td>7</td>\n",
              "      <td>milka конф kleines dankes из мол шокг</td>\n",
              "    </tr>\n",
              "    <tr>\n",
              "      <th>368908</th>\n",
              "      <td>Вино КАМБРАС бел.сух.0.7л</td>\n",
              "      <td>Вино тихое</td>\n",
              "      <td>1</td>\n",
              "      <td>вино камбрас бел сух л</td>\n",
              "    </tr>\n",
              "    <tr>\n",
              "      <th>368909</th>\n",
              "      <td>ШОЛОХОВ.ХК Булочка с вишней в/с 80г</td>\n",
              "      <td>Пироги, изделия сдобные</td>\n",
              "      <td>16</td>\n",
              "      <td>шолохов хк булочка с вишней в с г</td>\n",
              "    </tr>\n",
              "    <tr>\n",
              "      <th>368910</th>\n",
              "      <td>SCHARD.Сыр АЛЬПЦИРЛЕР 50%   1кг</td>\n",
              "      <td>Сыры</td>\n",
              "      <td>6</td>\n",
              "      <td>schard сыр альпцирлер кг</td>\n",
              "    </tr>\n",
              "    <tr>\n",
              "      <th>368911</th>\n",
              "      <td>ПЕТЕЛИНКА Бедро ОСОБОЕ в чесн.соусе 1кг</td>\n",
              "      <td>Птица и П/Ф охлажденые</td>\n",
              "      <td>53</td>\n",
              "      <td>петелинка бедро особое в чесн соусе кг</td>\n",
              "    </tr>\n",
              "    <tr>\n",
              "      <th>368912</th>\n",
              "      <td>COEUR DU NORD Сыр БЮШ МОЛОД.мяг.45% 130г</td>\n",
              "      <td>Сыры</td>\n",
              "      <td>6</td>\n",
              "      <td>coeur du nord сыр бюш молод мяг г</td>\n",
              "    </tr>\n",
              "    <tr>\n",
              "      <th>368913</th>\n",
              "      <td>SALAM.Крем NUB.-VEL.т/кор. 75мл</td>\n",
              "      <td>Средства ухода за обувью</td>\n",
              "      <td>28</td>\n",
              "      <td>salam крем nub vel т кор мл</td>\n",
              "    </tr>\n",
              "    <tr>\n",
              "      <th>368914</th>\n",
              "      <td>СЛАДА Карамель Драже Лимончики 1кг</td>\n",
              "      <td>Конфеты</td>\n",
              "      <td>7</td>\n",
              "      <td>слада карамель драже лимончики кг</td>\n",
              "    </tr>\n",
              "    <tr>\n",
              "      <th>368915</th>\n",
              "      <td>Набор д/бульона куриный заморож.подл.1кг</td>\n",
              "      <td>Замороженное мясо птицы</td>\n",
              "      <td>0</td>\n",
              "      <td>набор д бульона куриный заморож подл кг</td>\n",
              "    </tr>\n",
              "    <tr>\n",
              "      <th>368916</th>\n",
              "      <td>Капуста Молодая свежая отеч</td>\n",
              "      <td>Овощи/Грибы</td>\n",
              "      <td>42</td>\n",
              "      <td>капуста молодая свежая отеч</td>\n",
              "    </tr>\n",
              "    <tr>\n",
              "      <th>368917</th>\n",
              "      <td>ПЕРШИНСКОЕ Молоко цельное 3.6-4.8% 1л</td>\n",
              "      <td>Молоко</td>\n",
              "      <td>46</td>\n",
              "      <td>першинское молоко цельное л</td>\n",
              "    </tr>\n",
              "    <tr>\n",
              "      <th>368918</th>\n",
              "      <td>COUVERTURE Торт МЕДОВИК 670г</td>\n",
              "      <td>Торты, пирожные свежие</td>\n",
              "      <td>37</td>\n",
              "      <td>couverture торт медовик г</td>\n",
              "    </tr>\n",
              "    <tr>\n",
              "      <th>368919</th>\n",
              "      <td>NIVEA Промо-набор№2ДАЧНЫЙ СЕЗОН</td>\n",
              "      <td>Крема и товары для красоты</td>\n",
              "      <td>8</td>\n",
              "      <td>nivea промо набор дачный сезон</td>\n",
              "    </tr>\n",
              "    <tr>\n",
              "      <th>368920</th>\n",
              "      <td>Вино S.-MAL.LА CARBAS.кр.п/дес.16% 0.75л</td>\n",
              "      <td>Вино крепленое</td>\n",
              "      <td>51</td>\n",
              "      <td>вино s mal lа carbas кр п дес л</td>\n",
              "    </tr>\n",
              "    <tr>\n",
              "      <th>368921</th>\n",
              "      <td>Горбуша в масле            200г</td>\n",
              "      <td>Пресервы</td>\n",
              "      <td>58</td>\n",
              "      <td>горбуша в масле г</td>\n",
              "    </tr>\n",
              "    <tr>\n",
              "      <th>368922</th>\n",
              "      <td>Р.СУВ.З/п АЙВОР.мяг.мят.вк.100г</td>\n",
              "      <td>Гигиена рта</td>\n",
              "      <td>73</td>\n",
              "      <td>р сув з п айвор мяг мят вк г</td>\n",
              "    </tr>\n",
              "    <tr>\n",
              "      <th>368923</th>\n",
              "      <td>Вомер вяленый 150г</td>\n",
              "      <td>Рыба вяленая, сушеная</td>\n",
              "      <td>69</td>\n",
              "      <td>вомер вяленый г</td>\n",
              "    </tr>\n",
              "    <tr>\n",
              "      <th>368924</th>\n",
              "      <td>TRIOL Набор RH-2-6 кость из жил2 10-15г</td>\n",
              "      <td>Корма для собак</td>\n",
              "      <td>106</td>\n",
              "      <td>triol набор rh кость из жил г</td>\n",
              "    </tr>\n",
              "    <tr>\n",
              "      <th>368925</th>\n",
              "      <td>ФРУТОНЯНЯ Каша рисовая б/м.б/р 200г</td>\n",
              "      <td>Детские сухие смеси</td>\n",
              "      <td>43</td>\n",
              "      <td>фрутоняня каша рисовая б м б р г</td>\n",
              "    </tr>\n",
              "    <tr>\n",
              "      <th>368926</th>\n",
              "      <td>СИГАРЕТЫ NEXT BLUE 1ПАЧКА</td>\n",
              "      <td>Табачные изделия и аксессуары</td>\n",
              "      <td>18</td>\n",
              "      <td>сигареты next blue пачка</td>\n",
              "    </tr>\n",
              "    <tr>\n",
              "      <th>368927</th>\n",
              "      <td>ТОМ.МОЛ.Сыворотка мол.паст.0,1% п/п 900г</td>\n",
              "      <td>Кисломолочные продукты</td>\n",
              "      <td>21</td>\n",
              "      <td>том мол сыворотка мол паст п п г</td>\n",
              "    </tr>\n",
              "    <tr>\n",
              "      <th>368928</th>\n",
              "      <td>SAN.Сред.НЕЖН.РУКИ д/м пос.ал/вера 500мл</td>\n",
              "      <td>Моющие,чистящие средства</td>\n",
              "      <td>85</td>\n",
              "      <td>san сред нежн руки д м пос ал вера мл</td>\n",
              "    </tr>\n",
              "    <tr>\n",
              "      <th>368929</th>\n",
              "      <td>ЛЮБ.КУБАНЬ Зефир вкус пломб.гл.330г</td>\n",
              "      <td>Зефир, мармелад, пастила</td>\n",
              "      <td>23</td>\n",
              "      <td>люб кубань зефир вкус пломб гл г</td>\n",
              "    </tr>\n",
              "    <tr>\n",
              "      <th>368930</th>\n",
              "      <td>СИТНО Колбаса ДОКТОР.вар.с мяс.птицы 1кг</td>\n",
              "      <td>Колбасные изделия</td>\n",
              "      <td>25</td>\n",
              "      <td>ситно колбаса доктор вар с мяс птицы кг</td>\n",
              "    </tr>\n",
              "    <tr>\n",
              "      <th>368931</th>\n",
              "      <td>Сметана 15% стакан 350г</td>\n",
              "      <td>Кисломолочные продукты</td>\n",
              "      <td>21</td>\n",
              "      <td>сметана стакан г</td>\n",
              "    </tr>\n",
              "    <tr>\n",
              "      <th>368932</th>\n",
              "      <td>РЕМИТ Колб.ГРИЛЬ кур.вар.с.экс.в/у 300г</td>\n",
              "      <td>Колбасные изделия</td>\n",
              "      <td>25</td>\n",
              "      <td>ремит колб гриль кур вар с экс в у г</td>\n",
              "    </tr>\n",
              "    <tr>\n",
              "      <th>368933</th>\n",
              "      <td>TE GUSTO Варенье из мандарина 330г</td>\n",
              "      <td>Варенье, мёд</td>\n",
              "      <td>75</td>\n",
              "      <td>te gusto варенье из мандарина г</td>\n",
              "    </tr>\n",
              "    <tr>\n",
              "      <th>368934</th>\n",
              "      <td>Батон.мюсли Тинятовъ Антис. 25г</td>\n",
              "      <td>Сухие завтраки, мюсли</td>\n",
              "      <td>68</td>\n",
              "      <td>батон мюсли тинятовъ антис г</td>\n",
              "    </tr>\n",
              "    <tr>\n",
              "      <th>368935</th>\n",
              "      <td>Коктейль вин.AMORE ПИН.КОЛ.газ.ар6% 0.5л</td>\n",
              "      <td>Слабоалкогольные напитки</td>\n",
              "      <td>122</td>\n",
              "      <td>коктейль вин amore пин кол газ ар л</td>\n",
              "    </tr>\n",
              "    <tr>\n",
              "      <th>368936</th>\n",
              "      <td>Чахохбили Остров-2 1кг</td>\n",
              "      <td>Собственное производство (Мясные изд.)</td>\n",
              "      <td>12</td>\n",
              "      <td>чахохбили остров кг</td>\n",
              "    </tr>\n",
              "    <tr>\n",
              "      <th>368937</th>\n",
              "      <td>RIS.Чай ИРЛ.ЗАВТР.чер.бай. 200г</td>\n",
              "      <td>Чай</td>\n",
              "      <td>38</td>\n",
              "      <td>ris чай ирл завтр чер бай г</td>\n",
              "    </tr>\n",
              "    <tr>\n",
              "      <th>368938</th>\n",
              "      <td>МИРИТАЛЬ Пельмени СИБИРСКИЕ 1кг</td>\n",
              "      <td>Замороженные полуфабрикаты</td>\n",
              "      <td>72</td>\n",
              "      <td>мириталь пельмени сибирские кг</td>\n",
              "    </tr>\n",
              "    <tr>\n",
              "      <th>368939</th>\n",
              "      <td>СОЧИН.МК Сосис.ФИЛ.С МАС.мяс.пт.вар.480г</td>\n",
              "      <td>Колбасные изделия</td>\n",
              "      <td>25</td>\n",
              "      <td>сочин мк сосис фил с мас мяс пт вар г</td>\n",
              "    </tr>\n",
              "    <tr>\n",
              "      <th>368940</th>\n",
              "      <td>Фасоль стручк резан см 1кг</td>\n",
              "      <td>Замороженная плодоовощная продукция</td>\n",
              "      <td>71</td>\n",
              "      <td>фасоль стручк резан см кг</td>\n",
              "    </tr>\n",
              "    <tr>\n",
              "      <th>368941</th>\n",
              "      <td>Птица Боярская в обсыпке в/к Кормир</td>\n",
              "      <td>Деликатесы</td>\n",
              "      <td>2</td>\n",
              "      <td>птица боярская в обсыпке в к кормир</td>\n",
              "    </tr>\n",
              "    <tr>\n",
              "      <th>368942</th>\n",
              "      <td>СМАК Изделия РОЖКИ макаронные 1кг</td>\n",
              "      <td>Макаронные изделия</td>\n",
              "      <td>52</td>\n",
              "      <td>смак изделия рожки макаронные кг</td>\n",
              "    </tr>\n",
              "    <tr>\n",
              "      <th>368943</th>\n",
              "      <td>ГМК Колбаса ЛЮБИТЕЛЬСКАЯ с/к 1с.лат. 1кг</td>\n",
              "      <td>Колбасные изделия</td>\n",
              "      <td>25</td>\n",
              "      <td>гмк колбаса любительская с к с лат кг</td>\n",
              "    </tr>\n",
              "    <tr>\n",
              "      <th>368944</th>\n",
              "      <td>Буженина Подмосковная Рамен</td>\n",
              "      <td>Деликатесы</td>\n",
              "      <td>2</td>\n",
              "      <td>буженина подмосковная рамен</td>\n",
              "    </tr>\n",
              "    <tr>\n",
              "      <th>368945</th>\n",
              "      <td>Кета пласт х/к              1кг</td>\n",
              "      <td>Рыба копченая</td>\n",
              "      <td>48</td>\n",
              "      <td>кета пласт х к кг</td>\n",
              "    </tr>\n",
              "    <tr>\n",
              "      <th>368946</th>\n",
              "      <td>PUPA Основа SMART SKIN тонал.компакт.01</td>\n",
              "      <td>Декоративная косметика, туал вода.</td>\n",
              "      <td>29</td>\n",
              "      <td>pupa основа smart skin тонал компакт</td>\n",
              "    </tr>\n",
              "  </tbody>\n",
              "</table>\n",
              "</div>"
            ],
            "text/plain": [
              "                                           descr  ...                                 cl_descr\n",
              "368907  MILKA Конф.KLEINES DANKES.из мол.шок110г  ...    milka конф kleines dankes из мол шокг\n",
              "368908                 Вино КАМБРАС бел.сух.0.7л  ...                   вино камбрас бел сух л\n",
              "368909       ШОЛОХОВ.ХК Булочка с вишней в/с 80г  ...        шолохов хк булочка с вишней в с г\n",
              "368910           SCHARD.Сыр АЛЬПЦИРЛЕР 50%   1кг  ...                 schard сыр альпцирлер кг\n",
              "368911   ПЕТЕЛИНКА Бедро ОСОБОЕ в чесн.соусе 1кг  ...   петелинка бедро особое в чесн соусе кг\n",
              "368912  COEUR DU NORD Сыр БЮШ МОЛОД.мяг.45% 130г  ...        coeur du nord сыр бюш молод мяг г\n",
              "368913           SALAM.Крем NUB.-VEL.т/кор. 75мл  ...              salam крем nub vel т кор мл\n",
              "368914        СЛАДА Карамель Драже Лимончики 1кг  ...        слада карамель драже лимончики кг\n",
              "368915  Набор д/бульона куриный заморож.подл.1кг  ...  набор д бульона куриный заморож подл кг\n",
              "368916               Капуста Молодая свежая отеч  ...              капуста молодая свежая отеч\n",
              "368917     ПЕРШИНСКОЕ Молоко цельное 3.6-4.8% 1л  ...              першинское молоко цельное л\n",
              "368918              COUVERTURE Торт МЕДОВИК 670г  ...                couverture торт медовик г\n",
              "368919           NIVEA Промо-набор№2ДАЧНЫЙ СЕЗОН  ...           nivea промо набор дачный сезон\n",
              "368920  Вино S.-MAL.LА CARBAS.кр.п/дес.16% 0.75л  ...          вино s mal lа carbas кр п дес л\n",
              "368921           Горбуша в масле            200г  ...                        горбуша в масле г\n",
              "368922           Р.СУВ.З/п АЙВОР.мяг.мят.вк.100г  ...             р сув з п айвор мяг мят вк г\n",
              "368923                        Вомер вяленый 150г  ...                          вомер вяленый г\n",
              "368924   TRIOL Набор RH-2-6 кость из жил2 10-15г  ...            triol набор rh кость из жил г\n",
              "368925       ФРУТОНЯНЯ Каша рисовая б/м.б/р 200г  ...         фрутоняня каша рисовая б м б р г\n",
              "368926                 СИГАРЕТЫ NEXT BLUE 1ПАЧКА  ...                 сигареты next blue пачка\n",
              "368927  ТОМ.МОЛ.Сыворотка мол.паст.0,1% п/п 900г  ...         том мол сыворотка мол паст п п г\n",
              "368928  SAN.Сред.НЕЖН.РУКИ д/м пос.ал/вера 500мл  ...    san сред нежн руки д м пос ал вера мл\n",
              "368929       ЛЮБ.КУБАНЬ Зефир вкус пломб.гл.330г  ...         люб кубань зефир вкус пломб гл г\n",
              "368930  СИТНО Колбаса ДОКТОР.вар.с мяс.птицы 1кг  ...  ситно колбаса доктор вар с мяс птицы кг\n",
              "368931                   Сметана 15% стакан 350г  ...                         сметана стакан г\n",
              "368932   РЕМИТ Колб.ГРИЛЬ кур.вар.с.экс.в/у 300г  ...     ремит колб гриль кур вар с экс в у г\n",
              "368933        TE GUSTO Варенье из мандарина 330г  ...          te gusto варенье из мандарина г\n",
              "368934           Батон.мюсли Тинятовъ Антис. 25г  ...             батон мюсли тинятовъ антис г\n",
              "368935  Коктейль вин.AMORE ПИН.КОЛ.газ.ар6% 0.5л  ...      коктейль вин amore пин кол газ ар л\n",
              "368936                    Чахохбили Остров-2 1кг  ...                      чахохбили остров кг\n",
              "368937           RIS.Чай ИРЛ.ЗАВТР.чер.бай. 200г  ...              ris чай ирл завтр чер бай г\n",
              "368938           МИРИТАЛЬ Пельмени СИБИРСКИЕ 1кг  ...           мириталь пельмени сибирские кг\n",
              "368939  СОЧИН.МК Сосис.ФИЛ.С МАС.мяс.пт.вар.480г  ...    сочин мк сосис фил с мас мяс пт вар г\n",
              "368940                Фасоль стручк резан см 1кг  ...                фасоль стручк резан см кг\n",
              "368941       Птица Боярская в обсыпке в/к Кормир  ...      птица боярская в обсыпке в к кормир\n",
              "368942         СМАК Изделия РОЖКИ макаронные 1кг  ...         смак изделия рожки макаронные кг\n",
              "368943  ГМК Колбаса ЛЮБИТЕЛЬСКАЯ с/к 1с.лат. 1кг  ...    гмк колбаса любительская с к с лат кг\n",
              "368944               Буженина Подмосковная Рамен  ...              буженина подмосковная рамен\n",
              "368945           Кета пласт х/к              1кг  ...                        кета пласт х к кг\n",
              "368946   PUPA Основа SMART SKIN тонал.компакт.01  ...    pupa основа smart skin тонал компакт \n",
              "\n",
              "[40 rows x 4 columns]"
            ]
          },
          "metadata": {
            "tags": []
          },
          "execution_count": 9
        }
      ]
    },
    {
      "cell_type": "code",
      "metadata": {
        "id": "Pj7dBCc0iqry",
        "colab_type": "code",
        "outputId": "1f763829-2d4e-4b32-8598-445929e8eba2",
        "colab": {
          "base_uri": "https://localhost:8080/",
          "height": 34
        }
      },
      "source": [
        "len(train.labels.unique())"
      ],
      "execution_count": 10,
      "outputs": [
        {
          "output_type": "execute_result",
          "data": {
            "text/plain": [
              "138"
            ]
          },
          "metadata": {
            "tags": []
          },
          "execution_count": 10
        }
      ]
    },
    {
      "cell_type": "markdown",
      "metadata": {
        "id": "iRCwP_Jl32Hl",
        "colab_type": "text"
      },
      "source": [
        "Построим гистограмму распределения длин слов. Она позволит нам примерно оценить, сколько информации мы можем потерять если почистим названя продуктов от слов длины 2 и менее. "
      ]
    },
    {
      "cell_type": "code",
      "metadata": {
        "id": "K3YXb5jBQ1h8",
        "colab_type": "code",
        "outputId": "9b08768e-da69-4119-e63f-b2a0538ad8bb",
        "colab": {
          "base_uri": "https://localhost:8080/",
          "height": 318
        }
      },
      "source": [
        "words = [word for text in train.cl_descr.tolist() for word in text.split(' ')]\n",
        "m_f  = [w for w, fr in Counter(words).most_common(15)]\n",
        "len_w_dist = [len(word) for word in words]\n",
        "#print([len_word for len_word, fr in Counter(len_w_dist).items()])\n",
        "a = [fr for len_word, fr in Counter(len_w_dist).items()]\n",
        "print(a[:10])\n",
        "plt.bar([len_word for len_word, fr in Counter(len_w_dist).items()], [fr for len_word, fr in Counter(len_w_dist).items()])\n",
        "plt.title('Distr of word len')\n",
        "plt.show()"
      ],
      "execution_count": 11,
      "outputs": [
        {
          "output_type": "stream",
          "text": [
            "[248680, 308866, 265854, 491535, 330768, 192501, 112203, 54822, 31496, 182798]\n"
          ],
          "name": "stdout"
        },
        {
          "output_type": "display_data",
          "data": {
            "image/png": "[encoded data removed]",
            "text/plain": [
              "<Figure size 432x288 with 1 Axes>"
            ]
          },
          "metadata": {
            "tags": []
          }
        }
      ]
    },
    {
      "cell_type": "markdown",
      "metadata": {
        "id": "fttUF4wG4OvK",
        "colab_type": "text"
      },
      "source": [
        "Из гистограммы следует, что встречамость слов длиной 2 и менее в нашем датасете весьма велика, поэтому пренебрегать этой информацией не стоит. Скорее всего даже подходящие ко многим категория марекеры \"кг\", \"мл\" и т.д. могут иметь важное значение при классификации."
      ]
    },
    {
      "cell_type": "markdown",
      "metadata": {
        "id": "MjEz6v7C60_Z",
        "colab_type": "text"
      },
      "source": [
        "Нужна ли нормализация?"
      ]
    },
    {
      "cell_type": "code",
      "metadata": {
        "id": "gLQy0h3T60Ou",
        "colab_type": "code",
        "outputId": "4a527001-0ad8-4767-97dd-b8998986d4aa",
        "colab": {
          "base_uri": "https://localhost:8080/",
          "height": 34
        }
      },
      "source": [
        "unique_words = set(words)\n",
        "len(unique_words)"
      ],
      "execution_count": 12,
      "outputs": [
        {
          "output_type": "execute_result",
          "data": {
            "text/plain": [
              "73891"
            ]
          },
          "metadata": {
            "tags": []
          },
          "execution_count": 12
        }
      ]
    },
    {
      "cell_type": "code",
      "metadata": {
        "id": "wgp3BRyu9XMm",
        "colab_type": "code",
        "colab": {
          "base_uri": "https://localhost:8080/",
          "height": 224
        },
        "outputId": "4f9ea172-04db-4aff-afdd-17ff979ceea0"
      },
      "source": [
        "!pip install pymorphy2"
      ],
      "execution_count": 14,
      "outputs": [
        {
          "output_type": "stream",
          "text": [
            "Collecting pymorphy2\n",
            "\u001b[?25l  Downloading https://files.pythonhosted.org/packages/a3/33/fff9675c68b5f6c63ec8c6e6ff57827dda28a1fa5b2c2d727dffff92dd47/pymorphy2-0.8-py2.py3-none-any.whl (46kB)\n",
            "\u001b[K     |████████████████████████████████| 51kB 919kB/s \n",
            "\u001b[?25hRequirement already satisfied: docopt>=0.6 in /usr/local/lib/python3.6/dist-packages (from pymorphy2) (0.6.2)\n",
            "Collecting pymorphy2-dicts<3.0,>=2.4\n",
            "\u001b[?25l  Downloading https://files.pythonhosted.org/packages/02/51/2465fd4f72328ab50877b54777764d928da8cb15b74e2680fc1bd8cb3173/pymorphy2_dicts-2.4.393442.3710985-py2.py3-none-any.whl (7.1MB)\n",
            "\u001b[K     |████████████████████████████████| 7.1MB 4.0MB/s \n",
            "\u001b[?25hCollecting dawg-python>=0.7\n",
            "  Downloading https://files.pythonhosted.org/packages/6a/84/ff1ce2071d4c650ec85745766c0047ccc3b5036f1d03559fd46bb38b5eeb/DAWG_Python-0.7.2-py2.py3-none-any.whl\n",
            "Installing collected packages: pymorphy2-dicts, dawg-python, pymorphy2\n",
            "Successfully installed dawg-python-0.7.2 pymorphy2-0.8 pymorphy2-dicts-2.4.393442.3710985\n"
          ],
          "name": "stdout"
        }
      ]
    },
    {
      "cell_type": "code",
      "metadata": {
        "id": "gxQsFzOj67dO",
        "colab_type": "code",
        "outputId": "423e40af-a483-4b9a-a6f0-cba905a6c227",
        "colab": {
          "base_uri": "https://localhost:8080/",
          "height": 34
        }
      },
      "source": [
        "import pymorphy2\n",
        "from tqdm import tqdm\n",
        "morph = pymorphy2.MorphAnalyzer()\n",
        "lemmas = []\n",
        "for word in tqdm(set(words)):\n",
        "  lemmas.append(morph.parse(word)[0].normal_form)"
      ],
      "execution_count": 15,
      "outputs": [
        {
          "output_type": "stream",
          "text": [
            "100%|██████████| 73891/73891 [00:14<00:00, 5183.14it/s]\n"
          ],
          "name": "stderr"
        }
      ]
    },
    {
      "cell_type": "code",
      "metadata": {
        "id": "M0zVHO1q-wR_",
        "colab_type": "code",
        "outputId": "db7ebb58-6270-443d-ff60-76d7bcbdf719",
        "colab": {
          "base_uri": "https://localhost:8080/",
          "height": 34
        }
      },
      "source": [
        "unique_lemmas = set(lemmas)\n",
        "len(unique_lemmas)"
      ],
      "execution_count": 16,
      "outputs": [
        {
          "output_type": "execute_result",
          "data": {
            "text/plain": [
              "64291"
            ]
          },
          "metadata": {
            "tags": []
          },
          "execution_count": 16
        }
      ]
    },
    {
      "cell_type": "markdown",
      "metadata": {
        "id": "bFODcqqLBjPd",
        "colab_type": "text"
      },
      "source": [
        "Нормализация позволяет уменьшить вокабуляр на 10000 единиц. Однако, логично предположить, что существительные в названии продуктов, в большинстве своем, итак находятся в именительном падеже, прилагательные варьируются, а глаголы практически не используются. Проверим "
      ]
    },
    {
      "cell_type": "code",
      "metadata": {
        "id": "Ger2rU_f_rK0",
        "colab_type": "code",
        "outputId": "f8275508-f08c-47d0-a4f1-90f707dd2999",
        "colab": {
          "base_uri": "https://localhost:8080/",
          "height": 34
        }
      },
      "source": [
        "print('Процентное содержание лемм в исходном словаре : {0:.2f} %'.format(len(unique_words & unique_lemmas) / len(unique_words) * 100))"
      ],
      "execution_count": 17,
      "outputs": [
        {
          "output_type": "stream",
          "text": [
            "Процентное содержание лемм в исходном словаре : 66.38 %\n"
          ],
          "name": "stdout"
        }
      ]
    },
    {
      "cell_type": "code",
      "metadata": {
        "id": "znhBOZwu_b0H",
        "colab_type": "code",
        "outputId": "a8d88dd4-dc95-4e2a-c64e-9cc0d6988f1c",
        "colab": {
          "base_uri": "https://localhost:8080/",
          "height": 1000
        }
      },
      "source": [
        "list(unique_words & unique_lemmas)[:100]"
      ],
      "execution_count": 18,
      "outputs": [
        {
          "output_type": "execute_result",
          "data": {
            "text/plain": [
              "['',\n",
              " 'стекло',\n",
              " 'тиммерманс',\n",
              " 'сергеевский',\n",
              " 'рамстек',\n",
              " 'боток',\n",
              " 'шхуна',\n",
              " 'jazz',\n",
              " 'слонеый',\n",
              " 'ekselence',\n",
              " 'тряпочка',\n",
              " 'рыбмастер',\n",
              " 'proper',\n",
              " 'картофельн',\n",
              " 'первый!',\n",
              " 'пивоspaten',\n",
              " '?',\n",
              " 'хлебушко',\n",
              " 'степашка',\n",
              " 'дмитрогорс',\n",
              " 'confest',\n",
              " 'стронгбоу',\n",
              " 'тортнаполеон',\n",
              " 'корнишон',\n",
              " 'подвperfect',\n",
              " 'unobravianto',\n",
              " 'персоннель',\n",
              " 'молочныес',\n",
              " 'сосискимолочн',\n",
              " 'mex',\n",
              " 'chateauneuf',\n",
              " 'vivaвкус',\n",
              " 'иветта',\n",
              " 'сениляк',\n",
              " 'средиземноморск',\n",
              " 'нутелла',\n",
              " 'блюзфрукт',\n",
              " 'шакот',\n",
              " 'виноrom',\n",
              " 'epi',\n",
              " 'зеленьюкг',\n",
              " 'категория',\n",
              " 'nesc',\n",
              " 'год!конф',\n",
              " 'дмитр',\n",
              " 'пластг',\n",
              " 'старорусский',\n",
              " 'rubino',\n",
              " 'lang',\n",
              " 'org',\n",
              " 'капричио',\n",
              " 'медег',\n",
              " 'avsh',\n",
              " 'zatecky',\n",
              " 'жером',\n",
              " 'кгшla',\n",
              " 'телефон',\n",
              " 'боринс',\n",
              " 'temр',\n",
              " 'салф',\n",
              " 'норвежскх',\n",
              " 'патруль',\n",
              " 'мона',\n",
              " 'нателла',\n",
              " 'geiten',\n",
              " 'смоленс',\n",
              " 'приоск',\n",
              " 'шинкабарабек',\n",
              " 'хефефри',\n",
              " 'салатвит',\n",
              " 'хайнекен',\n",
              " 'александровск',\n",
              " 'агаз',\n",
              " 'dias',\n",
              " 'glocken',\n",
              " 'nackt',\n",
              " 'троль',\n",
              " 'виноградкг',\n",
              " 'хлопец',\n",
              " 'эстр',\n",
              " 'прелесть',\n",
              " 'преферанс',\n",
              " 'горчичный',\n",
              " 'диффузор',\n",
              " 'amandinos',\n",
              " 'пелайо',\n",
              " 'колбасастоличварв',\n",
              " 'мефр',\n",
              " 'каравай',\n",
              " 'mixунившт',\n",
              " 'спк',\n",
              " 'эббот',\n",
              " 'помидоры)',\n",
              " 'uvet',\n",
              " 'алейка',\n",
              " 'grupa',\n",
              " 'ulduz',\n",
              " 'тоник',\n",
              " 'урбан',\n",
              " 'безм']"
            ]
          },
          "metadata": {
            "tags": []
          },
          "execution_count": 18
        }
      ]
    },
    {
      "cell_type": "markdown",
      "metadata": {
        "id": "iMryvDENCAsX",
        "colab_type": "text"
      },
      "source": [
        "Теперь стоит проверить качество слов, которых мы лишаемся при лемматизации. "
      ]
    },
    {
      "cell_type": "code",
      "metadata": {
        "id": "F0nDZUGw-5gE",
        "colab_type": "code",
        "outputId": "5ec4b719-21d4-4530-99d9-c57fdc5c2846",
        "colab": {
          "base_uri": "https://localhost:8080/",
          "height": 867
        }
      },
      "source": [
        "diff = list(set(words) - set(lemmas))[:50]\n",
        "for indx, word in enumerate(diff):\n",
        "  print(\"До : \",diff[indx], \"\\t\\t\\tПосле : \", morph.parse(word)[0].normal_form )"
      ],
      "execution_count": 19,
      "outputs": [
        {
          "output_type": "stream",
          "text": [
            "До :  бифидофлорин \t\t\tПосле :  бифидофлорина\n",
            "До :  интелт \t\t\tПосле :  интёлтый\n",
            "До :  лам \t\t\tПосле :  лама\n",
            "До :  кеты \t\t\tПосле :  кета\n",
            "До :  космоса \t\t\tПосле :  космос\n",
            "До :  буков \t\t\tПосле :  бук\n",
            "До :  вкусника \t\t\tПосле :  вкусник\n",
            "До :  шердинг \t\t\tПосле :  шердинга\n",
            "До :  кагоме \t\t\tПосле :  кагома\n",
            "До :  токсины \t\t\tПосле :  токсин\n",
            "До :  санторини \t\t\tПосле :  санторинить\n",
            "До :  фортун \t\t\tПосле :  фортуна\n",
            "До :  года \t\t\tПосле :  год\n",
            "До :  омская \t\t\tПосле :  омский\n",
            "До :  котел \t\t\tПосле :  котёл\n",
            "До :  моссельп \t\t\tПосле :  моссельпа\n",
            "До :  волка \t\t\tПосле :  волк\n",
            "До :  гуцульские \t\t\tПосле :  гуцульский\n",
            "До :  сверхсил \t\t\tПосле :  сверхсила\n",
            "До :  печеночная \t\t\tПосле :  печёночный\n",
            "До :  бискглазгвишня \t\t\tПосле :  бискглазгвишень\n",
            "До :  смеша \t\t\tПосле :  смешить\n",
            "До :  бюшет \t\t\tПосле :  бюсать\n",
            "До :  давыдовское \t\t\tПосле :  давыдовский\n",
            "До :  фруттаморе \t\t\tПосле :  фруттамор\n",
            "До :  йогуртомостров \t\t\tПосле :  йогуртомостр\n",
            "До :  силг \t\t\tПосле :  силга\n",
            "До :  риккарома \t\t\tПосле :  риккаром\n",
            "До :  польш \t\t\tПосле :  польша\n",
            "До :  циллюлез \t\t\tПосле :  циллюлезть\n",
            "До :  приват \t\t\tПосле :  привата\n",
            "До :  зверяшки \t\t\tПосле :  зверяшка\n",
            "До :  четырех \t\t\tПосле :  четыре\n",
            "До :  сухофруктам \t\t\tПосле :  сухофрукты\n",
            "До :  пота \t\t\tПосле :  пот\n",
            "До :  пятен \t\t\tПосле :  пятно\n",
            "До :  самолет \t\t\tПосле :  самолёт\n",
            "До :  мужчинмл \t\t\tПосле :  мужчинмть\n",
            "До :  зирой \t\t\tПосле :  зира\n",
            "До :  звездочки \t\t\tПосле :  звёздочка\n",
            "До :  блоке \t\t\tПосле :  блок\n",
            "До :  овесмл \t\t\tПосле :  овесмть\n",
            "До :  пастельные \t\t\tПосле :  пастельный\n",
            "До :  португал \t\t\tПосле :  португала\n",
            "До :  многорл \t\t\tПосле :  многорло\n",
            "До :  хуки \t\t\tПосле :  хук\n",
            "До :  красан \t\t\tПосле :  красана\n",
            "До :  трехм \t\t\tПосле :  трехма\n",
            "До :  еврейская \t\t\tПосле :  еврейский\n",
            "До :  косточке \t\t\tПосле :  косточка\n"
          ],
          "name": "stdout"
        }
      ]
    },
    {
      "cell_type": "markdown",
      "metadata": {
        "id": "PZDGOnB7IxN9",
        "colab_type": "text"
      },
      "source": [
        "Можно заметить, что примерно в половине случаев, лемматизатор придумывает слова и не уменьшает пространство наших признаков. "
      ]
    },
    {
      "cell_type": "markdown",
      "metadata": {
        "id": "4XcLW0kjJWUN",
        "colab_type": "text"
      },
      "source": [
        "Таким образом, можно сделать вывод, что лемматизация имеет относительно невысокое значение в данном таске и возможно не приведет к улучшению точности, тем более, что пространство признаков для каждого текста будет считаться с помощью тф-идф и искуственно расширяться посредством включения биграмм."
      ]
    },
    {
      "cell_type": "markdown",
      "metadata": {
        "id": "wlnouHNi71Ox",
        "colab_type": "text"
      },
      "source": [
        "## MLP"
      ]
    },
    {
      "cell_type": "markdown",
      "metadata": {
        "id": "GFTkhs_q47lv",
        "colab_type": "text"
      },
      "source": [
        "Согласно гипотезе Колмогорова, любую функцию можно апроксимировать трехслойным перцептроном с некоторыми параметрами, зависящиими от количества переменных. С него и начнем."
      ]
    },
    {
      "cell_type": "code",
      "metadata": {
        "id": "fUAMThdk3MKX",
        "colab_type": "code",
        "colab": {}
      },
      "source": [
        "import numpy as np\n",
        "from sklearn.feature_extraction.text import TfidfTransformer\n",
        "from sklearn.model_selection import train_test_split\n",
        "from sklearn import metrics"
      ],
      "execution_count": 0,
      "outputs": []
    },
    {
      "cell_type": "markdown",
      "metadata": {
        "id": "qdYnTJQ9J7A7",
        "colab_type": "text"
      },
      "source": [
        "Поделим данные на трейн и тест для того чтобы иметь возможность объективно оценить модели. При векторизации текстов используем тф-идф на уровне слова. Используем биграммы, чтобы отловить устойчивые сочетания в названии продуктов. Редкими словами будем пренебрегать (меньше 5 вхождений), подключим стоп слова - наиболее частотные для этого датасета (12 - так как их частотности в несколько раз превышают последующие). "
      ]
    },
    {
      "cell_type": "code",
      "metadata": {
        "id": "-4zlOwLR73qp",
        "colab_type": "code",
        "outputId": "7c558014-745f-41f5-8ae2-634d0cf7cec7",
        "colab": {
          "base_uri": "https://localhost:8080/",
          "height": 34
        }
      },
      "source": [
        "from sklearn.feature_extraction.text import TfidfVectorizer\n",
        "\n",
        "# эту строчку не меняйте, будете делать тестирование(между эпохами) на этой небольшой выборке \n",
        "text_train, text_test, labels_train, labels_test =  train_test_split(train.cl_descr, train.labels, test_size=0.05, random_state=42)\n",
        "\n",
        "tf_transformer = TfidfVectorizer(ngram_range=(1,2), min_df=0.00001) #делаем биграммы и убираем малочастотные слова\n",
        "X_train_transformed = tf_transformer.fit_transform(text_train)\n",
        "X_test_transformed = tf_transformer.transform(text_test)\n",
        "X_train_transformed.shape # первая размерноть точно будет такой (350499, х)"
      ],
      "execution_count": 34,
      "outputs": [
        {
          "output_type": "execute_result",
          "data": {
            "text/plain": [
              "(350499, 93513)"
            ]
          },
          "metadata": {
            "tags": []
          },
          "execution_count": 34
        }
      ]
    },
    {
      "cell_type": "code",
      "metadata": {
        "id": "5mBxPWeH7J9W",
        "colab_type": "code",
        "colab": {}
      },
      "source": [
        "import numpy as np\n",
        "from sklearn.metrics import classification_report\n",
        "from torch.utils.data import Dataset\n",
        "from torch.utils.data import DataLoader\n",
        "from torchvision.datasets import MNIST\n",
        "from torchvision import transforms\n",
        "import matplotlib.pyplot as plt\n",
        "from tqdm import tqdm\n",
        "from sklearn.metrics import accuracy_score\n",
        "import time"
      ],
      "execution_count": 0,
      "outputs": []
    },
    {
      "cell_type": "code",
      "metadata": {
        "id": "7sBSRo7CVKe8",
        "colab_type": "code",
        "colab": {}
      },
      "source": [
        "import torch\n",
        "import numpy as np\n",
        "from torchvision import datasets\n",
        "from torchvision import transforms\n",
        "from torch.utils.data.sampler import SubsetRandomSampler\n",
        "\n",
        "class WordData(Dataset):\n",
        "    \n",
        "    def __init__(self, x_data, y_data):\n",
        "        \n",
        "        super().__init__()\n",
        "        \n",
        "        self.x_data = x_data #пусть будет сохранен в память класса\n",
        "        self.y_data = torch.LongTensor(y_data) #а это как тензор\n",
        "        \n",
        "    \n",
        "    def __len__(self): # объязательный метод для этого класса, нужно уметь отдавать длину датасета \n",
        "        \n",
        "        return self.x_data.shape[0] \n",
        "    \n",
        "    def __getitem__(self, idx): # объязательный метод для этого класса, нужно уметь отдавать один семпл с данными и лейблом\n",
        "        \n",
        "        x = self.x_data[idx].toarray() # Будьте аккуратны, когда используете sparse matrix, так как изначально преобразовать их в массив нельзя - память кончится, будем препращать в массив отдельные строчки\n",
        "        x = torch.FloatTensor(x) # преобразуем в тензор с флоат величинами\n",
        "        y = self.y_data[idx]\n",
        "        \n",
        "        return x, y\n",
        "\n",
        "y_train = []\n",
        "for i in labels_train:\n",
        "  y_train.append(int(i))\n",
        "y_test = []\n",
        "for t in labels_test:\n",
        "  y_test.append(int(t))\n",
        "\n",
        "dataset_train = WordData(X_train_transformed, y_train) # задайте датасет для трейна\n",
        "dataset_test = WordData(X_test_transformed,  y_test) #зададйте датасет для теста\n",
        "\n",
        "batch_size = 256 # задайте батч сайз\n",
        "\n",
        "train_loader = DataLoader(dataset_train, batch_size=batch_size, shuffle=True)# создайте дата лоадер и перемешайте в нем примеры для трейна\n",
        "validation_loader = DataLoader(dataset_test, batch_size=batch_size, shuffle=True)# создайте дата лоадер и перемешайте в нем примеры для теста\n",
        "\n"
      ],
      "execution_count": 0,
      "outputs": []
    },
    {
      "cell_type": "code",
      "metadata": {
        "id": "MyoEqQsp7ROB",
        "colab_type": "code",
        "colab": {}
      },
      "source": [
        "from math import sqrt\n",
        "class MLP(torch.nn.Module):\n",
        "    \n",
        "    def __init__(self, in_features, inner_features, inner_features2, out_features):\n",
        "        \n",
        "        # Главная задача этого метода - возможность использования в классе потомке, методов класса-родителя\n",
        "        # Вызываем __init__ родителя - torch.nn.Module\n",
        "        super().__init__()\n",
        "        \n",
        "        # определяем слои и все что захотим сохранять/использовать \n",
        "        # в целом трех слоев будет достаточно\n",
        "\n",
        "        self.linear_1 = torch.nn.Linear(in_features=in_features, out_features=inner_features)\n",
        "        self.linear_2 = torch.nn.Linear(in_features=inner_features, out_features=inner_features2)\n",
        "\n",
        "        self.linear_3 = torch.nn.Linear(in_features=inner_features2, out_features=out_features) # out_features - количество категорий товаров, по которым вы хотите классифицировать, т.е. 138\n",
        "        self.non_linear_function = torch.nn.ReLU()\n",
        "\n",
        "    def forward(self, x):\n",
        "        \n",
        "        # наша привычная схема\n",
        "        \n",
        "        x = self.linear_1(x)\n",
        "        x = self.non_linear_function(x)\n",
        "\n",
        "        x = self.linear_2(x)\n",
        "        x = self.non_linear_function(x)\n",
        "        x = self.linear_3(x) # это должен быть послдений слой в котором меняется размерность, никаких нелинейностей применть не нужно, софтмакс в Торче встроен в в кросс-энтропию для оптимизации\n",
        "        \n",
        "        return x\n",
        "    "
      ],
      "execution_count": 0,
      "outputs": []
    },
    {
      "cell_type": "code",
      "metadata": {
        "id": "F9KMfl-a4ouB",
        "colab_type": "code",
        "colab": {}
      },
      "source": [
        "tf_res = X_train_transformed"
      ],
      "execution_count": 0,
      "outputs": []
    },
    {
      "cell_type": "code",
      "metadata": {
        "id": "J5IQCaab72fT",
        "colab_type": "code",
        "colab": {}
      },
      "source": [
        "model = MLP(in_features=tf_res.shape[1], inner_features=1524, inner_features2=1024, out_features=138)"
      ],
      "execution_count": 0,
      "outputs": []
    },
    {
      "cell_type": "code",
      "metadata": {
        "id": "cQLW-m-J82dH",
        "colab_type": "code",
        "colab": {
          "base_uri": "https://localhost:8080/",
          "height": 119
        },
        "outputId": "07f75058-43ff-44fe-e5da-6bd35c0e55ad"
      },
      "source": [
        "model"
      ],
      "execution_count": 42,
      "outputs": [
        {
          "output_type": "execute_result",
          "data": {
            "text/plain": [
              "MLP(\n",
              "  (linear_1): Linear(in_features=93513, out_features=1524, bias=True)\n",
              "  (linear_2): Linear(in_features=1524, out_features=1024, bias=True)\n",
              "  (linear_3): Linear(in_features=1024, out_features=138, bias=True)\n",
              "  (non_linear_function): ReLU()\n",
              ")"
            ]
          },
          "metadata": {
            "tags": []
          },
          "execution_count": 42
        }
      ]
    },
    {
      "cell_type": "code",
      "metadata": {
        "id": "wAXwHfh2p1s2",
        "colab_type": "code",
        "colab": {
          "base_uri": "https://localhost:8080/",
          "height": 34
        },
        "outputId": "6f6dc47f-d71b-412d-d8e5-361b1a8343b8"
      },
      "source": [
        "for x, y in train_loader:\n",
        "  print(model(x).shape)\n",
        "  break #посмотрите внимательно на размерность"
      ],
      "execution_count": 43,
      "outputs": [
        {
          "output_type": "stream",
          "text": [
            "torch.Size([256, 1, 138])\n"
          ],
          "name": "stdout"
        }
      ]
    },
    {
      "cell_type": "code",
      "metadata": {
        "id": "c-4hYYZO87Rg",
        "colab_type": "code",
        "colab": {}
      },
      "source": [
        "optimizer = torch.optim.Adam(params=model.parameters(), lr=0.001,  betas=(0.9, 0.999) ) # это один из крутых оптимизаторв, можете для начала опробовать SGD\n",
        "# aka loss function\n",
        "criterion = torch.nn.CrossEntropyLoss() # будем считать потери с помощью привычной кросс энтропии"
      ],
      "execution_count": 0,
      "outputs": []
    },
    {
      "cell_type": "code",
      "metadata": {
        "id": "XeQdxbcU9ng8",
        "colab_type": "code",
        "colab": {}
      },
      "source": [
        "device = torch.device('cuda') if torch.cuda.is_available() else torch.device('cpu')\n",
        "model = model.to(device) # если мы работает на торче, можно оставить как есть; суть в том, что нашу модель можно перенести на видеокарту, \n",
        "                         # потом мы будем переводить туда и батчи с данными, это позволит нам обучаться быстрее, раз 5 как минимум"
      ],
      "execution_count": 0,
      "outputs": []
    },
    {
      "cell_type": "code",
      "metadata": {
        "id": "F99bT5uS9qNo",
        "colab_type": "code",
        "colab": {
          "base_uri": "https://localhost:8080/",
          "height": 513
        },
        "outputId": "46d4253e-60af-433c-c185-10451b9a5b54"
      },
      "source": [
        "from sklearn.metrics import f1_score\n",
        "epochs = 2\n",
        "\n",
        "\n",
        "for n_epoch in range(epochs):\n",
        "  print('Epoch #{}\\n'.format(n_epoch+1))\n",
        "\n",
        "  train_losses = []\n",
        "  train_predictions = []\n",
        "\n",
        "  for x, y in train_loader:\n",
        "\n",
        "    optimizer.zero_grad()\n",
        "\n",
        "    x = x.squeeze(1).to(device) # так как наша модель уже на ГПУ нужно и данные тоже туда пренести, кстати функция сквиз здесь это нормально, просто у нас есть лишняя развмерность и мы от нее избавляемся\n",
        "    y = y.to(device)\n",
        "\n",
        "    # допиште обучалку, при этом следите за размерностями\n",
        "\n",
        "    outputs = model(x).cpu()\n",
        "    y = y.cpu()\n",
        "    loss = criterion(outputs.squeeze(), y)\n",
        "    loss.backward()\n",
        "    optimizer.step()\n",
        "        \n",
        "    train_losses.append(loss.item())\n",
        "\n",
        "    train_f = f1_score(outputs.squeeze().argmax(dim=1), y, average = 'weighted')  \n",
        "    train_predictions.append(train_f)\n",
        "        \n",
        "  print('\\n\\nMean Loss after epoch #{0} - {1}'.format(str(n_epoch + 1), np.mean(train_losses)))\n",
        "  print('F1 score after epoch #{0} on train - {1}\\n'.format(str(n_epoch + 1), np.mean(train_predictions)))\n",
        "\n",
        "  test_predicteds = []\n",
        "  test_labels = []\n",
        "  test_loss = []\n",
        "\n",
        "  with torch.no_grad():\n",
        "    for x, y  in validation_loader:\n",
        "      outputs = model(x.squeeze(1).to(device))\n",
        "      _, predicted = torch.max(outputs.cpu().data, 1)\n",
        "      loss = criterion(outputs.cpu(), y)\n",
        "      test_loss.append(loss.item())\n",
        "      test_labels.extend(y)\n",
        "      test_predicteds.extend(predicted)\n",
        "        \n",
        "\n",
        "  f = f1_score(test_predicteds, test_labels, average = 'weighted')  \n",
        "  print('\\nLoss on test: {}'.format(np.mean(test_loss)))   \n",
        "  print('F1 on test: {}\\n\\n'.format(f))\n",
        "  "
      ],
      "execution_count": 50,
      "outputs": [
        {
          "output_type": "stream",
          "text": [
            "Epoch #1\n",
            "\n"
          ],
          "name": "stdout"
        },
        {
          "output_type": "stream",
          "text": [
            "/usr/local/lib/python3.6/dist-packages/sklearn/metrics/classification.py:1437: UndefinedMetricWarning: F-score is ill-defined and being set to 0.0 in labels with no predicted samples.\n",
            "  'precision', 'predicted', average, warn_for)\n",
            "/usr/local/lib/python3.6/dist-packages/sklearn/metrics/classification.py:1439: UndefinedMetricWarning: F-score is ill-defined and being set to 0.0 in labels with no true samples.\n",
            "  'recall', 'true', average, warn_for)\n"
          ],
          "name": "stderr"
        },
        {
          "output_type": "stream",
          "text": [
            "\n",
            "\n",
            "Mean Loss after epoch #1 - 0.10033179738552031\n",
            "F1 score after epoch #1 on train - 0.9677546777401611\n",
            "\n",
            "\n",
            "Loss on test: 0.2980586209729926\n",
            "F1 on test: 0.928321663433139\n",
            "\n",
            "\n",
            "Epoch #2\n",
            "\n",
            "\n",
            "\n",
            "Mean Loss after epoch #2 - 0.07443333563095733\n",
            "F1 score after epoch #2 on train - 0.9753189584225165\n",
            "\n",
            "\n",
            "Loss on test: 0.32531034293240063\n",
            "F1 on test: 0.9277903366634713\n",
            "\n",
            "\n"
          ],
          "name": "stdout"
        }
      ]
    },
    {
      "cell_type": "code",
      "metadata": {
        "id": "lRHfs3uN6me5",
        "colab_type": "code",
        "colab": {}
      },
      "source": [
        ""
      ],
      "execution_count": 0,
      "outputs": []
    }
  ]
}