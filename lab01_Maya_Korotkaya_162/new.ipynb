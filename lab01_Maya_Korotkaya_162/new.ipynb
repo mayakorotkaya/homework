{
 "cells": [
  {
   "cell_type": "code",
   "execution_count": 1,
   "metadata": {
    "collapsed": true
   },
   "outputs": [],
   "source": [
    "import math"
   ]
  },
  {
   "cell_type": "markdown",
   "metadata": {},
   "source": [
    "Разница между __new__ и __init__\n",
    "\n",
    "__new__ получает тип в качестве первого (обязательного) аргумента\n",
    "и обычно возвращает новый экземпляр этого типа,\n",
    "который далее передается в __init__.\n",
    "Это происходит автоматически и, если вы создаете обычный класс,\n",
    "не нужно прописывать __new__.\n",
    "Однако с помощью __new__ можно легко создавать метаклассы!"
   ]
  },
  {
   "cell_type": "code",
   "execution_count": 2,
   "metadata": {},
   "outputs": [
    {
     "name": "stdout",
     "output_type": "stream",
     "text": [
      "12.0\n",
      "4\n"
     ]
    }
   ],
   "source": [
    "class Shape:\n",
    "   def __new__(cls, sides, *args, **kwargs):\n",
    "       if sides == 3:\n",
    "           return Triangle(*args, **kwargs)\n",
    "       else:\n",
    "           return Square(*args, **kwargs)\n",
    "\n",
    "class Triangle:\n",
    "    def __init__(self, base, height):\n",
    "        self.base = base\n",
    "        self.height = height\n",
    "\n",
    "    def area(self):\n",
    "        return (self.base * self.height) / 2\n",
    "\n",
    "class Square:\n",
    "    def __init__(self, length):\n",
    "        self.length = length\n",
    "\n",
    "    def area(self):\n",
    "        return self.length * self.length\n",
    "\n",
    "a = Shape(sides=3, base=2, height=12)\n",
    "b = Shape(sides=4, length=2)\n",
    "print(a.area())\n",
    "print(b.area())"
   ]
  },
  {
   "cell_type": "markdown",
   "metadata": {},
   "source": [
    "Кроме этого, __new__ работает с любыми типами: изменяемыми и неизменяемыми."
   ]
  },
  {
   "cell_type": "code",
   "execution_count": 3,
   "metadata": {},
   "outputs": [
    {
     "name": "stdout",
     "output_type": "stream",
     "text": [
      "0.30479999999999996\n"
     ]
    }
   ],
   "source": [
    "class Inch(float):\n",
    "    # Convert from inch to meter\n",
    "    def __new__(cls, arg=0.0):\n",
    "        return float.__new__(cls, arg*0.0254)\n",
    "    \n",
    "print(Inch(12))"
   ]
  },
  {
   "cell_type": "markdown",
   "metadata": {},
   "source": [
    "А __init__ - только с изменяемыми."
   ]
  },
  {
   "cell_type": "code",
   "execution_count": 4,
   "metadata": {},
   "outputs": [
    {
     "name": "stdout",
     "output_type": "stream",
     "text": [
      "(1, 2)\n",
      "[3, 4]\n"
     ]
    }
   ],
   "source": [
    "x = (1, 2)\n",
    "x.__init__([3, 4])\n",
    "print(x) # tuple не изменился\n",
    "\n",
    "y = [1, 2]\n",
    "y.__init__([3, 4])\n",
    "print(y) # а вот list как раз меняется"
   ]
  },
  {
   "cell_type": "markdown",
   "metadata": {},
   "source": [
    "Здесь возможно модифицировать только атрибуты.\n",
    "Иначе бы было возможно переписать такое:"
   ]
  },
  {
   "cell_type": "code",
   "execution_count": 5,
   "metadata": {},
   "outputs": [
    {
     "name": "stdout",
     "output_type": "stream",
     "text": [
      "3.141592653589793\n"
     ]
    }
   ],
   "source": [
    "# (но это не так) (более яркий пример, чем выше)\n",
    "math.pi.__init__(3.0)\n",
    "print(math.pi)"
   ]
  },
  {
   "cell_type": "code",
   "execution_count": null,
   "metadata": {
    "collapsed": true
   },
   "outputs": [],
   "source": []
  }
 ],
 "metadata": {
  "kernelspec": {
   "display_name": "Python 3",
   "language": "python",
   "name": "python3"
  },
  "language_info": {
   "codemirror_mode": {
    "name": "ipython",
    "version": 3
   },
   "file_extension": ".py",
   "mimetype": "text/x-python",
   "name": "python",
   "nbconvert_exporter": "python",
   "pygments_lexer": "ipython3",
   "version": "3.6.3"
  }
 },
 "nbformat": 4,
 "nbformat_minor": 2
}
