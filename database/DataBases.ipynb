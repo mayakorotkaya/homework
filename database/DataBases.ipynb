{
 "cells": [
  {
   "cell_type": "code",
   "execution_count": 2,
   "metadata": {},
   "outputs": [
    {
     "name": "stdout",
     "output_type": "stream",
     "text": [
      "Requirement already satisfied: mysql in /usr/local/lib/python3.7/site-packages (0.0.2)\r\n",
      "Requirement already satisfied: mysqlclient in /usr/local/lib/python3.7/site-packages (from mysql) (1.4.6)\r\n"
     ]
    }
   ],
   "source": [
    "!pip3 install mysql"
   ]
  },
  {
   "cell_type": "code",
   "execution_count": 31,
   "metadata": {},
   "outputs": [
    {
     "name": "stdout",
     "output_type": "stream",
     "text": [
      "Requirement already satisfied: mysql-connector-python in /usr/local/lib/python3.7/site-packages (8.0.18)\r\n",
      "Requirement already satisfied: protobuf>=3.0.0 in /usr/local/lib/python3.7/site-packages (from mysql-connector-python) (3.11.2)\r\n",
      "Requirement already satisfied: six>=1.9 in /usr/local/Cellar/ipython/7.8.0/libexec/vendor/lib/python3.7/site-packages (from protobuf>=3.0.0->mysql-connector-python) (1.12.0)\r\n",
      "Requirement already satisfied: setuptools in /usr/local/lib/python3.7/site-packages (from protobuf>=3.0.0->mysql-connector-python) (41.6.0)\r\n"
     ]
    }
   ],
   "source": [
    "!pip3 install mysql-connector-python"
   ]
  },
  {
   "cell_type": "code",
   "execution_count": 17,
   "metadata": {},
   "outputs": [],
   "source": [
    "import mysql"
   ]
  },
  {
   "cell_type": "code",
   "execution_count": 18,
   "metadata": {},
   "outputs": [],
   "source": [
    "import mysql.connector as mysql"
   ]
  },
  {
   "cell_type": "code",
   "execution_count": 75,
   "metadata": {},
   "outputs": [],
   "source": [
    "db = mysql.connect(\n",
    "    host = \"\",\n",
    "    user = \"\",\n",
    "    passwd = \"\"\n",
    ")"
   ]
  },
  {
   "cell_type": "code",
   "execution_count": 76,
   "metadata": {},
   "outputs": [
    {
     "name": "stdout",
     "output_type": "stream",
     "text": [
      "<mysql.connector.connection_cext.CMySQLConnection object at 0x1093fe210>\n"
     ]
    }
   ],
   "source": [
    "print(db)"
   ]
  },
  {
   "cell_type": "code",
   "execution_count": 77,
   "metadata": {},
   "outputs": [],
   "source": [
    "cursor = db.cursor()"
   ]
  },
  {
   "cell_type": "markdown",
   "metadata": {},
   "source": [
    "### Создаю базу данных"
   ]
  },
  {
   "cell_type": "code",
   "execution_count": 78,
   "metadata": {
    "scrolled": true
   },
   "outputs": [
    {
     "ename": "DatabaseError",
     "evalue": "1007 (HY000): Can't create database 'experiment'; database exists",
     "output_type": "error",
     "traceback": [
      "\u001b[0;31m---------------------------------------------------------------------------\u001b[0m",
      "\u001b[0;31mMySQLInterfaceError\u001b[0m                       Traceback (most recent call last)",
      "\u001b[0;32m/usr/local/lib/python3.7/site-packages/mysql/connector/connection_cext.py\u001b[0m in \u001b[0;36mcmd_query\u001b[0;34m(self, query, raw, buffered, raw_as_string)\u001b[0m\n\u001b[1;32m    471\u001b[0m                                \u001b[0mraw\u001b[0m\u001b[0;34m=\u001b[0m\u001b[0mraw\u001b[0m\u001b[0;34m,\u001b[0m \u001b[0mbuffered\u001b[0m\u001b[0;34m=\u001b[0m\u001b[0mbuffered\u001b[0m\u001b[0;34m,\u001b[0m\u001b[0;34m\u001b[0m\u001b[0;34m\u001b[0m\u001b[0m\n\u001b[0;32m--> 472\u001b[0;31m                                raw_as_string=raw_as_string)\n\u001b[0m\u001b[1;32m    473\u001b[0m         \u001b[0;32mexcept\u001b[0m \u001b[0mMySQLInterfaceError\u001b[0m \u001b[0;32mas\u001b[0m \u001b[0mexc\u001b[0m\u001b[0;34m:\u001b[0m\u001b[0;34m\u001b[0m\u001b[0;34m\u001b[0m\u001b[0m\n",
      "\u001b[0;31mMySQLInterfaceError\u001b[0m: Can't create database 'experiment'; database exists",
      "\nDuring handling of the above exception, another exception occurred:\n",
      "\u001b[0;31mDatabaseError\u001b[0m                             Traceback (most recent call last)",
      "\u001b[0;32m<ipython-input-78-c1b789eb223b>\u001b[0m in \u001b[0;36m<module>\u001b[0;34m\u001b[0m\n\u001b[0;32m----> 1\u001b[0;31m \u001b[0mcursor\u001b[0m\u001b[0;34m.\u001b[0m\u001b[0mexecute\u001b[0m\u001b[0;34m(\u001b[0m\u001b[0;34m\"CREATE DATABASE experiment\"\u001b[0m\u001b[0;34m)\u001b[0m\u001b[0;34m\u001b[0m\u001b[0;34m\u001b[0m\u001b[0m\n\u001b[0m",
      "\u001b[0;32m/usr/local/lib/python3.7/site-packages/mysql/connector/cursor_cext.py\u001b[0m in \u001b[0;36mexecute\u001b[0;34m(self, operation, params, multi)\u001b[0m\n\u001b[1;32m    264\u001b[0m             result = self._cnx.cmd_query(stmt, raw=self._raw,\n\u001b[1;32m    265\u001b[0m                                          \u001b[0mbuffered\u001b[0m\u001b[0;34m=\u001b[0m\u001b[0mself\u001b[0m\u001b[0;34m.\u001b[0m\u001b[0m_buffered\u001b[0m\u001b[0;34m,\u001b[0m\u001b[0;34m\u001b[0m\u001b[0;34m\u001b[0m\u001b[0m\n\u001b[0;32m--> 266\u001b[0;31m                                          raw_as_string=self._raw_as_string)\n\u001b[0m\u001b[1;32m    267\u001b[0m         \u001b[0;32mexcept\u001b[0m \u001b[0mMySQLInterfaceError\u001b[0m \u001b[0;32mas\u001b[0m \u001b[0mexc\u001b[0m\u001b[0;34m:\u001b[0m\u001b[0;34m\u001b[0m\u001b[0;34m\u001b[0m\u001b[0m\n\u001b[1;32m    268\u001b[0m             raise errors.get_mysql_exception(msg=exc.msg, errno=exc.errno,\n",
      "\u001b[0;32m/usr/local/lib/python3.7/site-packages/mysql/connector/connection_cext.py\u001b[0m in \u001b[0;36mcmd_query\u001b[0;34m(self, query, raw, buffered, raw_as_string)\u001b[0m\n\u001b[1;32m    473\u001b[0m         \u001b[0;32mexcept\u001b[0m \u001b[0mMySQLInterfaceError\u001b[0m \u001b[0;32mas\u001b[0m \u001b[0mexc\u001b[0m\u001b[0;34m:\u001b[0m\u001b[0;34m\u001b[0m\u001b[0;34m\u001b[0m\u001b[0m\n\u001b[1;32m    474\u001b[0m             raise errors.get_mysql_exception(exc.errno, msg=exc.msg,\n\u001b[0;32m--> 475\u001b[0;31m                                              sqlstate=exc.sqlstate)\n\u001b[0m\u001b[1;32m    476\u001b[0m         \u001b[0;32mexcept\u001b[0m \u001b[0mAttributeError\u001b[0m\u001b[0;34m:\u001b[0m\u001b[0;34m\u001b[0m\u001b[0;34m\u001b[0m\u001b[0m\n\u001b[1;32m    477\u001b[0m             \u001b[0;32mif\u001b[0m \u001b[0mself\u001b[0m\u001b[0;34m.\u001b[0m\u001b[0m_unix_socket\u001b[0m\u001b[0;34m:\u001b[0m\u001b[0;34m\u001b[0m\u001b[0;34m\u001b[0m\u001b[0m\n",
      "\u001b[0;31mDatabaseError\u001b[0m: 1007 (HY000): Can't create database 'experiment'; database exists"
     ]
    }
   ],
   "source": [
    "cursor.execute(\"CREATE DATABASE experiment\")"
   ]
  },
  {
   "cell_type": "code",
   "execution_count": 79,
   "metadata": {},
   "outputs": [
    {
     "name": "stdout",
     "output_type": "stream",
     "text": [
      "[('datacamp',), ('experiment',), ('information_schema',), ('mysql',), ('performance_schema',), ('sys',)]\n"
     ]
    }
   ],
   "source": [
    "cursor.execute(\"SHOW DATABASES\")\n",
    "databases = cursor.fetchall()\n",
    "print(databases)"
   ]
  },
  {
   "cell_type": "code",
   "execution_count": 80,
   "metadata": {},
   "outputs": [],
   "source": [
    "db = mysql.connect(\n",
    "    host = \"localhost\",\n",
    "    user = \"newuser1\",\n",
    "    passwd = \"password123\",\n",
    "    database = \"experiment\"\n",
    ")"
   ]
  },
  {
   "cell_type": "code",
   "execution_count": 81,
   "metadata": {},
   "outputs": [],
   "source": [
    "cursor = db.cursor()"
   ]
  },
  {
   "cell_type": "markdown",
   "metadata": {},
   "source": [
    "### Табличка \"участники\""
   ]
  },
  {
   "cell_type": "code",
   "execution_count": 108,
   "metadata": {},
   "outputs": [],
   "source": [
    "cursor.execute(\"CREATE TABLE participants (age TINYINT, sex CHAR(1), education VARCHAR(25))\")"
   ]
  },
  {
   "cell_type": "code",
   "execution_count": 109,
   "metadata": {},
   "outputs": [
    {
     "name": "stdout",
     "output_type": "stream",
     "text": [
      "('participants',)\n"
     ]
    }
   ],
   "source": [
    "cursor.execute(\"SHOW TABLES\")\n",
    "\n",
    "tables = cursor.fetchall() ## it returns list of tables present in the database\n",
    "\n",
    "## showing all the tables one by one\n",
    "for table in tables:\n",
    "    print(table)"
   ]
  },
  {
   "cell_type": "code",
   "execution_count": 159,
   "metadata": {},
   "outputs": [],
   "source": [
    "#cursor.execute(\"DROP TABLE RT_s\")"
   ]
  },
  {
   "cell_type": "code",
   "execution_count": 49,
   "metadata": {},
   "outputs": [],
   "source": [
    "#cursor.execute(\"CREATE TABLE users (id INT(11) NOT NULL AUTO_INCREMENT PRIMARY KEY, name VARCHAR(255), user_name VARCHAR(255))\")"
   ]
  },
  {
   "cell_type": "code",
   "execution_count": 50,
   "metadata": {},
   "outputs": [
    {
     "name": "stdout",
     "output_type": "stream",
     "text": [
      "[('id', 'int(11)', 'NO', 'PRI', None, 'auto_increment'), ('name', 'varchar(255)', 'YES', '', None, ''), ('user_name', 'varchar(255)', 'YES', '', None, '')]\n"
     ]
    }
   ],
   "source": [
    "## 'DESC table_name' is used to get all columns information\n",
    "#cursor.execute(\"DESC users\")\n",
    "\n",
    "## it will print all the columns as 'tuples' in a list\n",
    "#print(cursor.fetchall())"
   ]
  },
  {
   "cell_type": "code",
   "execution_count": 51,
   "metadata": {},
   "outputs": [
    {
     "name": "stdout",
     "output_type": "stream",
     "text": [
      "[('name', 'varchar(255)', 'YES', '', None, ''), ('user_name', 'varchar(255)', 'YES', '', None, '')]\n"
     ]
    }
   ],
   "source": [
    "## dropping the 'id' column\n",
    "#cursor.execute(\"ALTER TABLE users DROP id\")\n",
    "\n",
    "#cursor.execute(\"DESC users\")\n",
    "\n",
    "#print(cursor.fetchall())"
   ]
  },
  {
   "cell_type": "code",
   "execution_count": 110,
   "metadata": {},
   "outputs": [
    {
     "name": "stdout",
     "output_type": "stream",
     "text": [
      "[('id', 'int(11)', 'NO', 'PRI', None, 'auto_increment'), ('age', 'tinyint(4)', 'YES', '', None, ''), ('sex', 'char(1)', 'YES', '', None, ''), ('education', 'varchar(25)', 'YES', '', None, '')]\n"
     ]
    }
   ],
   "source": [
    "## adding 'id' column to the 'participants' table\n",
    "## 'FIRST' keyword in the statement will add a column in the starting of the table\n",
    "cursor.execute(\"ALTER TABLE participants ADD COLUMN id INT(11) NOT NULL AUTO_INCREMENT PRIMARY KEY FIRST\")\n",
    "\n",
    "cursor.execute(\"DESC participants\")\n",
    "\n",
    "print(cursor.fetchall())"
   ]
  },
  {
   "cell_type": "code",
   "execution_count": 111,
   "metadata": {},
   "outputs": [
    {
     "name": "stdout",
     "output_type": "stream",
     "text": [
      "4 records inserted\n"
     ]
    }
   ],
   "source": [
    "## defining the Query\n",
    "query = \"INSERT INTO participants (age, sex, education) VALUES (%s, %s, %s)\"\n",
    "## storing values in a variable\n",
    "values = [(\"21\", \"f\", \"linguistics\"), \n",
    "             (\"30\", \"m\", \"teacher\"),\n",
    "          (\"22\", \"f\", \"doctor\"),\n",
    "          (\"23\", \"m\", \"dancer\")\n",
    "         ]\n",
    "\n",
    "## executing the query with values\n",
    "cursor.executemany(query, values)\n",
    "\n",
    "## to make final output we have to run the 'commit()' method of the database object\n",
    "db.commit()\n",
    "\n",
    "print(cursor.rowcount, \"records inserted\")"
   ]
  },
  {
   "cell_type": "code",
   "execution_count": 171,
   "metadata": {},
   "outputs": [
    {
     "name": "stdout",
     "output_type": "stream",
     "text": [
      "(1, 21, 'f', 'linguistics')\n",
      "(2, 30, 'm', 'teacher')\n",
      "(3, 22, 'f', 'doctor')\n",
      "(4, 23, 'm', 'dancer')\n"
     ]
    }
   ],
   "source": [
    "## defining the Query\n",
    "query = \"SELECT * FROM participants\"\n",
    "\n",
    "## getting records from the table\n",
    "cursor.execute(query)\n",
    "\n",
    "## fetching all records from the 'cursor' object\n",
    "records = cursor.fetchall()\n",
    "\n",
    "## Showing the data\n",
    "for record in records:\n",
    "    print(record)"
   ]
  },
  {
   "cell_type": "markdown",
   "metadata": {},
   "source": [
    "### Табличка \"стимулы\""
   ]
  },
  {
   "cell_type": "code",
   "execution_count": 122,
   "metadata": {},
   "outputs": [],
   "source": [
    "cursor.execute(\"CREATE TABLE stimuli (id INT(11) NOT NULL AUTO_INCREMENT PRIMARY KEY, stimulus VARCHAR(255), cond CHAR(1))\")"
   ]
  },
  {
   "cell_type": "code",
   "execution_count": 126,
   "metadata": {},
   "outputs": [
    {
     "name": "stdout",
     "output_type": "stream",
     "text": [
      "4 records inserted\n"
     ]
    }
   ],
   "source": [
    "## defining the Query\n",
    "query = \"INSERT INTO stimuli (stimulus, cond) VALUES (%s, %s)\"\n",
    "## storing values in a variable\n",
    "values = [(\"Я, как и он, отдыхаю\", \"a\"), \n",
    "             (\"Я, как и ты, отдыхаю\", \"b\"),\n",
    "          (\"Я, как и он, отдыхает\", \"c\"),\n",
    "          (\"Я, как и ты, отдыхает\", \"d\")\n",
    "         ]\n",
    "\n",
    "## executing the query with values\n",
    "cursor.executemany(query, values)\n",
    "\n",
    "## to make final output we have to run the 'commit()' method of the database object\n",
    "db.commit()\n",
    "\n",
    "print(cursor.rowcount, \"records inserted\")"
   ]
  },
  {
   "cell_type": "code",
   "execution_count": null,
   "metadata": {},
   "outputs": [],
   "source": [
    "## defining the Query\n",
    "query = \"UPDATE stimuli SET n_stim = '2' WHERE id = 8\"\n",
    "\n",
    "## executing the query\n",
    "cursor.execute(query)\n",
    "\n",
    "## final step to tell the database that we have changed the table data\n",
    "db.commit()"
   ]
  },
  {
   "cell_type": "code",
   "execution_count": 170,
   "metadata": {},
   "outputs": [
    {
     "name": "stdout",
     "output_type": "stream",
     "text": [
      "(1, 'Я, как и он, устаю', 'a', 1)\n",
      "(2, 'Я, как и ты, устаю', 'b', 1)\n",
      "(3, 'Я, как и он, устает', 'c', 1)\n",
      "(4, 'Я, как и ты, устает', 'd', 1)\n",
      "(5, 'Я, как и он, отдыхаю', 'a', 2)\n",
      "(6, 'Я, как и ты, отдыхаю', 'b', 2)\n",
      "(7, 'Я, как и он, отдыхает', 'c', 2)\n",
      "(8, 'Я, как и ты, отдыхает', 'd', 2)\n"
     ]
    }
   ],
   "source": [
    "## defining the Query\n",
    "query = \"SELECT * FROM stimuli\"\n",
    "\n",
    "## getting records from the table\n",
    "cursor.execute(query)\n",
    "\n",
    "## fetching all records from the 'cursor' object\n",
    "records = cursor.fetchall()\n",
    "\n",
    "## Showing the data\n",
    "for record in records:\n",
    "    print(record)"
   ]
  },
  {
   "cell_type": "markdown",
   "metadata": {},
   "source": [
    "### Табличка \"время чтения\""
   ]
  },
  {
   "cell_type": "code",
   "execution_count": 160,
   "metadata": {},
   "outputs": [],
   "source": [
    "cursor.execute(\"CREATE TABLE RT_s (num_particip INT(11), num_stim INT(11), RT FLOAT)\")"
   ]
  },
  {
   "cell_type": "code",
   "execution_count": 161,
   "metadata": {},
   "outputs": [
    {
     "name": "stdout",
     "output_type": "stream",
     "text": [
      "[('num_particip', 'int(11)', 'YES', '', None, ''), ('num_stim', 'int(11)', 'YES', '', None, ''), ('RT', 'float', 'YES', '', None, '')]\n"
     ]
    }
   ],
   "source": [
    "cursor.execute(\"DESC RT_s\")\n",
    "\n",
    "print(cursor.fetchall())"
   ]
  },
  {
   "cell_type": "code",
   "execution_count": 165,
   "metadata": {},
   "outputs": [],
   "source": [
    "import random"
   ]
  },
  {
   "cell_type": "code",
   "execution_count": 166,
   "metadata": {},
   "outputs": [],
   "source": [
    "p = [(1, 21, 'f', 'linguistics'),\n",
    "     (2, 30, 'm', 'teacher'),\n",
    "     (3, 22, 'f', 'doctor'),\n",
    "     (4, 23, 'm', 'dancer')]\n",
    "s = [(1, 'Я, как и он, устаю', 'a', 1),\n",
    "     (2, 'Я, как и ты, устаю', 'b', 1),\n",
    "     (3, 'Я, как и он, устает', 'c', 1),\n",
    "     (4, 'Я, как и ты, устает', 'd', 1),\n",
    "     (5, 'Я, как и он, отдыхаю', 'a', 2),\n",
    "     (6, 'Я, как и ты, отдыхаю', 'b', 2),\n",
    "     (7, 'Я, как и он, отдыхает', 'c', 2),\n",
    "     (8, 'Я, как и ты, отдыхает', 'd', 2)]\n",
    "\n",
    "for_rt = []\n",
    "for i in p:\n",
    "    for elem in s:\n",
    "        a = (i[0], elem[0], random.random())\n",
    "        for_rt.append(a)"
   ]
  },
  {
   "cell_type": "code",
   "execution_count": 167,
   "metadata": {},
   "outputs": [
    {
     "data": {
      "text/plain": [
       "[(1, 1, 0.858742163295965),\n",
       " (1, 2, 0.3178227919349341),\n",
       " (1, 3, 0.8189805066611214),\n",
       " (1, 4, 0.004063241537969553),\n",
       " (1, 5, 0.7305020685216835),\n",
       " (1, 6, 0.14160651317445982),\n",
       " (1, 7, 0.7633255003268515),\n",
       " (1, 8, 0.9311322157181775),\n",
       " (2, 1, 0.8796694764932586),\n",
       " (2, 2, 0.9228903340459277),\n",
       " (2, 3, 0.8533234450621497),\n",
       " (2, 4, 0.054168089318853196),\n",
       " (2, 5, 0.14110472694323362),\n",
       " (2, 6, 0.7382744756092846),\n",
       " (2, 7, 0.1878934917176046),\n",
       " (2, 8, 0.1168425452883518),\n",
       " (3, 1, 0.053593866280658764),\n",
       " (3, 2, 0.3389021570726616),\n",
       " (3, 3, 0.7571492558798502),\n",
       " (3, 4, 0.24448335048169312),\n",
       " (3, 5, 0.9075321743613469),\n",
       " (3, 6, 0.43425598132174015),\n",
       " (3, 7, 0.5293814319120657),\n",
       " (3, 8, 0.4250908751861169),\n",
       " (4, 1, 0.48441047891644873),\n",
       " (4, 2, 0.541199251460287),\n",
       " (4, 3, 0.31956345990942203),\n",
       " (4, 4, 0.4110248572541636),\n",
       " (4, 5, 0.2703896578067555),\n",
       " (4, 6, 0.35754868868518086),\n",
       " (4, 7, 0.193992298698067),\n",
       " (4, 8, 0.4219166183039774)]"
      ]
     },
     "execution_count": 167,
     "metadata": {},
     "output_type": "execute_result"
    }
   ],
   "source": [
    "for_rt"
   ]
  },
  {
   "cell_type": "code",
   "execution_count": 168,
   "metadata": {},
   "outputs": [
    {
     "name": "stdout",
     "output_type": "stream",
     "text": [
      "32 records inserted\n"
     ]
    }
   ],
   "source": [
    "query = \"INSERT INTO RT_s (num_particip, num_stim, RT) VALUES (%s, %s, %s)\"\n",
    "cursor.executemany(query, for_rt)\n",
    "db.commit()\n",
    "\n",
    "print(cursor.rowcount, \"records inserted\")"
   ]
  },
  {
   "cell_type": "code",
   "execution_count": 172,
   "metadata": {},
   "outputs": [
    {
     "name": "stdout",
     "output_type": "stream",
     "text": [
      "(1, 1, 0.858742)\n",
      "(1, 2, 0.317823)\n",
      "(1, 3, 0.818981)\n",
      "(1, 4, 0.00406324)\n",
      "(1, 5, 0.730502)\n",
      "(1, 6, 0.141607)\n",
      "(1, 7, 0.763326)\n",
      "(1, 8, 0.931132)\n",
      "(2, 1, 0.879669)\n",
      "(2, 2, 0.92289)\n",
      "(2, 3, 0.853323)\n",
      "(2, 4, 0.0541681)\n",
      "(2, 5, 0.141105)\n",
      "(2, 6, 0.738274)\n",
      "(2, 7, 0.187893)\n",
      "(2, 8, 0.116843)\n",
      "(3, 1, 0.0535939)\n",
      "(3, 2, 0.338902)\n",
      "(3, 3, 0.757149)\n",
      "(3, 4, 0.244483)\n",
      "(3, 5, 0.907532)\n",
      "(3, 6, 0.434256)\n",
      "(3, 7, 0.529381)\n",
      "(3, 8, 0.425091)\n",
      "(4, 1, 0.48441)\n",
      "(4, 2, 0.541199)\n",
      "(4, 3, 0.319563)\n",
      "(4, 4, 0.411025)\n",
      "(4, 5, 0.27039)\n",
      "(4, 6, 0.357549)\n",
      "(4, 7, 0.193992)\n",
      "(4, 8, 0.421917)\n"
     ]
    }
   ],
   "source": [
    "## defining the Query\n",
    "query = \"SELECT * FROM RT_s\"\n",
    "\n",
    "## getting records from the table\n",
    "cursor.execute(query)\n",
    "\n",
    "## fetching all records from the 'cursor' object\n",
    "records = cursor.fetchall()\n",
    "\n",
    "## Showing the data\n",
    "for record in records:\n",
    "    print(record)"
   ]
  },
  {
   "cell_type": "markdown",
   "metadata": {},
   "source": [
    "### Функция для ввода данных"
   ]
  },
  {
   "cell_type": "code",
   "execution_count": 228,
   "metadata": {},
   "outputs": [],
   "source": [
    "def input_data():\n",
    "    table = input('Введите название таблички: ')\n",
    "    \n",
    "    columns = input('Введите названия колонок через запятую: ')\n",
    "    columns = columns.split(',')\n",
    "    columns = str(tuple([str(x) for x in columns]))\n",
    "    \n",
    "    data = input('Введите новые данные через запятую: ')\n",
    "    data = data.split(',')\n",
    "    el = tuple([str(e) for e in data])\n",
    "    #el = ('23', 'f')\n",
    "    \n",
    "    query = 'INSERT INTO %s %s' % (table, columns.replace(\"'\", ''))\n",
    "    values_query = 'VALUES (' + ('%s, ' * len(data))[:-2] + ')'\n",
    "    query_stmt = ' '.join([query, values_query])\n",
    "\n",
    "    #print(columns, query_stmt, data, type(data), len(data))\n",
    "    cursor.execute(query_stmt, el)    "
   ]
  },
  {
   "cell_type": "code",
   "execution_count": 229,
   "metadata": {},
   "outputs": [
    {
     "name": "stdout",
     "output_type": "stream",
     "text": [
      "Введите название таблички: participants\n",
      "Введите названия колонок через запятую: sex, age\n",
      "Введите новые данные через запятую: f, 23\n",
      "('sex', ' age') INSERT INTO participants (sex,  age) VALUES (%s, %s) ['f', ' 23'] <class 'list'> 2\n"
     ]
    }
   ],
   "source": [
    "input_data()"
   ]
  },
  {
   "cell_type": "code",
   "execution_count": 253,
   "metadata": {},
   "outputs": [
    {
     "name": "stdout",
     "output_type": "stream",
     "text": [
      "(1, 21, 'f', 'linguistics')\n",
      "(2, 30, 'm', 'teacher')\n",
      "(3, 22, 'f', 'doctor')\n",
      "(4, 23, 'm', 'dancer')\n",
      "(6, 33, 'f', 'killer')\n"
     ]
    }
   ],
   "source": [
    "## defining the Query\n",
    "query = \"SELECT * FROM participants\"\n",
    "\n",
    "## getting records from the table\n",
    "cursor.execute(query)\n",
    "\n",
    "## fetching all records from the 'cursor' object\n",
    "records = cursor.fetchall()\n",
    "\n",
    "## Showing the data\n",
    "for record in records:\n",
    "    print(record)"
   ]
  },
  {
   "cell_type": "markdown",
   "metadata": {},
   "source": [
    "### Функция для модификации данных"
   ]
  },
  {
   "cell_type": "code",
   "execution_count": 262,
   "metadata": {},
   "outputs": [],
   "source": [
    "def modificate_data():\n",
    "    table = input('Введите название таблички: ')\n",
    "    \n",
    "    column_to_change = input('Введите название колонки, которую хотите поменять: ')\n",
    "    value_to_insert = str(input('Введите значение, которое хотите вставить: '))\n",
    "    value_to_insert = \"'\" + value_to_insert + \"'\"\n",
    "    \n",
    "    column_condition = input('Введите название колонки для условия: ')\n",
    "    value_condition = str(input('Введите значение для условия: '))\n",
    "    value_condition = \"'\" + value_condition + \"'\"\n",
    "    \n",
    "    print(table, column_to_change, value_to_insert, column_condition, value_condition)\n",
    "    \n",
    "    query = 'UPDATE %s SET %s = %s WHERE %s = %s' % (table, column_to_change, value_to_insert, column_condition, value_condition)\n",
    "    cursor.execute(query)\n",
    "    db.commit()"
   ]
  },
  {
   "cell_type": "code",
   "execution_count": 252,
   "metadata": {},
   "outputs": [
    {
     "name": "stdout",
     "output_type": "stream",
     "text": [
      "Введите название таблички: participants\n",
      "Введите название колонки, которую хотите поменять: education\n",
      "Введите значение, которое хотите вставить: killer\n",
      "Введите название колонки для условия: id\n",
      "Введите значение для условия: 6\n",
      "participants education 'killer' id '6'\n"
     ]
    }
   ],
   "source": [
    "modificate_data()"
   ]
  },
  {
   "cell_type": "code",
   "execution_count": 254,
   "metadata": {},
   "outputs": [
    {
     "name": "stdout",
     "output_type": "stream",
     "text": [
      "(1, 21, 'f', 'linguistics')\n",
      "(2, 30, 'm', 'teacher')\n",
      "(3, 22, 'f', 'doctor')\n",
      "(4, 23, 'm', 'dancer')\n",
      "(6, 33, 'f', 'killer')\n"
     ]
    }
   ],
   "source": [
    "query = \"SELECT * FROM participants\"\n",
    "\n",
    "cursor.execute(query)\n",
    "\n",
    "records = cursor.fetchall()\n",
    "\n",
    "for record in records:\n",
    "    print(record)"
   ]
  },
  {
   "cell_type": "markdown",
   "metadata": {},
   "source": [
    "### Функция для удаления данных"
   ]
  },
  {
   "cell_type": "code",
   "execution_count": 261,
   "metadata": {},
   "outputs": [],
   "source": [
    "def delete_data():\n",
    "    table = input('Введите название таблички: ')\n",
    "    \n",
    "    column_condition = input('Введите название колонки для условия: ')\n",
    "    value_condition = str(input('Введите значение для условия: '))\n",
    "    value_condition = \"'\" + value_condition + \"'\"\n",
    "    \n",
    "    query = 'DELETE FROM %s WHERE %s = %s' % (table, column_condition, value_condition)\n",
    "    \n",
    "    cursor.execute(query)\n",
    "    db.commit()"
   ]
  },
  {
   "cell_type": "code",
   "execution_count": 259,
   "metadata": {},
   "outputs": [
    {
     "name": "stdout",
     "output_type": "stream",
     "text": [
      "Введите название таблички: participants\n",
      "Введите название колонки для условия: id\n",
      "Введите значение для условия: 6\n"
     ]
    }
   ],
   "source": [
    "delete_data()"
   ]
  },
  {
   "cell_type": "code",
   "execution_count": 260,
   "metadata": {},
   "outputs": [
    {
     "name": "stdout",
     "output_type": "stream",
     "text": [
      "(1, 21, 'f', 'linguistics')\n",
      "(2, 30, 'm', 'teacher')\n",
      "(3, 22, 'f', 'doctor')\n",
      "(4, 23, 'm', 'dancer')\n"
     ]
    }
   ],
   "source": [
    "query = \"SELECT * FROM participants\"\n",
    "\n",
    "cursor.execute(query)\n",
    "\n",
    "records = cursor.fetchall()\n",
    "\n",
    "for record in records:\n",
    "    print(record)"
   ]
  },
  {
   "cell_type": "markdown",
   "metadata": {},
   "source": [
    "### Функция для выборки данных"
   ]
  },
  {
   "cell_type": "code",
   "execution_count": 278,
   "metadata": {},
   "outputs": [],
   "source": [
    "def select_from_column():\n",
    "    table = input('Введите название таблички: ')\n",
    "    columns = input('Введите названия колонок через запятую (или * для вывода всей таблицы): ')\n",
    "    \n",
    "    query = \"SELECT %s FROM %s\" % (columns, table)\n",
    "    \n",
    "    cursor.execute(query)\n",
    "    records = cursor.fetchall()\n",
    "\n",
    "    for record in records:\n",
    "        print(record)"
   ]
  },
  {
   "cell_type": "code",
   "execution_count": 281,
   "metadata": {},
   "outputs": [
    {
     "name": "stdout",
     "output_type": "stream",
     "text": [
      "Введите название таблички: participants\n",
      "Введите названия колонок через запятую: *\n",
      "(1, 21, 'f', 'linguistics')\n",
      "(2, 30, 'm', 'teacher')\n",
      "(3, 22, 'f', 'doctor')\n",
      "(4, 23, 'm', 'dancer')\n"
     ]
    }
   ],
   "source": [
    "select_from_column()"
   ]
  },
  {
   "cell_type": "code",
   "execution_count": 282,
   "metadata": {},
   "outputs": [],
   "source": [
    "def select_all_with_cond():\n",
    "    table = input('Введите название таблички: ')\n",
    "    \n",
    "    columns = input('Введите названия колонок через запятую (или * для вывода всех колонок): ')\n",
    "    \n",
    "    column_condition = input('Введите название колонки для условия: ')\n",
    "    value_condition = str(input('Введите значение для условия: '))\n",
    "    value_condition = \"'\" + value_condition + \"'\"\n",
    "    \n",
    "    query = \"SELECT %s FROM %s WHERE %s = %s\" % (columns, table, column_condition, value_condition)\n",
    "    \n",
    "    cursor.execute(query)\n",
    "    records = cursor.fetchall()\n",
    "\n",
    "    for record in records:\n",
    "        print(record)"
   ]
  },
  {
   "cell_type": "code",
   "execution_count": 284,
   "metadata": {},
   "outputs": [
    {
     "name": "stdout",
     "output_type": "stream",
     "text": [
      "Введите название таблички: participants\n",
      "Введите названия колонок через запятую (или * для вывода всех колонок): age, education\n",
      "Введите название колонки для условия: id\n",
      "Введите значение для условия: 2\n",
      "(30, 'teacher')\n"
     ]
    }
   ],
   "source": [
    "select_all_with_cond()"
   ]
  },
  {
   "cell_type": "markdown",
   "metadata": {},
   "source": [
    "### SELECT с тремя таблицами в условии выборки"
   ]
  },
  {
   "cell_type": "code",
   "execution_count": 286,
   "metadata": {},
   "outputs": [
    {
     "name": "stdout",
     "output_type": "stream",
     "text": [
      "(21, 0.858742, 'a')\n",
      "(21, 0.730502, 'a')\n",
      "(30, 0.879669, 'a')\n",
      "(30, 0.141105, 'a')\n",
      "(22, 0.0535939, 'a')\n",
      "(22, 0.907532, 'a')\n",
      "(23, 0.48441, 'a')\n",
      "(23, 0.27039, 'a')\n"
     ]
    }
   ],
   "source": [
    "query = '''SELECT participants.age, RT_S.RT, stimuli.cond \n",
    "            FROM participants, RT_s, stimuli \n",
    "            WHERE participants.id = RT_s.num_particip \n",
    "            AND RT_s.num_stim = stimuli.id \n",
    "            AND stimuli.cond = 'a' '''\n",
    "cursor.execute(query)\n",
    "records = cursor.fetchall()\n",
    "\n",
    "for record in records:\n",
    "    print(record)"
   ]
  },
  {
   "cell_type": "markdown",
   "metadata": {},
   "source": [
    "### Вложенные SELECT"
   ]
  },
  {
   "cell_type": "code",
   "execution_count": 292,
   "metadata": {},
   "outputs": [
    {
     "name": "stdout",
     "output_type": "stream",
     "text": [
      "(21,)\n",
      "(22,)\n"
     ]
    }
   ],
   "source": [
    "query = '''SELECT participants.age FROM participants \n",
    "            WHERE participants.id IN \n",
    "            (SELECT RT_s.num_particip FROM RT_s, stimuli \n",
    "            WHERE RT_s.num_stim = stimuli.id AND stimuli.n_stim = 2 \n",
    "            AND RT_s.RT > 0.8)'''\n",
    "cursor.execute(query)\n",
    "records = cursor.fetchall()\n",
    "\n",
    "for record in records:\n",
    "    print(record)"
   ]
  },
  {
   "cell_type": "markdown",
   "metadata": {},
   "source": [
    "### Запросы с JOIN"
   ]
  },
  {
   "cell_type": "code",
   "execution_count": 293,
   "metadata": {},
   "outputs": [
    {
     "name": "stdout",
     "output_type": "stream",
     "text": [
      "(1, 1, 0.858742, 1, 'Я, как и он, устаю', 'a', 1)\n",
      "(1, 2, 0.317823, 2, 'Я, как и ты, устаю', 'b', 1)\n",
      "(1, 3, 0.818981, 3, 'Я, как и он, устает', 'c', 1)\n",
      "(1, 4, 0.00406324, 4, 'Я, как и ты, устает', 'd', 1)\n",
      "(1, 5, 0.730502, 5, 'Я, как и он, отдыхаю', 'a', 2)\n",
      "(1, 6, 0.141607, 6, 'Я, как и ты, отдыхаю', 'b', 2)\n",
      "(1, 7, 0.763326, 7, 'Я, как и он, отдыхает', 'c', 2)\n",
      "(1, 8, 0.931132, 8, 'Я, как и ты, отдыхает', 'd', 2)\n",
      "(2, 1, 0.879669, 1, 'Я, как и он, устаю', 'a', 1)\n",
      "(2, 2, 0.92289, 2, 'Я, как и ты, устаю', 'b', 1)\n",
      "(2, 3, 0.853323, 3, 'Я, как и он, устает', 'c', 1)\n",
      "(2, 4, 0.0541681, 4, 'Я, как и ты, устает', 'd', 1)\n",
      "(2, 5, 0.141105, 5, 'Я, как и он, отдыхаю', 'a', 2)\n",
      "(2, 6, 0.738274, 6, 'Я, как и ты, отдыхаю', 'b', 2)\n",
      "(2, 7, 0.187893, 7, 'Я, как и он, отдыхает', 'c', 2)\n",
      "(2, 8, 0.116843, 8, 'Я, как и ты, отдыхает', 'd', 2)\n",
      "(3, 1, 0.0535939, 1, 'Я, как и он, устаю', 'a', 1)\n",
      "(3, 2, 0.338902, 2, 'Я, как и ты, устаю', 'b', 1)\n",
      "(3, 3, 0.757149, 3, 'Я, как и он, устает', 'c', 1)\n",
      "(3, 4, 0.244483, 4, 'Я, как и ты, устает', 'd', 1)\n",
      "(3, 5, 0.907532, 5, 'Я, как и он, отдыхаю', 'a', 2)\n",
      "(3, 6, 0.434256, 6, 'Я, как и ты, отдыхаю', 'b', 2)\n",
      "(3, 7, 0.529381, 7, 'Я, как и он, отдыхает', 'c', 2)\n",
      "(3, 8, 0.425091, 8, 'Я, как и ты, отдыхает', 'd', 2)\n",
      "(4, 1, 0.48441, 1, 'Я, как и он, устаю', 'a', 1)\n",
      "(4, 2, 0.541199, 2, 'Я, как и ты, устаю', 'b', 1)\n",
      "(4, 3, 0.319563, 3, 'Я, как и он, устает', 'c', 1)\n",
      "(4, 4, 0.411025, 4, 'Я, как и ты, устает', 'd', 1)\n",
      "(4, 5, 0.27039, 5, 'Я, как и он, отдыхаю', 'a', 2)\n",
      "(4, 6, 0.357549, 6, 'Я, как и ты, отдыхаю', 'b', 2)\n",
      "(4, 7, 0.193992, 7, 'Я, как и он, отдыхает', 'c', 2)\n",
      "(4, 8, 0.421917, 8, 'Я, как и ты, отдыхает', 'd', 2)\n"
     ]
    }
   ],
   "source": [
    "query = '''SELECT * FROM RT_s JOIN stimuli \n",
    "            ON RT_s.num_stim = stimuli.id'''\n",
    "\n",
    "cursor.execute(query)\n",
    "records = cursor.fetchall()\n",
    "\n",
    "for record in records:\n",
    "    print(record)"
   ]
  },
  {
   "cell_type": "markdown",
   "metadata": {},
   "source": [
    "Еще всякие штуки:"
   ]
  },
  {
   "cell_type": "code",
   "execution_count": 117,
   "metadata": {},
   "outputs": [
    {
     "name": "stdout",
     "output_type": "stream",
     "text": [
      "(1, 21, 'f', 'linguistics')\n",
      "(3, 22, 'f', 'doctor')\n",
      "(4, 23, 'm', 'dancer')\n",
      "(2, 30, 'm', 'teacher')\n"
     ]
    }
   ],
   "source": [
    "## defining the Query\n",
    "query = \"SELECT * FROM participants ORDER BY age\"\n",
    "\n",
    "## getting records from the table\n",
    "cursor.execute(query)\n",
    "\n",
    "## fetching all records from the 'cursor' object\n",
    "records = cursor.fetchall()\n",
    "\n",
    "## Showing the data\n",
    "for record in records:\n",
    "    print(record)"
   ]
  },
  {
   "cell_type": "code",
   "execution_count": 119,
   "metadata": {},
   "outputs": [
    {
     "name": "stdout",
     "output_type": "stream",
     "text": [
      "(2, 30, 'm', 'teacher')\n",
      "(4, 23, 'm', 'dancer')\n",
      "(3, 22, 'f', 'doctor')\n",
      "(1, 21, 'f', 'linguistics')\n"
     ]
    }
   ],
   "source": [
    "## defining the Query\n",
    "query = \"SELECT * FROM participants ORDER BY age DESC\"\n",
    "\n",
    "## getting records from the table\n",
    "cursor.execute(query)\n",
    "\n",
    "## fetching all records from the 'cursor' object\n",
    "records = cursor.fetchall()\n",
    "\n",
    "## Showing the data\n",
    "for record in records:\n",
    "    print(record)"
   ]
  }
 ],
 "metadata": {
  "kernelspec": {
   "display_name": "Python 3",
   "language": "python",
   "name": "python3"
  },
  "language_info": {
   "codemirror_mode": {
    "name": "ipython",
    "version": 3
   },
   "file_extension": ".py",
   "mimetype": "text/x-python",
   "name": "python",
   "nbconvert_exporter": "python",
   "pygments_lexer": "ipython3",
   "version": "3.7.5"
  }
 },
 "nbformat": 4,
 "nbformat_minor": 2
}
