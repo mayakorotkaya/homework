{
 "cells": [
  {
   "cell_type": "code",
   "execution_count": 73,
   "metadata": {},
   "outputs": [
    {
     "name": "stderr",
     "output_type": "stream",
     "text": [
      "[nltk_data] Downloading package stopwords to\n",
      "[nltk_data]     /Users/mayakorotkaya/nltk_data...\n",
      "[nltk_data]   Package stopwords is already up-to-date!\n",
      "[nltk_data] Downloading package averaged_perceptron_tagger to\n",
      "[nltk_data]     /Users/mayakorotkaya/nltk_data...\n",
      "[nltk_data]   Unzipping taggers/averaged_perceptron_tagger.zip.\n"
     ]
    }
   ],
   "source": [
    "import pymongo\n",
    "from pymongo import MongoClient\n",
    "import os\n",
    "from gensim.summarization import keywords as kw\n",
    "import re\n",
    "import nltk\n",
    "from nltk.tokenize import RegexpTokenizer\n",
    "tokenizer = RegexpTokenizer(r'\\w+')\n",
    "nltk.download(\"stopwords\")\n",
    "from nltk.corpus import stopwords\n",
    "english_stopwords = stopwords.words(\"english\")\n",
    "nltk.download('averaged_perceptron_tagger')\n",
    "#import pymorphy2\n",
    "#morph = pymorphy2.MorphAnalyzer()\n",
    "from nltk.stem import WordNetLemmatizer \n",
    "lemmatizer = WordNetLemmatizer()\n",
    "from nltk.corpus import wordnet"
   ]
  },
  {
   "cell_type": "code",
   "execution_count": 132,
   "metadata": {},
   "outputs": [],
   "source": [
    "cluster = pymongo.MongoClient(\"mongodb+srv://User:<password>@cluster0-llq9z.mongodb.net/test?retryWrites=true&w=majority\")"
   ]
  },
  {
   "cell_type": "code",
   "execution_count": 133,
   "metadata": {},
   "outputs": [],
   "source": [
    "db = cluster['experiment']"
   ]
  },
  {
   "cell_type": "code",
   "execution_count": 134,
   "metadata": {},
   "outputs": [],
   "source": [
    "episodes = db['results']\n",
    "heroes = db['heroes']"
   ]
  },
  {
   "cell_type": "code",
   "execution_count": 135,
   "metadata": {},
   "outputs": [
    {
     "data": {
      "text/plain": [
       "Database(MongoClient(host=['cluster0-shard-00-01-llq9z.mongodb.net:27017', 'cluster0-shard-00-02-llq9z.mongodb.net:27017', 'cluster0-shard-00-00-llq9z.mongodb.net:27017'], document_class=dict, tz_aware=False, connect=True, retrywrites=True, w='majority', authsource='admin', replicaset='Cluster0-shard-0', ssl=True), 'experiment')"
      ]
     },
     "execution_count": 135,
     "metadata": {},
     "output_type": "execute_result"
    }
   ],
   "source": [
    "db"
   ]
  },
  {
   "cell_type": "markdown",
   "metadata": {},
   "source": [
    "Возьмем несколько серий \"друзей\". Про них мы будем знать их название, номер и сезон. Посчитаем для каждой ключевые слова через textrank. Посчитаем про кого в этой серии больше всего говорят (моника чендлер росс рейчел). Создадим коллекцию герои и там покажем для каждого из героев в каких сериях про них говорят"
   ]
  },
  {
   "cell_type": "code",
   "execution_count": 166,
   "metadata": {},
   "outputs": [
    {
     "name": "stdout",
     "output_type": "stream",
     "text": [
      "Friends - 4x06 - The One With The Dirty Girl.en.txt\n",
      "Friends - 2x03 - The One Where Heckles Dies.en.txt\n",
      "Friends - 1x01 - The One Where Monica Gets A Roommate.en.txt\n"
     ]
    }
   ],
   "source": [
    "for file in os.listdir('friends'):\n",
    "    print(file)"
   ]
  },
  {
   "cell_type": "code",
   "execution_count": 15,
   "metadata": {},
   "outputs": [],
   "source": [
    "class FriendsEpisode:\n",
    "    def __init__(self):\n",
    "        self.name=\"\"\n",
    "        self.season=\"\"\n",
    "        self.numb=\"\"\n",
    "        self.text=\"\"\n",
    "\n",
    "def getFriendsEpisode(adr):\n",
    "    path = '/Users/mayakorotkaya/Desktop/friends/' + adr\n",
    "    episode=FriendsEpisode()\n",
    "    adr = adr.split(' - ')\n",
    "    episode.name = adr[2].split('.')[0]\n",
    "    episode.season = adr[1].split('x')[0]\n",
    "    episode.numb = adr[1].split('x')[1]\n",
    "    with open(path, 'r') as f:\n",
    "        episode.text = f.read()\n",
    "    \n",
    "    return episode"
   ]
  },
  {
   "cell_type": "code",
   "execution_count": 86,
   "metadata": {},
   "outputs": [],
   "source": [
    "def get_wordnet_pos(word):\n",
    "    \"\"\"Map POS tag to first character lemmatize() accepts\"\"\"\n",
    "    tag = nltk.pos_tag([word])[0][1][0].upper()\n",
    "    tag_dict = {\"J\": wordnet.ADJ,\n",
    "                \"N\": wordnet.NOUN,\n",
    "                \"V\": wordnet.VERB,\n",
    "                \"R\": wordnet.ADV}\n",
    "    return tag_dict.get(tag, wordnet.NOUN)"
   ]
  },
  {
   "cell_type": "code",
   "execution_count": 91,
   "metadata": {},
   "outputs": [],
   "source": [
    "def preprocessing(text):\n",
    "    text = str(text)\n",
    "    text = re.sub(r'[0-9\\ufeff]', r'', text)\n",
    "    normal_text = ''\n",
    "    for t in tokenizer.tokenize(text):\n",
    "                pos = get_wordnet_pos(t)\n",
    "                t = lemmatizer.lemmatize(t, pos)\n",
    "                if t not in english_stopwords:\n",
    "                    normal_form = t + ' '\n",
    "                    normal_text += normal_form\n",
    "    return normal_text"
   ]
  },
  {
   "cell_type": "markdown",
   "metadata": {},
   "source": [
    "### Добавление и апдейт"
   ]
  },
  {
   "cell_type": "code",
   "execution_count": 151,
   "metadata": {},
   "outputs": [],
   "source": [
    "def putFriendsEpisodeInMongo(adr):\n",
    "    # Загружаем текст статьи и другие ее части.\n",
    "    episode = getFriendsEpisode(adr)\n",
    "    \n",
    "    keywords = kw(preprocessing(episode.text)).split('\\n')\n",
    "    # Добавляем запись с информацией об эпизоде.\n",
    "    # inserted_id позволяет сразу получить идентификатор записи, чтобы потом ссылаться на него там, где это необходимо.\n",
    "    a_text = {\"episode_name\": episode.name, \"episode_text\": episode.text, \n",
    "              \"episode_info\": {\"episode_season\": episode.season, \"episode_numb\": episode.numb, \n",
    "                              \"episode_keywords\": keywords}}\n",
    "    episode_id = episodes.insert_one(a_text).inserted_id\n",
    "    print(episode_id)\n",
    "    \n",
    "    #ищем для каждого из имен главных персонажей, сколько раз их имя встретилось в эпизоде\n",
    "    rachel = len(re.findall(\"Rachel\", preprocessing(episode.text)))\n",
    "    monica = len(re.findall(\"Monica\", preprocessing(episode.text)))\n",
    "    ross = len(re.findall(\"Ross\", preprocessing(episode.text)))\n",
    "    chandler = len(re.findall(\"Chandler\", preprocessing(episode.text)))\n",
    "    phoebe = len(re.findall(\"Phoebe\", preprocessing(episode.text)))\n",
    "    \n",
    "    hero = {rachel : 'Rachel', monica : 'Monica', ross : 'Ross', chandler : 'Chandler', phoebe : 'Phoebe'}\n",
    "    \n",
    "    for freq in hero:\n",
    "        if heroes.count_documents({\"hero_name\": hero[freq]}) == 0:\n",
    "            hero_id = heroes.insert_one({\"hero_name\": hero[freq], \"max_episode_id\": episode_id, \n",
    "                                              \"freq\": freq}).inserted_id\n",
    "        else:\n",
    "            inis = heroes.find({\"hero_name\": hero[freq]})\n",
    "            hero_id = inis[0][\"_id\"]\n",
    "            if inis[0][\"freq\"] > freq:\n",
    "                heroes.find_one_and_update({\"_id\": hero_id}, {\"$set\": {\"max_episode_id\": episode_id}})\n",
    "            heroes.find_one_and_update({\"_id\": hero_id}, {\"$max\": {\"freq\":freq}})"
   ]
  },
  {
   "cell_type": "code",
   "execution_count": 141,
   "metadata": {},
   "outputs": [
    {
     "name": "stdout",
     "output_type": "stream",
     "text": [
      "5e89050355ca368959f3483c\n"
     ]
    }
   ],
   "source": [
    "putFriendsEpisodeInMongo('Friends - 1x01 - The One Where Monica Gets A Roommate.en.txt')"
   ]
  },
  {
   "cell_type": "code",
   "execution_count": 152,
   "metadata": {},
   "outputs": [
    {
     "name": "stdout",
     "output_type": "stream",
     "text": [
      "5e8907fd55ca368959f34843\n"
     ]
    }
   ],
   "source": [
    "putFriendsEpisodeInMongo('Friends - 4x06 - The One With The Dirty Girl.en.txt')"
   ]
  },
  {
   "cell_type": "code",
   "execution_count": 157,
   "metadata": {},
   "outputs": [
    {
     "name": "stdout",
     "output_type": "stream",
     "text": [
      "5e89087655ca368959f34844\n"
     ]
    }
   ],
   "source": [
    "putFriendsEpisodeInMongo('Friends - 2x03 - The One Where Heckles Dies.en.txt')"
   ]
  },
  {
   "cell_type": "markdown",
   "metadata": {},
   "source": [
    "### Удаление"
   ]
  },
  {
   "cell_type": "code",
   "execution_count": 167,
   "metadata": {},
   "outputs": [
    {
     "name": "stdout",
     "output_type": "stream",
     "text": [
      "Input a name: Rachel\n"
     ]
    },
    {
     "data": {
      "text/plain": [
       "<pymongo.results.DeleteResult at 0x125700c30>"
      ]
     },
     "execution_count": 167,
     "metadata": {},
     "output_type": "execute_result"
    }
   ],
   "source": [
    "name1 = input('Input a name: ')\n",
    "heroes.delete_one({\"hero_name\": name1})"
   ]
  },
  {
   "cell_type": "markdown",
   "metadata": {},
   "source": [
    "### Поиск"
   ]
  },
  {
   "cell_type": "code",
   "execution_count": 176,
   "metadata": {},
   "outputs": [
    {
     "name": "stdout",
     "output_type": "stream",
     "text": [
      "Input a name: Monica\n",
      "{'_id': ObjectId('5e89050855ca368959f3483e'), 'hero_name': 'Monica', 'max_episode_id': ObjectId('5e8907fd55ca368959f34843'), 'freq': 99}\n"
     ]
    }
   ],
   "source": [
    "name2 = input('Input a name: ')\n",
    "results = heroes.find({'hero_name': name2})\n",
    "for i in results:\n",
    "    print(i)"
   ]
  },
  {
   "cell_type": "markdown",
   "metadata": {},
   "source": [
    "### Сортировка"
   ]
  },
  {
   "cell_type": "code",
   "execution_count": 189,
   "metadata": {},
   "outputs": [
    {
     "name": "stdout",
     "output_type": "stream",
     "text": [
      "{'_id': ObjectId('5e89050955ca368959f34841'), 'hero_name': 'Phoebe', 'max_episode_id': ObjectId('5e89087655ca368959f34844'), 'freq': 47}\n",
      "{'_id': ObjectId('5e89050955ca368959f34840'), 'hero_name': 'Chandler', 'max_episode_id': ObjectId('5e89087655ca368959f34844'), 'freq': 56}\n",
      "{'_id': ObjectId('5e89050855ca368959f3483f'), 'hero_name': 'Ross', 'max_episode_id': ObjectId('5e89087655ca368959f34844'), 'freq': 69}\n",
      "{'_id': ObjectId('5e89050855ca368959f3483e'), 'hero_name': 'Monica', 'max_episode_id': ObjectId('5e8907fd55ca368959f34843'), 'freq': 99}\n"
     ]
    }
   ],
   "source": [
    "res = db.heroes.find().sort( [( 'freq', 1 )] )\n",
    "for r in res:\n",
    "    print(r)"
   ]
  },
  {
   "cell_type": "markdown",
   "metadata": {},
   "source": [
    "### Агрегация"
   ]
  },
  {
   "cell_type": "code",
   "execution_count": 202,
   "metadata": {},
   "outputs": [
    {
     "name": "stdout",
     "output_type": "stream",
     "text": [
      "{'_id': ObjectId('5e8907fd55ca368959f34843'), 'Number_of_eps': 1}\n",
      "{'_id': ObjectId('5e89087655ca368959f34844'), 'Number_of_eps': 3}\n"
     ]
    }
   ],
   "source": [
    "resu = db.heroes.aggregate([{ \"$group\": {\"_id\": \"$max_episode_id\", \"Number_of_eps\": {\"$sum\":1}} }])\n",
    "for result in resu:\n",
    "    print(result)"
   ]
  },
  {
   "cell_type": "markdown",
   "metadata": {},
   "source": [
    "### Работа с текстами"
   ]
  },
  {
   "cell_type": "code",
   "execution_count": 211,
   "metadata": {},
   "outputs": [
    {
     "name": "stdout",
     "output_type": "stream",
     "text": [
      "Введите название эпизода: dirty girl\n",
      "{'_id': ObjectId('5e89064655ca368959f34842'), 'episode_name': 'The One With The Dirty Girl', 'episode_text': '[Scene: Central Perk, Ross and a beautiful blonde (Cheryl) are standing outside. The rest of the gang is watching from inside.]\\n\\nCheryl: So, thank you for the delicious dinner.\\n\\nRoss: You\\'re welcome for a delicious dinner.\\n\\n[inside]\\n\\nPhoebe: Hey what are you guys looking at?\\n\\nChandler: Ross and the most beautiful girl in the world.\\n\\nPhoebe: Yeah, come to papa.\\n\\n[Cheryl walks away and Ross walks inside. Everyone stares at him in disbelief.]\\n\\nRoss: I know!\\n\\nMonica: Probably the only time I\\'ll ever say this, but did you see the ass on her?\\n\\nChandler: Where did you, when did you, how did you... (Joey hits the back of Chandler\\'s head) How did you get a girl like that?\\n\\nRachel: Yeah, so what is she, like a... like a spokesmodel, or an aerobics instructor, what?\\n\\nRoss: Actually she\\'s a paleontology doctoral candidate, specializing in the centazoic era.\\n\\nChandler: Okay, but that\\'s, like, the easiest era.\\n\\nRoss: I\\'ve seen her at work, but I always figured, ah-huh? But, uh, I made her dinner. We had a great time. And we\\'re going out again tomorrow.\\n\\nRachel: Well maybe she and her friends are just having a contest to see who can bring home the biggest geek.\\n\\nRoss: Fine by me; hope she wins.\\n\\nOpening Credits\\n\\n[Scene: Monica and Rachel\\'s. Ross, Rachel, and Phoebe are there. Chandler enters.]\\n\\nChandler: Hi. You guys have any wrapping paper?\\n\\nPhoebe: Oo! Is it for my birthday present?\\n\\nChandler: Phebes, it was your birthday, like, months ago.\\n\\nPhoebe: Yeah, but remember you said you ordered something special, and it just hasn\\'t come yet?\\n\\nChandler: Well, I have a call in about that.\\n\\nPhoebe: \\'Kay.\\n\\nChandler: Actually, this is for Kathy\\'s birthday. It\\'s an early edition of her favorite book.\\n\\nRachel: Oh, The Velveteen Rabbit! Oh my God, when the boy\\'s love makes the rabbit real!\\n\\nChandler: Okay, but don\\'t touch it, because you fingers have destructive oils.\\n\\nRachel: Huh. Well, then you\\'d better keep it away from Ross\\'s hair. So this is pretty rare. How did you get that?\\n\\nChandler: Oh, it wasn\\'t a big deal. I just went to a couple of bookstores, talked to a couple of dealers... called a couple of the author\\'s grandchildren.\\n\\nRachel: Oh, honey, that\\'s so sweet.\\n\\nPhoebe: Yeah, and what a great way to say, \"I secretly love you, roommate\\'s girlfriend!\"\\n\\nChandler: It doesn\\'t say that. Does it?\\n\\nRoss: How do you think it\\'s gonna look when you get her something incredibly meaningful and expensive and her boyfriend Joey gives her an orange?\\n\\nChandler: Okay, all right, I\\'ll just uh, make sure that uh, Joey gets her something really great.\\n\\nPhoebe: It\\'s gotta be better than that book. Oo! Like a crossbow!\\n\\nMonica: (Entering from her bedroom, talking on the phone) Yeah, once again, I am sorry. Thank you. Bye. (To the gang) I just had to turn down a job catering a funeral for sixty people.\\n\\nRachel: Oh my God! What happened?\\n\\nMonica: Sixty guests.\\n\\nRoss: So, uh, why did you have to turn it down?\\n\\nMonica: Because I don\\'t have the money or the equipment to handle something that big on such short notice. I mean there\\'s no way.\\n\\nPhoebe: Wow, what is with all the negativity? You sound like Monican\\'t , not Monican... (Monica looks almost puzzled) ...Monica. Look, you know, you have been playing around with this catering thing for over three years. Do you want to be a caterer or not?\\n\\nMonica: I don\\'t know.\\n\\nPhoebe: There you go, that\\'s the spirit! Okay! Now, if you need money, I will lend you money, but just get moving!\\n\\nMonica: Really? Cause I\\'d need like $500 for all the food and the supplies and stuff.\\n\\nPhoebe: Okay! It\\'s worth it, if it will get you moving. You haven\\'t worked in months.\\n\\nMonica: Well, you\\'re not working either.\\n\\nPhoebe: Yes, but I\\'m doing this.\\n\\nMonica: Yeah, that\\'d be great! Thank you!\\n\\n[Joey enters]\\n\\nJoey: Hey!\\n\\nEveryone: Hey.\\n\\nKathy: Can I borrow the keys to your apartment?\\n\\nJoey: Why?\\n\\n[Kathy whispers something in Joey\\'s ear]\\n\\nJoey: You can pee here!\\n\\nKathy: Ahahaha... haha.. yes I can, of course. Excuse me.\\n\\nChandler: It\\'s okay, the duck\\'s using our bathroom anyway. (Kathy goes into the bathroom.) Hey Joe! What are you getting Kathy for her birthday?\\n\\nJoey: We\\'ve only been going out for a couple of weeks, do you think I gotta get her something?\\n\\nEveryone: Yeah!\\n\\nRachel: Yes, you have to get her something, and it should be something really nice.\\n\\nJoey: Oh, I know...\\n\\nRachel: And not one of your coupons for an hour of \"Joey Love.\"\\n\\n[cut to a new scene, also in Monica and Rachel\\'s apartment. Rachel is sitting, Phoebe is nearby.]\\n\\nPhoebe: Ooo, a crossword! Can I help?\\n\\nRachel: No! I\\'m sorry, honey, it\\'s just that last week I got all but three answers and I really want to finish a whole one without any help.\\n\\nPhoebe: Fine. But you can\\'t help me develop my new universal language.\\n\\n[Monica enters]\\n\\nMonica: Hey!\\n\\nRachel: Hey, how\\'d it go?\\n\\nMonica: Oh my God, it was the best funeral ever! I mean, everyone loved the food, and guess what? I even got another funeral for tomorrow—the dead-guy-from-today\\'s best friend. I mean, it is like I am the official caterer for that accident!\\n\\nPhoebe: Mon! I\\'m so happy for you!\\n\\nMonica: Thanks. Like, check out my new catering stuff. (Picks up two frying pans) Look at this! I\\'m an omelet station! Omelet? Made to order!\\n\\nPhoebe: I\\'ll have one, please. Plus my money.\\n\\nMonica: Oh. Well, I didn\\'t realize that you needed it back right away. I mean, you told me to go and be a caterer. So I went. I beed. I mean, I... I used it to buy all this stuff. But look—I\\'ve got another job tomorrow, so I\\'ll pay you back with the money I make from that.\\n\\nPhoebe: Oh. Okay. Oo, sorry I acted like a bank.\\n\\nMonica: Okay.\\n\\n[Scene: Outside Cheryl\\'s apartment, Ross and Cheryl are kissing]\\n\\nRoss: (moved by the kiss) Huh...\\n\\nCheryl: Um, would you like to come in?\\n\\nRoss: Did homo-erectus hunt with wooden tools?\\n\\nCheryl: According to recent findings!\\n\\n[They go into the apartment. Inside the apartment it looks like a sewage dump exploded and landed in her living room. There are clothes and food and junk covering every square inch of space. I mean pigs have nicer pens. Ross is completely shocked.]\\n\\nCheryl: (throwing food around the room) Here Mitzi! Here Mitzi!\\n\\nRoss: Mitzi is.....\\n\\nCheryl: My hamster. I hope she\\'s okay, I haven\\'t seen her in a while. Have a seat.\\n\\nRoss: (mouths \"where?\") Uh... Oh hey, do you, uh (steps on some garbage and falters) ...do you have any, um, Cinnamon Fruit Toasties?\\n\\nCheryl: What?\\n\\nRoss: Well, I do! Why don\\'t we go back to my place, light a couple of candles, break open a box of Cinnamon Fruit Toasties, uh...\\n\\nCheryl: I\\'d rather not.\\n\\nRoss: Oh, yeah, why not?\\n\\nCheryl: Okay, um, don\\'t take this the wrong way, but your place kinda has a weird smell.\\n\\n[Scene: A kitchen where Phoebe and Monica are finishing up a catering job]\\n\\nMonica: Oh, is everything in the car?\\n\\nPhoebe: Yes. Did you settle the bill?\\n\\nMonica: No. I hate this part.\\n\\nPhoebe: Oh, look what we almost left. (Picks up a coffee maker)\\n\\nMonica: No, that\\'s not mine.\\n\\nPhoebe: Oh, all right. Oh! Look what we almost took!\\n\\n[cut to the living room of the same dwelling, where the funeral guests are mingling. Monica enters.]\\n\\nMonica: Excuse me, Mrs. Burkart? Well, we\\'re all cleaned up in the kitchen.\\n\\nMrs. Burkart: Oh, good. Thank you.\\n\\nMonica: Um, and, well there\\'s the.. the the small matter of...\\n\\nMrs. Burkart: Dear?\\n\\nMonica: Just the matter of ...payment?\\n\\nMrs. Burkart: (in grief) Jack used to handle the finances! (Breaks into tears)\\n\\n[Scene: Monica and Rachel\\'s, Rachel is on the couch still doing the crossword. Chandler is in the kitchen.]\\n\\nRachel: You know what we should all do? Go see a musical.\\n\\nChandler: (confused) Sure...\\n\\nRachel: And you know which one we should see? The 1996 Tony award winner. Do you happen to know the name of that one?\\n\\nChandler: I don\\'t know... um, Grease?\\n\\nRachel: No....\\n\\nChandler: Rent?\\n\\nRachel: Yes! Rent!\\n\\nChandler: Okay, so when do you want to go?\\n\\nRachel: What? Oh, I\\'m sorry, I can\\'t, I\\'m busy.\\n\\nJoey: (entering the apartment) Hey. Man, it is so hard to shop for girls.\\n\\nChandler: Yes, it is, at Office Max.\\n\\nRachel: What did you get her? (Joey opens up a rectangular black box and holds up a pen.)\\n\\nChandler: A pen.\\n\\nJoey: It\\'s two gifts in one. It\\'s a pen that\\'s also a clock! Huh?\\n\\nChandler: Huh-huh! You can\\'t give her that.\\n\\nJoey: Why not?\\n\\nChandler: Because she\\'s not eleven! And it\\'s not the seventh night of Hanukkah!\\n\\nRachel: Okay, honey, what he means by that, is ...while this is a very nice gift, maybe it\\'s just not something a boyfriend gives?\\n\\nJoey: Sure it is! She needs a pen for work, she\\'s writing, she turns it over.... \"Whoa! It\\'s time for my date with Joey!\"\\n\\nChandler: All right, look, look. What did... what did you get for Angela Delveccio for her birthday?\\n\\nJoey: She didn\\'t have a birthday while we were going out.\\n\\nChandler: For three years?\\n\\nJoey: (whining and heading toward the door) Look, it\\'s too late, and I got an audition. I can\\'t shop anymore! I...\\n\\nChandler: All right. I will go out and I will try to find something for her, okay?\\n\\nJoey: Thanks, man. And oh, while you\\'re at it, could you get her a card?\\n\\nChandler: Would you like me to write her a little poem as well?\\n\\nJoey: Or... just get a card that has a poem already in it.\\n\\n[Scene: Back in the kitchen at the funeral. Phoebe is there, Monica enters.]\\n\\nPhoebe: But Mon, you have to get our money!\\n\\nMonica: Oh, Phoebe, she couldn\\'t stop crying! With those thick glasses, her tears looked giant.\\n\\nPhoebe: I know, it\\'s tough. You know what the first thing I did after my mother\\'s funeral was?\\n\\nMonica: What?\\n\\nPhoebe: Pay the caterer! Look, I\\'ve had a lot of jobs, okay, and there are some people who just always try to get out of paying. It\\'s either, you know, \"that massage wasn\\'t long enough, or, \"I don\\'t recognize any of those songs,\" or, you know, \"these sombreros aren\\'t big enough. Bad little white girl!\"\\n\\nMonica: Okay. So what do you.... you think she\\'s faking?\\n\\nPhoebe: Well, it seems like there weren\\'t any tears \\'til you showed her the bill.\\n\\nMonica: Phoebe, she sounded pretty upset to me.\\n\\n[cut to the living room where Mrs. Burkart is now performing.]\\n\\nMrs. Burkart: (singing) You\\'re a grand ol\\' flag, you\\'re a high-flying flag, and forever in peace may you wave....\\n\\nPhoebe: She seems fine now.\\n\\nMrs. Burkart: (singing) ...emblem of the land I love. The home of....\\n\\nCommercial Break\\n\\n[Scene: Chandler and Joey\\'s, Ross and Joey are standing and talking, Ross is tying a tie.]\\n\\nJoey: So, you just left? Her place was really that bad?\\n\\nRoss: You know how you throw your jacket on a chair at the end of the day?\\n\\nJoey: Yeah.\\n\\nRoss: Well, like that, only instead of a chair, it\\'s a pile of garbage. And instead of a jacket, it\\'s a pile of garbage. And instead of the end of the day, it\\'s the end of time, and garbage is all that has survived! (Ross takes the loosely tied tie off and hands it to Joey who puts it on.) Here.\\n\\nJoey: Wow. Thanks. So, uh, what happened?\\n\\nRoss: What do you mean? Nothing happened! I had to get out of there.\\n\\nJoey: All right, so... next time, you take her to your place.\\n\\nRoss: No, I tried that. She says it has a weird smell.\\n\\nJoey: What kind of smell?\\n\\nRoss: I don\\'t know. Soap?\\n\\nJoey: All right, listen, Ross... you like this girl, right?\\n\\nRoss: Yeah.\\n\\nJoey: You wanna see her again, right?\\n\\nRoss: Yeah.\\n\\nJoey: So you\\'re gonna have to do it in the mess!\\n\\nRoss: Yeah, okay you\\'re right.\\n\\nJoey: Yeah.\\n\\nRoss: I mean, uh, who... who cares about a little sloppiness?\\n\\nJoey: Yeah!\\n\\nRoss: It\\'s, uh... it\\'s endearing, really.\\n\\nJoey: All right! Now you go get that beautiful pig! (Ross hesitates, looks unsure) Oink!\\n\\n[Scene: Monica and Rachel, Rachel is there, Chandler enters.]\\n\\nChandler: Okay, all right. I just spent the entire afternoon looking for a present for Kathy that would be better than the rabbit.\\n\\nRachel: Any luck?\\n\\nChandler: Oh, yeah. Yeah, I found this great place called \"Invisible things for Kathy.\" (Motions to an imaginary pile of presents next to him.) Can you give me a hand with all this stuff?\\n\\nRachel: All right, look. Why don\\'t you just return the book, let Joey give her the clock pen, and you give her something worse than that. Like... a regular pen.\\n\\nChandler: She\\'s really going to love this, you know? The bottom line is I want her to have it, even if I don\\'t get to be the one who gives it to her.\\n\\nRachel: Aw, honey, that\\'s so sweet.\\n\\nChandler: Yeah? You don\\'t think it\\'s just pathetic?\\n\\nRachel: Oh! Pathetic! (Grabs the crossword puzzle and starts writing.)\\n\\nJoey: (entering) Hey! I\\'m meeting Kathy in ten minutes! I\\'ve been looking all over for you!\\n\\nChandler: Where?\\n\\nJoey: Our place, the hall! I...\\n\\nChandler: I got something for her. (Joey picks up the package, shakes it next to his ear, can\\'t hear anything, switches ears, shakes it again.) It\\'s a book!\\n\\nJoey: (Unimpressed) A book? (Suddenly interested) Is it like a book that\\'s also a safe?\\n\\nChandler: No, it\\'s a book that\\'s just a book, okay? It\\'s an early edition of the Velveteen Rabbit. It was her favorite book as a kid. So, uh, just... let me know if she likes it, okay?\\n\\nJoey: You got it. Thanks man. Thanks for doing this, I owe you one. (Joey leaves, comes back in.) Oh, hey! There wasn\\'t any change from that twenty, was there?\\n\\nChandler: No, it came out to an even twenty.\\n\\nJoey: Wow. That\\'s almost as much as a new book.\\n\\n[Scene: In the living room at the funeral]\\n\\nMrs. Burkart: (singing) Jeepers, creepers, where\\'d you get those peepers? Jeepers, creepers, where\\'d you get those eyes?\\n\\n[cut to Monica and Phoebe in the kitchen]\\n\\nPhoebe: You didn\\'t get the money, did you?\\n\\nMonica: Maybe I can try at intermission? Phoebe, come on... you know what? Let\\'s just go!\\n\\nPhoebe: No! Hey, we\\'re not leaving until we get paid! I don\\'t know who she thinks she is! Enough is enough! (Phoebe goes into the living room.) Hey, widow?\\n\\nMrs. Burkart: (Singing) Come on along and listen to...\\n\\nPhoebe: Okay, Widow!\\n\\nMrs. Burkart: (Singing) ...the lullabye of...\\n\\nPhoebe: Excuse me. Excuse me! (Mrs. Bukart stops singing) Thanks. Um, clearly this is a very, very hard time for you. Um, but, um, we provided a service, and we deserve to be paid because you ate that service, and, um, we are not leaving here until we\\'re paid every penny. \\'Cause you know what, lady? We\\'re part time caterers, and we have no place else to go.\\n\\nMrs. Burkart: All right. I\\'ll get my bag.\\n\\nPhoebe: Good. (Phoebe and Mrs. Burkart go into the other room, leaving Monica with everyone staring at her.)\\n\\nMonica: I\\'m gonna leave some cards here. Please think of us for you next event.\\n\\n[Scene: Outside Cheryl\\'s apartment.]\\n\\nCheryl: So you want to come inside?\\n\\nRoss: (mustering up courage) Yes. Yes I do. (They go inside.)\\n\\nCheryl: I\\'ll be right back. Make yourself comfortable. (Ross attempts to clear a place for his coat and fold it small enough to fit. Then hit sits on the couch. Something falls on him from above and he brushes his neck off frantically.)\\n\\nCheryl: (sneaking up behind Ross) Guess who?\\n\\nRoss: Department of Sanitation?\\n\\nCheryl: It\\'s me!\\n\\nRoss: Oh! (She kisses him) Ah. (They kiss more, and move down onto the couch. Ross\\'s hand moves under some garbage) Aw! (His hand is covered with something brown and gooey.)\\n\\nCheryl: What?\\n\\nRoss: (trying to make his disgust into lust) Ah, Cheryl!\\n\\nCheryl: Oh, Ross!\\n\\n[They sit up, moaning in excitement, and Cheryl straddles Ross. Ross finds a slice of bologna and moans higher and louder, then a bag of potato chips on the coffee table starts to move. Ross throws Cheryl off his lap, grabs a tennis racket and a toilet brush and starts pounding the bag.]\\n\\nCheryl: Wait! No! No! It\\'s my hamster! It\\'s Mitzi!\\n\\nRoss: Oh my god! I\\'m so sorry, Cheryl. I must have freaked out.\\n\\nCheryl: (looking in the bag) Oh, thank god, it\\'s not Mitzi. It\\'s just a rat.\\n\\n[Scene: Central Perk. Rachel is sitting on the couch alone working on a crossword puzzle. Gunther is there, going into the back room.]\\n\\nRachel: I did it! Oh! I finished it! I did it all by myself! And there\\'s nobody to hug!\\n\\n[From the background we hear a crash and Gunther comes running out of the back room, pushing people aside, reaching for Rachel.]\\n\\nGunther: Move!\\n\\n[Gunther slips and falls just before reaching the back of the couch. Monica and Phoebe come into Central Perk.]\\n\\nRachel: Hey! Hey, you guys, I finished the crossword all by myself! Hug me!\\n\\n[Gunther gets up slowly from behind the couch and walks away sadly]\\n\\nPhoebe: Uh... yay!\\n\\nRachel: Thanks!\\n\\nMonica: Oh, that\\'s great! Congratulations!\\n\\nRachel: Thank you! Hey, how\\'d the catering go?\\n\\nMonica: Oh, it was great! The widow wouldn\\'t pay, so Phoebe yelled at her \\'til she did.\\n\\nPhoebe: Yeah. I\\'m a hard ass.\\n\\nMonica: And I\\'m a wuss. And we should be partners.\\n\\nPhoebe: Yeah. Hard Ass and Wuss. We could fight crime!\\n\\nMonica: Wait a minute, Phoebe! We should be partners. We should be catering partners. I mean, think about it! You\\'re not working right now, and we have such a great time together!\\n\\nPhoebe: Okay!\\n\\nMonica: I can cook and you can take care of the money.\\n\\nPhoebe: Yeah. Oh! It\\'ll be like I have a wife in the fifties!\\n\\nBoth: (screaming with excitement) Aah!\\n\\n[Scene: Chandler and Joey\\'s, Chandler is there, Joey enters.]\\n\\nJoey: Hey!\\n\\nChandler: Hey, how\\'d it go? How\\'d she like the gift?\\n\\nJoey: Oh, man, she loved it! She\\'s over there showing Monica and Rachel right now.\\n\\nChandler: Oh yeah? That\\'s great!\\n\\nJoey: Hey, listen, I gotta tell ya, I feel kinda bad taking credit for this, because man, am I gonna get a lot of credit for this!\\n\\nChandler: [nodding, with mixed feelings] Aahhuuhhh....\\n\\n[Kathy enters]\\n\\nKathy: Hey.\\n\\nJoey: Hey!\\n\\nChandler: Hey! Happy birthday.\\n\\nKathy: Thank you!\\n\\nJoey: You know, uh... [Joey moves the pen case out onto the counter.] Chandler got you a gift, too.\\n\\nChandler: No he didn\\'t. [Moving it back.]\\n\\nJoey: Yeah, he did, look... look, it\\'s right there on the counter! Ha-ho-ho!\\n\\nChandler: Happy birthday! I\\'m sorry.\\n\\nKathy: You really didn\\'t have to. (Opens the box) Wow.\\n\\nChandler: See, you think it\\'s just a pen, but then you turn it over and it\\'s also a clock.\\n\\nKathy: Yeah. No, this is great. Thank you, Chandler. (They hug).\\n\\nChandler: Oh, yeah... yeah.\\n\\nJoey: Ah. Hm. (To Kathy) Wanna go to bed?\\n\\nKathy: I\\'ll be in in a minute.\\n\\nJoey: Oh, uh... don\\'t forget your coupon. (Tries to strike a sexy pose up against the doorway to his room. Then goes inside).\\n\\nChandler: [to Kathy] Goodnight.\\n\\nKathy: Um, thank you for the gift.\\n\\nChandler: Oh, uh, yeah... I just knew that sometimes when you\\'re writing, you... you don\\'t always know the exact time.\\n\\nKathy: No, I... I didn\\'t mean the pen. Thank you for the book.\\n\\nChandler: Uh, the book?\\n\\nKathy: The Velveteen Rabbit. I kinda have the feeling you had something to do with it.\\n\\nChandler: What do you mean?\\n\\nKathy: Well, uh, when Joey gave it to me, he said, \"This is \\'cause I know ya like Rabbits, and I know ya like cheese.\" Thanks. I love it. And I know how hard it must have been for you to find.\\n\\nChandler: (tongue-tied) Uhl..ell. By the way, in case you missed that, that sound was, \"Uhl, ell.\"\\n\\nKathy: You must really like... Joey... to go to all that trouble for him.\\n\\nChandler: Oh, yeah, he\\'s my... he\\'s my best friend.\\n\\nKathy: Well....\\n\\nChandler: Goodnight. (Goes to his room.)\\n\\nJoey: (opening bedroom door) Hey, that coupon expires, you know.\\n\\nClosing Credits\\n\\n[Scene: Outside Cheryl\\'s apartment, Monica knocks on Cheryl\\'s door]\\n\\nMonica: Hi. Uh, you... you don\\'t know me, I\\'m Monica Geller... Ross\\'s sister.\\n\\nCheryl: Oh, yeah. Oh, you know, that\\'s too bad that didn\\'t work out.\\n\\nMonica: Yeah. Anyway, he told me about your apartment. And, um, I couldn\\'t sleep, thinking about it. So, uh, would it be okay if I cleaned it?\\n\\n[Cheryl shrugs, shuts the door, looking puzzled]\\n\\nMonica: No?\\n\\n[Monica looks around the hallway, pulls out a sponge and starts scrubbing the door frame.]\\n\\nEnd', 'episode_info': {'episode_season': '4', 'episode_numb': '06', 'episode_keywords': ['ross', 'phoebe', 'chandler', 'joey', 'monica', 'cheryl', 'rachel', 'like', 'kathy', 'know', 'okay', 'thank', 'thanks', 'hey guy look', 'scene', 'caterer', 'book', 'yeah come', 'pen', 'mrs', 'room', 'right', 'apartment', 'place', 'turn job catering funeral', 'time', 'couple', 'inside', 'love', 'hard', 'think', 'money', 'mean', 'start', 'yes', 'great', 'sing', 'singing', 'door', 'food', 'girl', 'opening', 'opens', 'tie', 'stuff', 'birthday', 'cut new', 'enters', 'entering', 'enter', 'break open box', 'crossword', 'bag', 'breaks tear', 'garbage', 'home big', 'coupon', 'little', 'inch', 'award', 'gunther', 'talk', 'use', 'work', 'way', 'picks', 'pick', 'leave', 'wow', 'credits', 'credit', 'excuse', 'bad', 'ear', 'write', 'burkart', 'huh', 'kitchen', 'sound', 'pile', 'smell', 'flag high', 'gift', 'service', 'brush', 'moan excitement', 'end', 'jeepers', 'coffee', 'sit', 'sits', 'hand', 'best', 'throw', 'puzzle']}}\n",
      "{'_id': ObjectId('5e8907fd55ca368959f34843'), 'episode_name': 'The One With The Dirty Girl', 'episode_text': '[Scene: Central Perk, Ross and a beautiful blonde (Cheryl) are standing outside. The rest of the gang is watching from inside.]\\n\\nCheryl: So, thank you for the delicious dinner.\\n\\nRoss: You\\'re welcome for a delicious dinner.\\n\\n[inside]\\n\\nPhoebe: Hey what are you guys looking at?\\n\\nChandler: Ross and the most beautiful girl in the world.\\n\\nPhoebe: Yeah, come to papa.\\n\\n[Cheryl walks away and Ross walks inside. Everyone stares at him in disbelief.]\\n\\nRoss: I know!\\n\\nMonica: Probably the only time I\\'ll ever say this, but did you see the ass on her?\\n\\nChandler: Where did you, when did you, how did you... (Joey hits the back of Chandler\\'s head) How did you get a girl like that?\\n\\nRachel: Yeah, so what is she, like a... like a spokesmodel, or an aerobics instructor, what?\\n\\nRoss: Actually she\\'s a paleontology doctoral candidate, specializing in the centazoic era.\\n\\nChandler: Okay, but that\\'s, like, the easiest era.\\n\\nRoss: I\\'ve seen her at work, but I always figured, ah-huh? But, uh, I made her dinner. We had a great time. And we\\'re going out again tomorrow.\\n\\nRachel: Well maybe she and her friends are just having a contest to see who can bring home the biggest geek.\\n\\nRoss: Fine by me; hope she wins.\\n\\nOpening Credits\\n\\n[Scene: Monica and Rachel\\'s. Ross, Rachel, and Phoebe are there. Chandler enters.]\\n\\nChandler: Hi. You guys have any wrapping paper?\\n\\nPhoebe: Oo! Is it for my birthday present?\\n\\nChandler: Phebes, it was your birthday, like, months ago.\\n\\nPhoebe: Yeah, but remember you said you ordered something special, and it just hasn\\'t come yet?\\n\\nChandler: Well, I have a call in about that.\\n\\nPhoebe: \\'Kay.\\n\\nChandler: Actually, this is for Kathy\\'s birthday. It\\'s an early edition of her favorite book.\\n\\nRachel: Oh, The Velveteen Rabbit! Oh my God, when the boy\\'s love makes the rabbit real!\\n\\nChandler: Okay, but don\\'t touch it, because you fingers have destructive oils.\\n\\nRachel: Huh. Well, then you\\'d better keep it away from Ross\\'s hair. So this is pretty rare. How did you get that?\\n\\nChandler: Oh, it wasn\\'t a big deal. I just went to a couple of bookstores, talked to a couple of dealers... called a couple of the author\\'s grandchildren.\\n\\nRachel: Oh, honey, that\\'s so sweet.\\n\\nPhoebe: Yeah, and what a great way to say, \"I secretly love you, roommate\\'s girlfriend!\"\\n\\nChandler: It doesn\\'t say that. Does it?\\n\\nRoss: How do you think it\\'s gonna look when you get her something incredibly meaningful and expensive and her boyfriend Joey gives her an orange?\\n\\nChandler: Okay, all right, I\\'ll just uh, make sure that uh, Joey gets her something really great.\\n\\nPhoebe: It\\'s gotta be better than that book. Oo! Like a crossbow!\\n\\nMonica: (Entering from her bedroom, talking on the phone) Yeah, once again, I am sorry. Thank you. Bye. (To the gang) I just had to turn down a job catering a funeral for sixty people.\\n\\nRachel: Oh my God! What happened?\\n\\nMonica: Sixty guests.\\n\\nRoss: So, uh, why did you have to turn it down?\\n\\nMonica: Because I don\\'t have the money or the equipment to handle something that big on such short notice. I mean there\\'s no way.\\n\\nPhoebe: Wow, what is with all the negativity? You sound like Monican\\'t , not Monican... (Monica looks almost puzzled) ...Monica. Look, you know, you have been playing around with this catering thing for over three years. Do you want to be a caterer or not?\\n\\nMonica: I don\\'t know.\\n\\nPhoebe: There you go, that\\'s the spirit! Okay! Now, if you need money, I will lend you money, but just get moving!\\n\\nMonica: Really? Cause I\\'d need like $500 for all the food and the supplies and stuff.\\n\\nPhoebe: Okay! It\\'s worth it, if it will get you moving. You haven\\'t worked in months.\\n\\nMonica: Well, you\\'re not working either.\\n\\nPhoebe: Yes, but I\\'m doing this.\\n\\nMonica: Yeah, that\\'d be great! Thank you!\\n\\n[Joey enters]\\n\\nJoey: Hey!\\n\\nEveryone: Hey.\\n\\nKathy: Can I borrow the keys to your apartment?\\n\\nJoey: Why?\\n\\n[Kathy whispers something in Joey\\'s ear]\\n\\nJoey: You can pee here!\\n\\nKathy: Ahahaha... haha.. yes I can, of course. Excuse me.\\n\\nChandler: It\\'s okay, the duck\\'s using our bathroom anyway. (Kathy goes into the bathroom.) Hey Joe! What are you getting Kathy for her birthday?\\n\\nJoey: We\\'ve only been going out for a couple of weeks, do you think I gotta get her something?\\n\\nEveryone: Yeah!\\n\\nRachel: Yes, you have to get her something, and it should be something really nice.\\n\\nJoey: Oh, I know...\\n\\nRachel: And not one of your coupons for an hour of \"Joey Love.\"\\n\\n[cut to a new scene, also in Monica and Rachel\\'s apartment. Rachel is sitting, Phoebe is nearby.]\\n\\nPhoebe: Ooo, a crossword! Can I help?\\n\\nRachel: No! I\\'m sorry, honey, it\\'s just that last week I got all but three answers and I really want to finish a whole one without any help.\\n\\nPhoebe: Fine. But you can\\'t help me develop my new universal language.\\n\\n[Monica enters]\\n\\nMonica: Hey!\\n\\nRachel: Hey, how\\'d it go?\\n\\nMonica: Oh my God, it was the best funeral ever! I mean, everyone loved the food, and guess what? I even got another funeral for tomorrow—the dead-guy-from-today\\'s best friend. I mean, it is like I am the official caterer for that accident!\\n\\nPhoebe: Mon! I\\'m so happy for you!\\n\\nMonica: Thanks. Like, check out my new catering stuff. (Picks up two frying pans) Look at this! I\\'m an omelet station! Omelet? Made to order!\\n\\nPhoebe: I\\'ll have one, please. Plus my money.\\n\\nMonica: Oh. Well, I didn\\'t realize that you needed it back right away. I mean, you told me to go and be a caterer. So I went. I beed. I mean, I... I used it to buy all this stuff. But look—I\\'ve got another job tomorrow, so I\\'ll pay you back with the money I make from that.\\n\\nPhoebe: Oh. Okay. Oo, sorry I acted like a bank.\\n\\nMonica: Okay.\\n\\n[Scene: Outside Cheryl\\'s apartment, Ross and Cheryl are kissing]\\n\\nRoss: (moved by the kiss) Huh...\\n\\nCheryl: Um, would you like to come in?\\n\\nRoss: Did homo-erectus hunt with wooden tools?\\n\\nCheryl: According to recent findings!\\n\\n[They go into the apartment. Inside the apartment it looks like a sewage dump exploded and landed in her living room. There are clothes and food and junk covering every square inch of space. I mean pigs have nicer pens. Ross is completely shocked.]\\n\\nCheryl: (throwing food around the room) Here Mitzi! Here Mitzi!\\n\\nRoss: Mitzi is.....\\n\\nCheryl: My hamster. I hope she\\'s okay, I haven\\'t seen her in a while. Have a seat.\\n\\nRoss: (mouths \"where?\") Uh... Oh hey, do you, uh (steps on some garbage and falters) ...do you have any, um, Cinnamon Fruit Toasties?\\n\\nCheryl: What?\\n\\nRoss: Well, I do! Why don\\'t we go back to my place, light a couple of candles, break open a box of Cinnamon Fruit Toasties, uh...\\n\\nCheryl: I\\'d rather not.\\n\\nRoss: Oh, yeah, why not?\\n\\nCheryl: Okay, um, don\\'t take this the wrong way, but your place kinda has a weird smell.\\n\\n[Scene: A kitchen where Phoebe and Monica are finishing up a catering job]\\n\\nMonica: Oh, is everything in the car?\\n\\nPhoebe: Yes. Did you settle the bill?\\n\\nMonica: No. I hate this part.\\n\\nPhoebe: Oh, look what we almost left. (Picks up a coffee maker)\\n\\nMonica: No, that\\'s not mine.\\n\\nPhoebe: Oh, all right. Oh! Look what we almost took!\\n\\n[cut to the living room of the same dwelling, where the funeral guests are mingling. Monica enters.]\\n\\nMonica: Excuse me, Mrs. Burkart? Well, we\\'re all cleaned up in the kitchen.\\n\\nMrs. Burkart: Oh, good. Thank you.\\n\\nMonica: Um, and, well there\\'s the.. the the small matter of...\\n\\nMrs. Burkart: Dear?\\n\\nMonica: Just the matter of ...payment?\\n\\nMrs. Burkart: (in grief) Jack used to handle the finances! (Breaks into tears)\\n\\n[Scene: Monica and Rachel\\'s, Rachel is on the couch still doing the crossword. Chandler is in the kitchen.]\\n\\nRachel: You know what we should all do? Go see a musical.\\n\\nChandler: (confused) Sure...\\n\\nRachel: And you know which one we should see? The 1996 Tony award winner. Do you happen to know the name of that one?\\n\\nChandler: I don\\'t know... um, Grease?\\n\\nRachel: No....\\n\\nChandler: Rent?\\n\\nRachel: Yes! Rent!\\n\\nChandler: Okay, so when do you want to go?\\n\\nRachel: What? Oh, I\\'m sorry, I can\\'t, I\\'m busy.\\n\\nJoey: (entering the apartment) Hey. Man, it is so hard to shop for girls.\\n\\nChandler: Yes, it is, at Office Max.\\n\\nRachel: What did you get her? (Joey opens up a rectangular black box and holds up a pen.)\\n\\nChandler: A pen.\\n\\nJoey: It\\'s two gifts in one. It\\'s a pen that\\'s also a clock! Huh?\\n\\nChandler: Huh-huh! You can\\'t give her that.\\n\\nJoey: Why not?\\n\\nChandler: Because she\\'s not eleven! And it\\'s not the seventh night of Hanukkah!\\n\\nRachel: Okay, honey, what he means by that, is ...while this is a very nice gift, maybe it\\'s just not something a boyfriend gives?\\n\\nJoey: Sure it is! She needs a pen for work, she\\'s writing, she turns it over.... \"Whoa! It\\'s time for my date with Joey!\"\\n\\nChandler: All right, look, look. What did... what did you get for Angela Delveccio for her birthday?\\n\\nJoey: She didn\\'t have a birthday while we were going out.\\n\\nChandler: For three years?\\n\\nJoey: (whining and heading toward the door) Look, it\\'s too late, and I got an audition. I can\\'t shop anymore! I...\\n\\nChandler: All right. I will go out and I will try to find something for her, okay?\\n\\nJoey: Thanks, man. And oh, while you\\'re at it, could you get her a card?\\n\\nChandler: Would you like me to write her a little poem as well?\\n\\nJoey: Or... just get a card that has a poem already in it.\\n\\n[Scene: Back in the kitchen at the funeral. Phoebe is there, Monica enters.]\\n\\nPhoebe: But Mon, you have to get our money!\\n\\nMonica: Oh, Phoebe, she couldn\\'t stop crying! With those thick glasses, her tears looked giant.\\n\\nPhoebe: I know, it\\'s tough. You know what the first thing I did after my mother\\'s funeral was?\\n\\nMonica: What?\\n\\nPhoebe: Pay the caterer! Look, I\\'ve had a lot of jobs, okay, and there are some people who just always try to get out of paying. It\\'s either, you know, \"that massage wasn\\'t long enough, or, \"I don\\'t recognize any of those songs,\" or, you know, \"these sombreros aren\\'t big enough. Bad little white girl!\"\\n\\nMonica: Okay. So what do you.... you think she\\'s faking?\\n\\nPhoebe: Well, it seems like there weren\\'t any tears \\'til you showed her the bill.\\n\\nMonica: Phoebe, she sounded pretty upset to me.\\n\\n[cut to the living room where Mrs. Burkart is now performing.]\\n\\nMrs. Burkart: (singing) You\\'re a grand ol\\' flag, you\\'re a high-flying flag, and forever in peace may you wave....\\n\\nPhoebe: She seems fine now.\\n\\nMrs. Burkart: (singing) ...emblem of the land I love. The home of....\\n\\nCommercial Break\\n\\n[Scene: Chandler and Joey\\'s, Ross and Joey are standing and talking, Ross is tying a tie.]\\n\\nJoey: So, you just left? Her place was really that bad?\\n\\nRoss: You know how you throw your jacket on a chair at the end of the day?\\n\\nJoey: Yeah.\\n\\nRoss: Well, like that, only instead of a chair, it\\'s a pile of garbage. And instead of a jacket, it\\'s a pile of garbage. And instead of the end of the day, it\\'s the end of time, and garbage is all that has survived! (Ross takes the loosely tied tie off and hands it to Joey who puts it on.) Here.\\n\\nJoey: Wow. Thanks. So, uh, what happened?\\n\\nRoss: What do you mean? Nothing happened! I had to get out of there.\\n\\nJoey: All right, so... next time, you take her to your place.\\n\\nRoss: No, I tried that. She says it has a weird smell.\\n\\nJoey: What kind of smell?\\n\\nRoss: I don\\'t know. Soap?\\n\\nJoey: All right, listen, Ross... you like this girl, right?\\n\\nRoss: Yeah.\\n\\nJoey: You wanna see her again, right?\\n\\nRoss: Yeah.\\n\\nJoey: So you\\'re gonna have to do it in the mess!\\n\\nRoss: Yeah, okay you\\'re right.\\n\\nJoey: Yeah.\\n\\nRoss: I mean, uh, who... who cares about a little sloppiness?\\n\\nJoey: Yeah!\\n\\nRoss: It\\'s, uh... it\\'s endearing, really.\\n\\nJoey: All right! Now you go get that beautiful pig! (Ross hesitates, looks unsure) Oink!\\n\\n[Scene: Monica and Rachel, Rachel is there, Chandler enters.]\\n\\nChandler: Okay, all right. I just spent the entire afternoon looking for a present for Kathy that would be better than the rabbit.\\n\\nRachel: Any luck?\\n\\nChandler: Oh, yeah. Yeah, I found this great place called \"Invisible things for Kathy.\" (Motions to an imaginary pile of presents next to him.) Can you give me a hand with all this stuff?\\n\\nRachel: All right, look. Why don\\'t you just return the book, let Joey give her the clock pen, and you give her something worse than that. Like... a regular pen.\\n\\nChandler: She\\'s really going to love this, you know? The bottom line is I want her to have it, even if I don\\'t get to be the one who gives it to her.\\n\\nRachel: Aw, honey, that\\'s so sweet.\\n\\nChandler: Yeah? You don\\'t think it\\'s just pathetic?\\n\\nRachel: Oh! Pathetic! (Grabs the crossword puzzle and starts writing.)\\n\\nJoey: (entering) Hey! I\\'m meeting Kathy in ten minutes! I\\'ve been looking all over for you!\\n\\nChandler: Where?\\n\\nJoey: Our place, the hall! I...\\n\\nChandler: I got something for her. (Joey picks up the package, shakes it next to his ear, can\\'t hear anything, switches ears, shakes it again.) It\\'s a book!\\n\\nJoey: (Unimpressed) A book? (Suddenly interested) Is it like a book that\\'s also a safe?\\n\\nChandler: No, it\\'s a book that\\'s just a book, okay? It\\'s an early edition of the Velveteen Rabbit. It was her favorite book as a kid. So, uh, just... let me know if she likes it, okay?\\n\\nJoey: You got it. Thanks man. Thanks for doing this, I owe you one. (Joey leaves, comes back in.) Oh, hey! There wasn\\'t any change from that twenty, was there?\\n\\nChandler: No, it came out to an even twenty.\\n\\nJoey: Wow. That\\'s almost as much as a new book.\\n\\n[Scene: In the living room at the funeral]\\n\\nMrs. Burkart: (singing) Jeepers, creepers, where\\'d you get those peepers? Jeepers, creepers, where\\'d you get those eyes?\\n\\n[cut to Monica and Phoebe in the kitchen]\\n\\nPhoebe: You didn\\'t get the money, did you?\\n\\nMonica: Maybe I can try at intermission? Phoebe, come on... you know what? Let\\'s just go!\\n\\nPhoebe: No! Hey, we\\'re not leaving until we get paid! I don\\'t know who she thinks she is! Enough is enough! (Phoebe goes into the living room.) Hey, widow?\\n\\nMrs. Burkart: (Singing) Come on along and listen to...\\n\\nPhoebe: Okay, Widow!\\n\\nMrs. Burkart: (Singing) ...the lullabye of...\\n\\nPhoebe: Excuse me. Excuse me! (Mrs. Bukart stops singing) Thanks. Um, clearly this is a very, very hard time for you. Um, but, um, we provided a service, and we deserve to be paid because you ate that service, and, um, we are not leaving here until we\\'re paid every penny. \\'Cause you know what, lady? We\\'re part time caterers, and we have no place else to go.\\n\\nMrs. Burkart: All right. I\\'ll get my bag.\\n\\nPhoebe: Good. (Phoebe and Mrs. Burkart go into the other room, leaving Monica with everyone staring at her.)\\n\\nMonica: I\\'m gonna leave some cards here. Please think of us for you next event.\\n\\n[Scene: Outside Cheryl\\'s apartment.]\\n\\nCheryl: So you want to come inside?\\n\\nRoss: (mustering up courage) Yes. Yes I do. (They go inside.)\\n\\nCheryl: I\\'ll be right back. Make yourself comfortable. (Ross attempts to clear a place for his coat and fold it small enough to fit. Then hit sits on the couch. Something falls on him from above and he brushes his neck off frantically.)\\n\\nCheryl: (sneaking up behind Ross) Guess who?\\n\\nRoss: Department of Sanitation?\\n\\nCheryl: It\\'s me!\\n\\nRoss: Oh! (She kisses him) Ah. (They kiss more, and move down onto the couch. Ross\\'s hand moves under some garbage) Aw! (His hand is covered with something brown and gooey.)\\n\\nCheryl: What?\\n\\nRoss: (trying to make his disgust into lust) Ah, Cheryl!\\n\\nCheryl: Oh, Ross!\\n\\n[They sit up, moaning in excitement, and Cheryl straddles Ross. Ross finds a slice of bologna and moans higher and louder, then a bag of potato chips on the coffee table starts to move. Ross throws Cheryl off his lap, grabs a tennis racket and a toilet brush and starts pounding the bag.]\\n\\nCheryl: Wait! No! No! It\\'s my hamster! It\\'s Mitzi!\\n\\nRoss: Oh my god! I\\'m so sorry, Cheryl. I must have freaked out.\\n\\nCheryl: (looking in the bag) Oh, thank god, it\\'s not Mitzi. It\\'s just a rat.\\n\\n[Scene: Central Perk. Rachel is sitting on the couch alone working on a crossword puzzle. Gunther is there, going into the back room.]\\n\\nRachel: I did it! Oh! I finished it! I did it all by myself! And there\\'s nobody to hug!\\n\\n[From the background we hear a crash and Gunther comes running out of the back room, pushing people aside, reaching for Rachel.]\\n\\nGunther: Move!\\n\\n[Gunther slips and falls just before reaching the back of the couch. Monica and Phoebe come into Central Perk.]\\n\\nRachel: Hey! Hey, you guys, I finished the crossword all by myself! Hug me!\\n\\n[Gunther gets up slowly from behind the couch and walks away sadly]\\n\\nPhoebe: Uh... yay!\\n\\nRachel: Thanks!\\n\\nMonica: Oh, that\\'s great! Congratulations!\\n\\nRachel: Thank you! Hey, how\\'d the catering go?\\n\\nMonica: Oh, it was great! The widow wouldn\\'t pay, so Phoebe yelled at her \\'til she did.\\n\\nPhoebe: Yeah. I\\'m a hard ass.\\n\\nMonica: And I\\'m a wuss. And we should be partners.\\n\\nPhoebe: Yeah. Hard Ass and Wuss. We could fight crime!\\n\\nMonica: Wait a minute, Phoebe! We should be partners. We should be catering partners. I mean, think about it! You\\'re not working right now, and we have such a great time together!\\n\\nPhoebe: Okay!\\n\\nMonica: I can cook and you can take care of the money.\\n\\nPhoebe: Yeah. Oh! It\\'ll be like I have a wife in the fifties!\\n\\nBoth: (screaming with excitement) Aah!\\n\\n[Scene: Chandler and Joey\\'s, Chandler is there, Joey enters.]\\n\\nJoey: Hey!\\n\\nChandler: Hey, how\\'d it go? How\\'d she like the gift?\\n\\nJoey: Oh, man, she loved it! She\\'s over there showing Monica and Rachel right now.\\n\\nChandler: Oh yeah? That\\'s great!\\n\\nJoey: Hey, listen, I gotta tell ya, I feel kinda bad taking credit for this, because man, am I gonna get a lot of credit for this!\\n\\nChandler: [nodding, with mixed feelings] Aahhuuhhh....\\n\\n[Kathy enters]\\n\\nKathy: Hey.\\n\\nJoey: Hey!\\n\\nChandler: Hey! Happy birthday.\\n\\nKathy: Thank you!\\n\\nJoey: You know, uh... [Joey moves the pen case out onto the counter.] Chandler got you a gift, too.\\n\\nChandler: No he didn\\'t. [Moving it back.]\\n\\nJoey: Yeah, he did, look... look, it\\'s right there on the counter! Ha-ho-ho!\\n\\nChandler: Happy birthday! I\\'m sorry.\\n\\nKathy: You really didn\\'t have to. (Opens the box) Wow.\\n\\nChandler: See, you think it\\'s just a pen, but then you turn it over and it\\'s also a clock.\\n\\nKathy: Yeah. No, this is great. Thank you, Chandler. (They hug).\\n\\nChandler: Oh, yeah... yeah.\\n\\nJoey: Ah. Hm. (To Kathy) Wanna go to bed?\\n\\nKathy: I\\'ll be in in a minute.\\n\\nJoey: Oh, uh... don\\'t forget your coupon. (Tries to strike a sexy pose up against the doorway to his room. Then goes inside).\\n\\nChandler: [to Kathy] Goodnight.\\n\\nKathy: Um, thank you for the gift.\\n\\nChandler: Oh, uh, yeah... I just knew that sometimes when you\\'re writing, you... you don\\'t always know the exact time.\\n\\nKathy: No, I... I didn\\'t mean the pen. Thank you for the book.\\n\\nChandler: Uh, the book?\\n\\nKathy: The Velveteen Rabbit. I kinda have the feeling you had something to do with it.\\n\\nChandler: What do you mean?\\n\\nKathy: Well, uh, when Joey gave it to me, he said, \"This is \\'cause I know ya like Rabbits, and I know ya like cheese.\" Thanks. I love it. And I know how hard it must have been for you to find.\\n\\nChandler: (tongue-tied) Uhl..ell. By the way, in case you missed that, that sound was, \"Uhl, ell.\"\\n\\nKathy: You must really like... Joey... to go to all that trouble for him.\\n\\nChandler: Oh, yeah, he\\'s my... he\\'s my best friend.\\n\\nKathy: Well....\\n\\nChandler: Goodnight. (Goes to his room.)\\n\\nJoey: (opening bedroom door) Hey, that coupon expires, you know.\\n\\nClosing Credits\\n\\n[Scene: Outside Cheryl\\'s apartment, Monica knocks on Cheryl\\'s door]\\n\\nMonica: Hi. Uh, you... you don\\'t know me, I\\'m Monica Geller... Ross\\'s sister.\\n\\nCheryl: Oh, yeah. Oh, you know, that\\'s too bad that didn\\'t work out.\\n\\nMonica: Yeah. Anyway, he told me about your apartment. And, um, I couldn\\'t sleep, thinking about it. So, uh, would it be okay if I cleaned it?\\n\\n[Cheryl shrugs, shuts the door, looking puzzled]\\n\\nMonica: No?\\n\\n[Monica looks around the hallway, pulls out a sponge and starts scrubbing the door frame.]\\n\\nEnd', 'episode_info': {'episode_season': '4', 'episode_numb': '06', 'episode_keywords': ['ross', 'phoebe', 'chandler', 'joey', 'monica', 'cheryl', 'rachel', 'like', 'kathy', 'know', 'okay', 'thank', 'thanks', 'hey guy look', 'scene', 'caterer', 'book', 'yeah come', 'pen', 'mrs', 'room', 'right', 'apartment', 'place', 'turn job catering funeral', 'time', 'couple', 'inside', 'love', 'hard', 'think', 'money', 'mean', 'start', 'yes', 'great', 'sing', 'singing', 'door', 'food', 'girl', 'opening', 'opens', 'tie', 'stuff', 'birthday', 'cut new', 'enters', 'entering', 'enter', 'break open box', 'crossword', 'bag', 'breaks tear', 'garbage', 'home big', 'coupon', 'little', 'inch', 'award', 'gunther', 'talk', 'use', 'work', 'way', 'picks', 'pick', 'leave', 'wow', 'credits', 'credit', 'excuse', 'bad', 'ear', 'write', 'burkart', 'huh', 'kitchen', 'sound', 'pile', 'smell', 'flag high', 'gift', 'service', 'brush', 'moan excitement', 'end', 'jeepers', 'coffee', 'sit', 'sits', 'hand', 'best', 'throw', 'puzzle']}}\n"
     ]
    }
   ],
   "source": [
    "episodename = input('Введите название эпизода: ')\n",
    "for d in episodes.find({'episode_name':{'$regex':'.*'+str(episodename)+'.*', \"$options\":\"i\"}}):\n",
    "    print(d)"
   ]
  },
  {
   "cell_type": "code",
   "execution_count": null,
   "metadata": {},
   "outputs": [],
   "source": []
  }
 ],
 "metadata": {
  "kernelspec": {
   "display_name": "Python 3",
   "language": "python",
   "name": "python3"
  },
  "language_info": {
   "codemirror_mode": {
    "name": "ipython",
    "version": 3
   },
   "file_extension": ".py",
   "mimetype": "text/x-python",
   "name": "python",
   "nbconvert_exporter": "python",
   "pygments_lexer": "ipython3",
   "version": "3.7.5"
  }
 },
 "nbformat": 4,
 "nbformat_minor": 2
}
